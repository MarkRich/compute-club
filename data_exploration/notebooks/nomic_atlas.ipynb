{
 "cells": [
  {
   "cell_type": "markdown",
   "metadata": {},
   "source": [
    "## Setup\n",
    "\n",
    "First, follow the instructions here to get a token (make sure you `poetry install` first). Then, do this: <https://docs.nomic.ai/> "
   ]
  },
  {
   "cell_type": "code",
   "execution_count": 1,
   "metadata": {},
   "outputs": [],
   "source": [
    "import nomic\n",
    "from nomic import atlas"
   ]
  },
  {
   "cell_type": "code",
   "execution_count": 2,
   "metadata": {},
   "outputs": [
    {
     "name": "stderr",
     "output_type": "stream",
     "text": [
      "\u001b[32m2023-07-20 14:06:56.875\u001b[0m | \u001b[33m\u001b[1mWARNING \u001b[0m | \u001b[36mnomic.atlas\u001b[0m:\u001b[36mmap_embeddings\u001b[0m:\u001b[36m91\u001b[0m - \u001b[33m\u001b[1mAn ID field was not specified in your data so one was generated for you in insertion order.\u001b[0m\n",
      "\u001b[32m2023-07-20 14:06:57.900\u001b[0m | \u001b[1mINFO    \u001b[0m | \u001b[36mnomic.project\u001b[0m:\u001b[36m_create_project\u001b[0m:\u001b[36m779\u001b[0m - \u001b[1mCreating project `square-pain` in organization `ramirustom`\u001b[0m\n",
      "\u001b[32m2023-07-20 14:07:00.108\u001b[0m | \u001b[1mINFO    \u001b[0m | \u001b[36mnomic.atlas\u001b[0m:\u001b[36mmap_embeddings\u001b[0m:\u001b[36m107\u001b[0m - \u001b[1mUploading embeddings to Atlas.\u001b[0m\n",
      "100%|██████████| 2/2 [00:05<00:00,  2.93s/it]\n",
      "\u001b[32m2023-07-20 14:07:06.046\u001b[0m | \u001b[1mINFO    \u001b[0m | \u001b[36mnomic.project\u001b[0m:\u001b[36m_add_data\u001b[0m:\u001b[36m1401\u001b[0m - \u001b[1mUpload succeeded.\u001b[0m\n",
      "\u001b[32m2023-07-20 14:07:06.051\u001b[0m | \u001b[1mINFO    \u001b[0m | \u001b[36mnomic.atlas\u001b[0m:\u001b[36mmap_embeddings\u001b[0m:\u001b[36m126\u001b[0m - \u001b[1mEmbedding upload succeeded.\u001b[0m\n",
      "\u001b[32m2023-07-20 14:07:06.903\u001b[0m | \u001b[1mINFO    \u001b[0m | \u001b[36mnomic.project\u001b[0m:\u001b[36mcreate_index\u001b[0m:\u001b[36m1111\u001b[0m - \u001b[1mCreated map `square-pain` in project `square-pain`: https://atlas.nomic.ai/map/52f16c81-6c92-45d9-8979-1955645e49c1/ef7f1efd-5014-403f-8abf-9f591cd9bc16\u001b[0m\n",
      "\u001b[32m2023-07-20 14:07:06.913\u001b[0m | \u001b[1mINFO    \u001b[0m | \u001b[36mnomic.atlas\u001b[0m:\u001b[36mmap_embeddings\u001b[0m:\u001b[36m139\u001b[0m - \u001b[1msquare-pain: https://atlas.nomic.ai/map/52f16c81-6c92-45d9-8979-1955645e49c1/ef7f1efd-5014-403f-8abf-9f591cd9bc16\u001b[0m\n"
     ]
    },
    {
     "name": "stdout",
     "output_type": "stream",
     "text": [
      "[square-pain: https://atlas.nomic.ai/map/52f16c81-6c92-45d9-8979-1955645e49c1/ef7f1efd-5014-403f-8abf-9f591cd9bc16]\n"
     ]
    }
   ],
   "source": [
    "#A map of random embeddings\n",
    "import numpy as np\n",
    "\n",
    "num_embeddings = 10000\n",
    "embeddings = np.random.rand(num_embeddings, 256)\n",
    "\n",
    "project = atlas.map_embeddings(embeddings=embeddings)\n",
    "print(project.maps)"
   ]
  },
  {
   "cell_type": "code",
   "execution_count": 3,
   "metadata": {},
   "outputs": [
    {
     "data": {
      "text/html": [
       "\n",
       "            <h3>Project: square-pain</h3>\n",
       "            <script>\n",
       "            destroy = function() {\n",
       "                document.getElementById(\"iframeef7f1efd-5014-403f-8abf-9f591cd9bc16\").remove()\n",
       "            }\n",
       "        </script>\n",
       "        <div class=\"actions\">\n",
       "            <div id=\"hide\" class=\"action\" onclick=\"destroy()\">Hide embedded project</div>\n",
       "            <div class=\"action\" id=\"out\">\n",
       "                <a href=\"https://atlas.nomic.ai/map/52f16c81-6c92-45d9-8979-1955645e49c1/ef7f1efd-5014-403f-8abf-9f591cd9bc16\" target=\"_blank\">Explore on atlas.nomic.ai</a>\n",
       "            </div>\n",
       "        </div>\n",
       "        \n",
       "        <iframe class=\"iframe\" id=\"iframeef7f1efd-5014-403f-8abf-9f591cd9bc16\" allow=\"clipboard-read; clipboard-write\" src=\"https://atlas.nomic.ai/map/52f16c81-6c92-45d9-8979-1955645e49c1/ef7f1efd-5014-403f-8abf-9f591cd9bc16\">\n",
       "        </iframe>\n",
       "\n",
       "        <style>\n",
       "            .iframe {\n",
       "                /* vh can be **very** large in vscode ipynb. */\n",
       "                height: min(75vh, 66vw);\n",
       "                width: 100%;\n",
       "            }\n",
       "        </style>\n",
       "        \n",
       "        <style>\n",
       "            .actions {\n",
       "              display: block;\n",
       "            }\n",
       "            .action {\n",
       "              min-height: 18px;\n",
       "              margin: 5px;\n",
       "              transition: all 500ms ease-in-out;\n",
       "            }\n",
       "            .action:hover {\n",
       "              cursor: pointer;\n",
       "            }\n",
       "            #hide:hover::after {\n",
       "                content: \" X\";\n",
       "            }\n",
       "            #out:hover::after {\n",
       "                content: \"\";\n",
       "            }\n",
       "        </style>\n",
       "        \n",
       "            "
      ],
      "text/plain": [
       "square-pain: https://atlas.nomic.ai/map/52f16c81-6c92-45d9-8979-1955645e49c1/ef7f1efd-5014-403f-8abf-9f591cd9bc16"
      ]
     },
     "execution_count": 3,
     "metadata": {},
     "output_type": "execute_result"
    }
   ],
   "source": [
    "# run this cell to interact with your map in \n",
    "project.maps[0]"
   ]
  },
  {
   "cell_type": "code",
   "execution_count": 4,
   "metadata": {},
   "outputs": [
    {
     "data": {
      "application/vnd.jupyter.widget-view+json": {
       "model_id": "9479eb9797d04d91a6459657b46e30d0",
       "version_major": 2,
       "version_minor": 0
      },
      "text/plain": [
       "Downloading builder script:   0%|          | 0.00/4.06k [00:00<?, ?B/s]"
      ]
     },
     "metadata": {},
     "output_type": "display_data"
    },
    {
     "data": {
      "application/vnd.jupyter.widget-view+json": {
       "model_id": "820942deb3a541bb9f9e8a5a387d4f93",
       "version_major": 2,
       "version_minor": 0
      },
      "text/plain": [
       "Downloading metadata:   0%|          | 0.00/2.65k [00:00<?, ?B/s]"
      ]
     },
     "metadata": {},
     "output_type": "display_data"
    },
    {
     "data": {
      "application/vnd.jupyter.widget-view+json": {
       "model_id": "07c6ff45009b4f179aa6d3b20b44bc71",
       "version_major": 2,
       "version_minor": 0
      },
      "text/plain": [
       "Downloading readme:   0%|          | 0.00/7.95k [00:00<?, ?B/s]"
      ]
     },
     "metadata": {},
     "output_type": "display_data"
    },
    {
     "name": "stdout",
     "output_type": "stream",
     "text": [
      "Downloading and preparing dataset ag_news/default to /Users/rami/.cache/huggingface/datasets/ag_news/default/0.0.0/bc2bcb40336ace1a0374767fc29bb0296cdaf8a6da7298436239c54d79180548...\n"
     ]
    },
    {
     "data": {
      "application/vnd.jupyter.widget-view+json": {
       "model_id": "9214b1c089f64154bfe7bc8d53e6244a",
       "version_major": 2,
       "version_minor": 0
      },
      "text/plain": [
       "Downloading data:   0%|          | 0.00/11.0M [00:00<?, ?B/s]"
      ]
     },
     "metadata": {},
     "output_type": "display_data"
    },
    {
     "data": {
      "application/vnd.jupyter.widget-view+json": {
       "model_id": "c9b64af2f590464a9d3a262efa260d84",
       "version_major": 2,
       "version_minor": 0
      },
      "text/plain": [
       "Downloading data:   0%|          | 0.00/751k [00:00<?, ?B/s]"
      ]
     },
     "metadata": {},
     "output_type": "display_data"
    },
    {
     "data": {
      "application/vnd.jupyter.widget-view+json": {
       "model_id": "82ae03af047f44f6ad002dc96bcd7162",
       "version_major": 2,
       "version_minor": 0
      },
      "text/plain": [
       "Generating train split:   0%|          | 0/120000 [00:00<?, ? examples/s]"
      ]
     },
     "metadata": {},
     "output_type": "display_data"
    },
    {
     "data": {
      "application/vnd.jupyter.widget-view+json": {
       "model_id": "954065b0e112459992b8196703114656",
       "version_major": 2,
       "version_minor": 0
      },
      "text/plain": [
       "Generating test split:   0%|          | 0/7600 [00:00<?, ? examples/s]"
      ]
     },
     "metadata": {},
     "output_type": "display_data"
    },
    {
     "name": "stdout",
     "output_type": "stream",
     "text": [
      "Dataset ag_news downloaded and prepared to /Users/rami/.cache/huggingface/datasets/ag_news/default/0.0.0/bc2bcb40336ace1a0374767fc29bb0296cdaf8a6da7298436239c54d79180548. Subsequent calls will reuse this data.\n"
     ]
    },
    {
     "data": {
      "application/vnd.jupyter.widget-view+json": {
       "model_id": "49b5fe642d414ab08f9e3ba29df00af4",
       "version_major": 2,
       "version_minor": 0
      },
      "text/plain": [
       "  0%|          | 0/2 [00:00<?, ?it/s]"
      ]
     },
     "metadata": {},
     "output_type": "display_data"
    }
   ],
   "source": [
    "from datasets import load_dataset\n",
    "\n",
    "dataset = load_dataset('ag_news')['train']\n"
   ]
  },
  {
   "cell_type": "code",
   "execution_count": 5,
   "metadata": {},
   "outputs": [
    {
     "name": "stderr",
     "output_type": "stream",
     "text": [
      "\u001b[32m2023-07-20 14:46:01.554\u001b[0m | \u001b[1mINFO    \u001b[0m | \u001b[36mnomic.project\u001b[0m:\u001b[36m_create_project\u001b[0m:\u001b[36m779\u001b[0m - \u001b[1mCreating project `faint-larva` in organization `ramirustom`\u001b[0m\n",
      "\u001b[32m2023-07-20 14:46:03.806\u001b[0m | \u001b[1mINFO    \u001b[0m | \u001b[36mnomic.atlas\u001b[0m:\u001b[36mmap_text\u001b[0m:\u001b[36m231\u001b[0m - \u001b[1mUploading text to Atlas.\u001b[0m\n",
      "\u001b[32m2023-07-20 14:46:03.810\u001b[0m | \u001b[33m\u001b[1mWARNING \u001b[0m | \u001b[36mnomic.project\u001b[0m:\u001b[36m_validate_and_correct_arrow_upload\u001b[0m:\u001b[36m261\u001b[0m - \u001b[33m\u001b[1mid_field is not a string. Converting to string from int32\u001b[0m\n",
      "100%|██████████| 2/2 [00:04<00:00,  2.13s/it]\n",
      "\u001b[32m2023-07-20 14:46:08.063\u001b[0m | \u001b[1mINFO    \u001b[0m | \u001b[36mnomic.project\u001b[0m:\u001b[36m_add_data\u001b[0m:\u001b[36m1401\u001b[0m - \u001b[1mUpload succeeded.\u001b[0m\n",
      "\u001b[32m2023-07-20 14:46:08.064\u001b[0m | \u001b[1mINFO    \u001b[0m | \u001b[36mnomic.atlas\u001b[0m:\u001b[36mmap_text\u001b[0m:\u001b[36m247\u001b[0m - \u001b[1mText upload succeeded.\u001b[0m\n",
      "\u001b[32m2023-07-20 14:46:09.219\u001b[0m | \u001b[1mINFO    \u001b[0m | \u001b[36mnomic.project\u001b[0m:\u001b[36mcreate_index\u001b[0m:\u001b[36m1111\u001b[0m - \u001b[1mCreated map `faint-larva` in project `faint-larva`: https://atlas.nomic.ai/map/5e026d98-2a52-490e-b786-aac2d186521d/17f6d4c9-5fb6-486a-88bb-1c35ad53eb92\u001b[0m\n",
      "\u001b[32m2023-07-20 14:46:09.221\u001b[0m | \u001b[1mINFO    \u001b[0m | \u001b[36mnomic.atlas\u001b[0m:\u001b[36mmap_text\u001b[0m:\u001b[36m263\u001b[0m - \u001b[1mfaint-larva: https://atlas.nomic.ai/map/5e026d98-2a52-490e-b786-aac2d186521d/17f6d4c9-5fb6-486a-88bb-1c35ad53eb92\u001b[0m\n"
     ]
    }
   ],
   "source": [
    "max_documents = 10000\n",
    "subset_idxs = np.random.randint(len(dataset), size=max_documents).tolist()\n",
    "documents = [dataset[i] for i in subset_idxs]\n",
    "for i in range(max_documents):\n",
    "  documents[i]['id'] = i\n",
    "\n",
    "project = atlas.map_text(data=documents,\n",
    "                         id_field='id',\n",
    "                          indexed_field='text',\n",
    "                          description='News 10k Example.'\n",
    "                          )"
   ]
  },
  {
   "cell_type": "code",
   "execution_count": 8,
   "metadata": {},
   "outputs": [
    {
     "data": {
      "text/html": [
       "\n",
       "            <h3>Project: faint-larva</h3>\n",
       "            <script>\n",
       "            destroy = function() {\n",
       "                document.getElementById(\"iframe17f6d4c9-5fb6-486a-88bb-1c35ad53eb92\").remove()\n",
       "            }\n",
       "        </script>\n",
       "        <div class=\"actions\">\n",
       "            <div id=\"hide\" class=\"action\" onclick=\"destroy()\">Hide embedded project</div>\n",
       "            <div class=\"action\" id=\"out\">\n",
       "                <a href=\"https://atlas.nomic.ai/map/5e026d98-2a52-490e-b786-aac2d186521d/17f6d4c9-5fb6-486a-88bb-1c35ad53eb92\" target=\"_blank\">Explore on atlas.nomic.ai</a>\n",
       "            </div>\n",
       "        </div>\n",
       "        \n",
       "        <iframe class=\"iframe\" id=\"iframe17f6d4c9-5fb6-486a-88bb-1c35ad53eb92\" allow=\"clipboard-read; clipboard-write\" src=\"https://atlas.nomic.ai/map/5e026d98-2a52-490e-b786-aac2d186521d/17f6d4c9-5fb6-486a-88bb-1c35ad53eb92\">\n",
       "        </iframe>\n",
       "\n",
       "        <style>\n",
       "            .iframe {\n",
       "                /* vh can be **very** large in vscode ipynb. */\n",
       "                height: min(75vh, 66vw);\n",
       "                width: 100%;\n",
       "            }\n",
       "        </style>\n",
       "        \n",
       "        <style>\n",
       "            .actions {\n",
       "              display: block;\n",
       "            }\n",
       "            .action {\n",
       "              min-height: 18px;\n",
       "              margin: 5px;\n",
       "              transition: all 500ms ease-in-out;\n",
       "            }\n",
       "            .action:hover {\n",
       "              cursor: pointer;\n",
       "            }\n",
       "            #hide:hover::after {\n",
       "                content: \" X\";\n",
       "            }\n",
       "            #out:hover::after {\n",
       "                content: \"\";\n",
       "            }\n",
       "        </style>\n",
       "        \n",
       "            "
      ],
      "text/plain": [
       "faint-larva: https://atlas.nomic.ai/map/5e026d98-2a52-490e-b786-aac2d186521d/17f6d4c9-5fb6-486a-88bb-1c35ad53eb92"
      ]
     },
     "execution_count": 8,
     "metadata": {},
     "output_type": "execute_result"
    }
   ],
   "source": [
    "project.maps[0] #show the map in the notebook."
   ]
  },
  {
   "cell_type": "code",
   "execution_count": 9,
   "metadata": {},
   "outputs": [
    {
     "ename": "AttributeError",
     "evalue": "'AtlasProjection' object has no attribute 'vector_search'",
     "output_type": "error",
     "traceback": [
      "\u001b[0;31m---------------------------------------------------------------------------\u001b[0m",
      "\u001b[0;31mAttributeError\u001b[0m                            Traceback (most recent call last)",
      "Cell \u001b[0;32mIn[9], line 4\u001b[0m\n\u001b[1;32m      2\u001b[0m \u001b[39mmap\u001b[39m \u001b[39m=\u001b[39m project\u001b[39m.\u001b[39mmaps[\u001b[39m0\u001b[39m]\n\u001b[1;32m      3\u001b[0m \u001b[39mwith\u001b[39;00m project\u001b[39m.\u001b[39mwait_for_project_lock():\n\u001b[0;32m----> 4\u001b[0m   neighbors, _ \u001b[39m=\u001b[39m \u001b[39mmap\u001b[39;49m\u001b[39m.\u001b[39;49mvector_search(ids\u001b[39m=\u001b[39m[\u001b[39m0\u001b[39m], k\u001b[39m=\u001b[39m\u001b[39m5\u001b[39m)\n\u001b[1;32m      6\u001b[0m \u001b[39m#print the 5 most similar datapoints to the data point with id = 0 (including the point with id=0)\u001b[39;00m\n\u001b[1;32m      7\u001b[0m similar_datapoints \u001b[39m=\u001b[39m project\u001b[39m.\u001b[39mget_data(ids\u001b[39m=\u001b[39mneighbors[\u001b[39m0\u001b[39m])\n",
      "\u001b[0;31mAttributeError\u001b[0m: 'AtlasProjection' object has no attribute 'vector_search'"
     ]
    }
   ],
   "source": [
    "# Now perform similarity search over the map!\n",
    "map = project.maps[0]\n",
    "with project.wait_for_project_lock():\n",
    "  neighbors, _ = map.vector_search(ids=[0], k=5)\n",
    "\n",
    "#print the 5 most similar datapoints to the data point with id = 0 (including the point with id=0)\n",
    "similar_datapoints = project.get_data(ids=neighbors[0])\n",
    "for point in similar_datapoints:\n",
    "  print(point)"
   ]
  }
 ],
 "metadata": {
  "kernelspec": {
   "display_name": ".venv",
   "language": "python",
   "name": "python3"
  },
  "language_info": {
   "codemirror_mode": {
    "name": "ipython",
    "version": 3
   },
   "file_extension": ".py",
   "mimetype": "text/x-python",
   "name": "python",
   "nbconvert_exporter": "python",
   "pygments_lexer": "ipython3",
   "version": "3.11.3"
  },
  "orig_nbformat": 4
 },
 "nbformat": 4,
 "nbformat_minor": 2
}
