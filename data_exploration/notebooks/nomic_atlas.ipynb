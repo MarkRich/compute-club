{
 "cells": [
  {
   "cell_type": "markdown",
   "metadata": {},
   "source": [
    "## Setup\n",
    "\n",
    "First, follow the instructions here to get a token (make sure you `poetry install` first). Then, do this: <https://docs.nomic.ai/> "
   ]
  },
  {
   "cell_type": "code",
   "execution_count": 10,
   "metadata": {},
   "outputs": [
    {
     "name": "stdout",
     "output_type": "stream",
     "text": [
      "The autoreload extension is already loaded. To reload it, use:\n",
      "  %reload_ext autoreload\n"
     ]
    }
   ],
   "source": [
    "from nomic import atlas\n",
    "import numpy as np\n",
    "from datasets import load_dataset\n",
    "%load_ext autoreload\n",
    "%autoreload 2"
   ]
  },
  {
   "cell_type": "code",
   "execution_count": 9,
   "metadata": {},
   "outputs": [
    {
     "name": "stderr",
     "output_type": "stream",
     "text": [
      "\u001b[32m2023-07-23 11:41:32.149\u001b[0m | \u001b[33m\u001b[1mWARNING \u001b[0m | \u001b[36mnomic.atlas\u001b[0m:\u001b[36mmap_embeddings\u001b[0m:\u001b[36m91\u001b[0m - \u001b[33m\u001b[1mAn ID field was not specified in your data so one was generated for you in insertion order.\u001b[0m\n",
      "\u001b[32m2023-07-23 11:41:34.786\u001b[0m | \u001b[1mINFO    \u001b[0m | \u001b[36mnomic.project\u001b[0m:\u001b[36m_create_project\u001b[0m:\u001b[36m779\u001b[0m - \u001b[1mCreating project `makeshift-adobe` in organization `abduljamjoom`\u001b[0m\n",
      "\u001b[32m2023-07-23 11:41:38.298\u001b[0m | \u001b[1mINFO    \u001b[0m | \u001b[36mnomic.atlas\u001b[0m:\u001b[36mmap_embeddings\u001b[0m:\u001b[36m107\u001b[0m - \u001b[1mUploading embeddings to Atlas.\u001b[0m\n",
      "100%|██████████| 2/2 [00:06<00:00,  3.32s/it]\n",
      "\u001b[32m2023-07-23 11:41:44.970\u001b[0m | \u001b[1mINFO    \u001b[0m | \u001b[36mnomic.project\u001b[0m:\u001b[36m_add_data\u001b[0m:\u001b[36m1401\u001b[0m - \u001b[1mUpload succeeded.\u001b[0m\n",
      "\u001b[32m2023-07-23 11:41:44.971\u001b[0m | \u001b[1mINFO    \u001b[0m | \u001b[36mnomic.atlas\u001b[0m:\u001b[36mmap_embeddings\u001b[0m:\u001b[36m126\u001b[0m - \u001b[1mEmbedding upload succeeded.\u001b[0m\n",
      "\u001b[32m2023-07-23 11:41:46.746\u001b[0m | \u001b[1mINFO    \u001b[0m | \u001b[36mnomic.project\u001b[0m:\u001b[36mcreate_index\u001b[0m:\u001b[36m1111\u001b[0m - \u001b[1mCreated map `makeshift-adobe` in project `makeshift-adobe`: https://atlas.nomic.ai/map/29a5ebe3-4878-44f7-97e6-0b1edf2857a4/94e74cdf-2300-4360-9fdc-f32542433ba7\u001b[0m\n",
      "\u001b[32m2023-07-23 11:41:46.749\u001b[0m | \u001b[1mINFO    \u001b[0m | \u001b[36mnomic.atlas\u001b[0m:\u001b[36mmap_embeddings\u001b[0m:\u001b[36m139\u001b[0m - \u001b[1mmakeshift-adobe: https://atlas.nomic.ai/map/29a5ebe3-4878-44f7-97e6-0b1edf2857a4/94e74cdf-2300-4360-9fdc-f32542433ba7\u001b[0m\n"
     ]
    },
    {
     "data": {
      "text/html": [
       "Atlas Projection makeshift-adobe. Status Projecting. <a target=\"_blank\" href=\"https://atlas.nomic.ai/map/29a5ebe3-4878-44f7-97e6-0b1edf2857a4/94e74cdf-2300-4360-9fdc-f32542433ba7\">view online</a>"
      ],
      "text/plain": [
       "makeshift-adobe: https://atlas.nomic.ai/map/29a5ebe3-4878-44f7-97e6-0b1edf2857a4/94e74cdf-2300-4360-9fdc-f32542433ba7"
      ]
     },
     "execution_count": 9,
     "metadata": {},
     "output_type": "execute_result"
    }
   ],
   "source": [
    "# create dummy embeddings\n",
    "num_embeddings = 10000\n",
    "rand_embeddings = np.random.rand(num_embeddings, 256)\n",
    "project = atlas.map_embeddings(embeddings=rand_embeddings)\n",
    "\n",
    "# this creates the interactive map\n",
    "project.maps[0]"
   ]
  },
  {
   "cell_type": "code",
   "execution_count": 11,
   "metadata": {},
   "outputs": [
    {
     "data": {
      "application/vnd.jupyter.widget-view+json": {
       "model_id": "29a64f7c797748f49ba75c8a2d8a2727",
       "version_major": 2,
       "version_minor": 0
      },
      "text/plain": [
       "Downloading builder script:   0%|          | 0.00/4.06k [00:00<?, ?B/s]"
      ]
     },
     "metadata": {},
     "output_type": "display_data"
    },
    {
     "data": {
      "application/vnd.jupyter.widget-view+json": {
       "model_id": "08a415f116c5445d96f9d6d015c6cbc9",
       "version_major": 2,
       "version_minor": 0
      },
      "text/plain": [
       "Downloading metadata:   0%|          | 0.00/2.65k [00:00<?, ?B/s]"
      ]
     },
     "metadata": {},
     "output_type": "display_data"
    },
    {
     "data": {
      "application/vnd.jupyter.widget-view+json": {
       "model_id": "e0819dc1ae664b40be217c482a8f6b85",
       "version_major": 2,
       "version_minor": 0
      },
      "text/plain": [
       "Downloading readme:   0%|          | 0.00/7.95k [00:00<?, ?B/s]"
      ]
     },
     "metadata": {},
     "output_type": "display_data"
    },
    {
     "name": "stdout",
     "output_type": "stream",
     "text": [
      "Downloading and preparing dataset ag_news/default to /Users/abdul/.cache/huggingface/datasets/ag_news/default/0.0.0/bc2bcb40336ace1a0374767fc29bb0296cdaf8a6da7298436239c54d79180548...\n"
     ]
    },
    {
     "data": {
      "application/vnd.jupyter.widget-view+json": {
       "model_id": "2b18a6ac144e40d5861debf8bb0788f7",
       "version_major": 2,
       "version_minor": 0
      },
      "text/plain": [
       "Downloading data:   0%|          | 0.00/11.0M [00:00<?, ?B/s]"
      ]
     },
     "metadata": {},
     "output_type": "display_data"
    },
    {
     "data": {
      "application/vnd.jupyter.widget-view+json": {
       "model_id": "6a2a131e14d143868df074f89ca96b5f",
       "version_major": 2,
       "version_minor": 0
      },
      "text/plain": [
       "Downloading data:   0%|          | 0.00/751k [00:00<?, ?B/s]"
      ]
     },
     "metadata": {},
     "output_type": "display_data"
    },
    {
     "data": {
      "application/vnd.jupyter.widget-view+json": {
       "model_id": "f297c69320214997adeec62e6518722c",
       "version_major": 2,
       "version_minor": 0
      },
      "text/plain": [
       "Generating train split:   0%|          | 0/120000 [00:00<?, ? examples/s]"
      ]
     },
     "metadata": {},
     "output_type": "display_data"
    },
    {
     "data": {
      "application/vnd.jupyter.widget-view+json": {
       "model_id": "4bc0e3c47b184f24aedd74e614e0bbba",
       "version_major": 2,
       "version_minor": 0
      },
      "text/plain": [
       "Generating test split:   0%|          | 0/7600 [00:00<?, ? examples/s]"
      ]
     },
     "metadata": {},
     "output_type": "display_data"
    },
    {
     "name": "stdout",
     "output_type": "stream",
     "text": [
      "Dataset ag_news downloaded and prepared to /Users/abdul/.cache/huggingface/datasets/ag_news/default/0.0.0/bc2bcb40336ace1a0374767fc29bb0296cdaf8a6da7298436239c54d79180548. Subsequent calls will reuse this data.\n"
     ]
    },
    {
     "data": {
      "application/vnd.jupyter.widget-view+json": {
       "model_id": "28955b433eac49468d0f8fe09820181d",
       "version_major": 2,
       "version_minor": 0
      },
      "text/plain": [
       "  0%|          | 0/2 [00:00<?, ?it/s]"
      ]
     },
     "metadata": {},
     "output_type": "display_data"
    },
    {
     "name": "stderr",
     "output_type": "stream",
     "text": [
      "\u001b[32m2023-07-23 11:43:06.829\u001b[0m | \u001b[1mINFO    \u001b[0m | \u001b[36mnomic.project\u001b[0m:\u001b[36m_create_project\u001b[0m:\u001b[36m779\u001b[0m - \u001b[1mCreating project `habitual-bother` in organization `abduljamjoom`\u001b[0m\n",
      "\u001b[32m2023-07-23 11:43:09.039\u001b[0m | \u001b[1mINFO    \u001b[0m | \u001b[36mnomic.atlas\u001b[0m:\u001b[36mmap_text\u001b[0m:\u001b[36m231\u001b[0m - \u001b[1mUploading text to Atlas.\u001b[0m\n",
      "\u001b[32m2023-07-23 11:43:09.046\u001b[0m | \u001b[33m\u001b[1mWARNING \u001b[0m | \u001b[36mnomic.project\u001b[0m:\u001b[36m_validate_and_correct_arrow_upload\u001b[0m:\u001b[36m261\u001b[0m - \u001b[33m\u001b[1mid_field is not a string. Converting to string from int32\u001b[0m\n",
      "100%|██████████| 2/2 [00:03<00:00,  1.89s/it]\n",
      "\u001b[32m2023-07-23 11:43:12.824\u001b[0m | \u001b[1mINFO    \u001b[0m | \u001b[36mnomic.project\u001b[0m:\u001b[36m_add_data\u001b[0m:\u001b[36m1401\u001b[0m - \u001b[1mUpload succeeded.\u001b[0m\n",
      "\u001b[32m2023-07-23 11:43:12.826\u001b[0m | \u001b[1mINFO    \u001b[0m | \u001b[36mnomic.atlas\u001b[0m:\u001b[36mmap_text\u001b[0m:\u001b[36m247\u001b[0m - \u001b[1mText upload succeeded.\u001b[0m\n",
      "\u001b[32m2023-07-23 11:43:14.790\u001b[0m | \u001b[1mINFO    \u001b[0m | \u001b[36mnomic.project\u001b[0m:\u001b[36mcreate_index\u001b[0m:\u001b[36m1111\u001b[0m - \u001b[1mCreated map `habitual-bother` in project `habitual-bother`: https://atlas.nomic.ai/map/d0840b65-30a8-4381-b467-3b90778ccfb4/58df4d0d-d149-4ec6-82aa-a159ac0e661e\u001b[0m\n",
      "\u001b[32m2023-07-23 11:43:14.795\u001b[0m | \u001b[1mINFO    \u001b[0m | \u001b[36mnomic.atlas\u001b[0m:\u001b[36mmap_text\u001b[0m:\u001b[36m263\u001b[0m - \u001b[1mhabitual-bother: https://atlas.nomic.ai/map/d0840b65-30a8-4381-b467-3b90778ccfb4/58df4d0d-d149-4ec6-82aa-a159ac0e661e\u001b[0m\n"
     ]
    },
    {
     "data": {
      "text/html": [
       "Atlas Projection habitual-bother. Status Atomizing. <a target=\"_blank\" href=\"https://atlas.nomic.ai/map/d0840b65-30a8-4381-b467-3b90778ccfb4/58df4d0d-d149-4ec6-82aa-a159ac0e661e\">view online</a>"
      ],
      "text/plain": [
       "habitual-bother: https://atlas.nomic.ai/map/d0840b65-30a8-4381-b467-3b90778ccfb4/58df4d0d-d149-4ec6-82aa-a159ac0e661e"
      ]
     },
     "execution_count": 11,
     "metadata": {},
     "output_type": "execute_result"
    }
   ],
   "source": [
    "dataset = load_dataset('ag_news')['train']\n",
    "max_documents = 10000\n",
    "subset_idxs = np.random.randint(len(dataset), size=max_documents).tolist()\n",
    "documents = [dataset[i] for i in subset_idxs]\n",
    "for i in range(max_documents):\n",
    "  documents[i]['id'] = i\n",
    "\n",
    "project = atlas.map_text(data=documents,\n",
    "                         id_field='id',\n",
    "                          indexed_field='text',\n",
    "                          description='News 10k Example.'\n",
    "                          )\n",
    "\n",
    "project.maps[0]\n"
   ]
  }
 ],
 "metadata": {
  "kernelspec": {
   "display_name": ".venv",
   "language": "python",
   "name": "python3"
  },
  "language_info": {
   "codemirror_mode": {
    "name": "ipython",
    "version": 3
   },
   "file_extension": ".py",
   "mimetype": "text/x-python",
   "name": "python",
   "nbconvert_exporter": "python",
   "pygments_lexer": "ipython3",
   "version": "3.11.4"
  },
  "orig_nbformat": 4
 },
 "nbformat": 4,
 "nbformat_minor": 2
}
