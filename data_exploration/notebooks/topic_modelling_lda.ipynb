{
 "cells": [
  {
   "cell_type": "code",
   "execution_count": 1,
   "metadata": {},
   "outputs": [],
   "source": [
    "import nltk\n"
   ]
  },
  {
   "cell_type": "code",
   "execution_count": 2,
   "metadata": {},
   "outputs": [
    {
     "name": "stderr",
     "output_type": "stream",
     "text": [
      "[nltk_data] Downloading package stopwords to /Users/rami/nltk_data...\n",
      "[nltk_data]   Package stopwords is already up-to-date!\n"
     ]
    },
    {
     "data": {
      "text/plain": [
       "True"
      ]
     },
     "execution_count": 2,
     "metadata": {},
     "output_type": "execute_result"
    }
   ],
   "source": [
    "nltk.download('stopwords')"
   ]
  },
  {
   "cell_type": "code",
   "execution_count": 4,
   "metadata": {},
   "outputs": [],
   "source": [
    "import re\n",
    "import numpy as np\n",
    "import pandas as pd\n",
    "from pprint import pprint\n",
    "\n",
    "# Gensim\n",
    "import gensim\n",
    "import gensim.corpora as corpora\n",
    "from gensim.utils import simple_preprocess\n",
    "from gensim.models import CoherenceModel\n",
    "\n",
    "# spacy for lemmatization\n",
    "import spacy\n",
    "\n",
    "# Plotting tools\n",
    "import pyLDAvis\n",
    "import pyLDAvis.gensim  # don't skip this\n",
    "import matplotlib.pyplot as plt\n",
    "%matplotlib inline\n",
    "\n",
    "# Enable logging for gensim - optional\n",
    "import logging\n",
    "logging.basicConfig(format='%(asctime)s : %(levelname)s : %(message)s', level=logging.ERROR)\n",
    "\n",
    "import warnings\n",
    "warnings.filterwarnings(\"ignore\",category=DeprecationWarning)"
   ]
  },
  {
   "cell_type": "code",
   "execution_count": 5,
   "metadata": {},
   "outputs": [],
   "source": [
    "# NLTK Stop words\n",
    "from nltk.corpus import stopwords\n",
    "stop_words = stopwords.words('english')\n",
    "stop_words.extend(['from', 'subject', 're', 'edu', 'use'])"
   ]
  },
  {
   "cell_type": "markdown",
   "metadata": {},
   "source": [
    "## Import data and process it"
   ]
  },
  {
   "cell_type": "code",
   "execution_count": 6,
   "metadata": {},
   "outputs": [
    {
     "name": "stdout",
     "output_type": "stream",
     "text": [
      "['rec.autos' 'comp.sys.mac.hardware' 'comp.graphics' 'sci.space'\n",
      " 'talk.politics.guns' 'sci.med' 'comp.sys.ibm.pc.hardware'\n",
      " 'comp.os.ms-windows.misc' 'rec.motorcycles' 'talk.religion.misc'\n",
      " 'misc.forsale' 'alt.atheism' 'sci.electronics' 'comp.windows.x'\n",
      " 'rec.sport.hockey' 'rec.sport.baseball' 'soc.religion.christian'\n",
      " 'talk.politics.mideast' 'talk.politics.misc' 'sci.crypt']\n"
     ]
    },
    {
     "data": {
      "text/html": [
       "<div>\n",
       "<style scoped>\n",
       "    .dataframe tbody tr th:only-of-type {\n",
       "        vertical-align: middle;\n",
       "    }\n",
       "\n",
       "    .dataframe tbody tr th {\n",
       "        vertical-align: top;\n",
       "    }\n",
       "\n",
       "    .dataframe thead th {\n",
       "        text-align: right;\n",
       "    }\n",
       "</style>\n",
       "<table border=\"1\" class=\"dataframe\">\n",
       "  <thead>\n",
       "    <tr style=\"text-align: right;\">\n",
       "      <th></th>\n",
       "      <th>content</th>\n",
       "      <th>target</th>\n",
       "      <th>target_names</th>\n",
       "    </tr>\n",
       "  </thead>\n",
       "  <tbody>\n",
       "    <tr>\n",
       "      <th>0</th>\n",
       "      <td>From: lerxst@wam.umd.edu (where's my thing)\\nS...</td>\n",
       "      <td>7</td>\n",
       "      <td>rec.autos</td>\n",
       "    </tr>\n",
       "    <tr>\n",
       "      <th>1</th>\n",
       "      <td>From: guykuo@carson.u.washington.edu (Guy Kuo)...</td>\n",
       "      <td>4</td>\n",
       "      <td>comp.sys.mac.hardware</td>\n",
       "    </tr>\n",
       "    <tr>\n",
       "      <th>2</th>\n",
       "      <td>From: twillis@ec.ecn.purdue.edu (Thomas E Will...</td>\n",
       "      <td>4</td>\n",
       "      <td>comp.sys.mac.hardware</td>\n",
       "    </tr>\n",
       "    <tr>\n",
       "      <th>3</th>\n",
       "      <td>From: jgreen@amber (Joe Green)\\nSubject: Re: W...</td>\n",
       "      <td>1</td>\n",
       "      <td>comp.graphics</td>\n",
       "    </tr>\n",
       "    <tr>\n",
       "      <th>4</th>\n",
       "      <td>From: jcm@head-cfa.harvard.edu (Jonathan McDow...</td>\n",
       "      <td>14</td>\n",
       "      <td>sci.space</td>\n",
       "    </tr>\n",
       "  </tbody>\n",
       "</table>\n",
       "</div>"
      ],
      "text/plain": [
       "                                             content  target  \\\n",
       "0  From: lerxst@wam.umd.edu (where's my thing)\\nS...       7   \n",
       "1  From: guykuo@carson.u.washington.edu (Guy Kuo)...       4   \n",
       "2  From: twillis@ec.ecn.purdue.edu (Thomas E Will...       4   \n",
       "3  From: jgreen@amber (Joe Green)\\nSubject: Re: W...       1   \n",
       "4  From: jcm@head-cfa.harvard.edu (Jonathan McDow...      14   \n",
       "\n",
       "            target_names  \n",
       "0              rec.autos  \n",
       "1  comp.sys.mac.hardware  \n",
       "2  comp.sys.mac.hardware  \n",
       "3          comp.graphics  \n",
       "4              sci.space  "
      ]
     },
     "execution_count": 6,
     "metadata": {},
     "output_type": "execute_result"
    }
   ],
   "source": [
    "# Import Dataset\n",
    "df = pd.read_json('https://raw.githubusercontent.com/selva86/datasets/master/newsgroups.json')\n",
    "print(df.target_names.unique())\n",
    "df.head()"
   ]
  },
  {
   "cell_type": "code",
   "execution_count": 7,
   "metadata": {},
   "outputs": [
    {
     "name": "stdout",
     "output_type": "stream",
     "text": [
      "['From: (wheres my thing) Subject: WHAT car is this!? Nntp-Posting-Host: '\n",
      " 'rac3.wam.umd.edu Organization: University of Maryland, College Park Lines: '\n",
      " '15 I was wondering if anyone out there could enlighten me on this car I saw '\n",
      " 'the other day. It was a 2-door sports car, looked to be from the late 60s/ '\n",
      " 'early 70s. It was called a Bricklin. The doors were really small. In '\n",
      " 'addition, the front bumper was separate from the rest of the body. This is '\n",
      " 'all I know. If anyone can tellme a model name, engine specs, years of '\n",
      " 'production, where this car is made, history, or whatever info you have on '\n",
      " 'this funky looking car, please e-mail. Thanks, - IL ---- brought to you by '\n",
      " 'your neighborhood Lerxst ---- ']\n"
     ]
    }
   ],
   "source": [
    "# Convert to list\n",
    "data = df.content.values.tolist()\n",
    "\n",
    "# Remove Emails\n",
    "data = [re.sub('\\S*@\\S*\\s?', '', sent) for sent in data]\n",
    "\n",
    "# Remove new line characters\n",
    "data = [re.sub('\\s+', ' ', sent) for sent in data]\n",
    "\n",
    "# Remove distracting single quotes\n",
    "data = [re.sub(\"\\'\", \"\", sent) for sent in data]\n",
    "\n",
    "pprint(data[:1])"
   ]
  },
  {
   "cell_type": "markdown",
   "metadata": {},
   "source": [
    "## Tokenization"
   ]
  },
  {
   "cell_type": "code",
   "execution_count": 8,
   "metadata": {},
   "outputs": [
    {
     "name": "stdout",
     "output_type": "stream",
     "text": [
      "[['from', 'wheres', 'my', 'thing', 'subject', 'what', 'car', 'is', 'this', 'nntp', 'posting', 'host', 'rac', 'wam', 'umd', 'edu', 'organization', 'university', 'of', 'maryland', 'college', 'park', 'lines', 'was', 'wondering', 'if', 'anyone', 'out', 'there', 'could', 'enlighten', 'me', 'on', 'this', 'car', 'saw', 'the', 'other', 'day', 'it', 'was', 'door', 'sports', 'car', 'looked', 'to', 'be', 'from', 'the', 'late', 'early', 'it', 'was', 'called', 'bricklin', 'the', 'doors', 'were', 'really', 'small', 'in', 'addition', 'the', 'front', 'bumper', 'was', 'separate', 'from', 'the', 'rest', 'of', 'the', 'body', 'this', 'is', 'all', 'know', 'if', 'anyone', 'can', 'tellme', 'model', 'name', 'engine', 'specs', 'years', 'of', 'production', 'where', 'this', 'car', 'is', 'made', 'history', 'or', 'whatever', 'info', 'you', 'have', 'on', 'this', 'funky', 'looking', 'car', 'please', 'mail', 'thanks', 'il', 'brought', 'to', 'you', 'by', 'your', 'neighborhood', 'lerxst']]\n"
     ]
    }
   ],
   "source": [
    "def sent_to_words(sentences):\n",
    "    for sentence in sentences:\n",
    "        yield(gensim.utils.simple_preprocess(str(sentence), deacc=True))  # deacc=True removes punctuations\n",
    "\n",
    "data_words = list(sent_to_words(data))\n",
    "\n",
    "print(data_words[:1])"
   ]
  },
  {
   "cell_type": "markdown",
   "metadata": {},
   "source": [
    "## Create Bigram and Trigram models"
   ]
  },
  {
   "cell_type": "code",
   "execution_count": 9,
   "metadata": {},
   "outputs": [],
   "source": [
    "# Build the bigram and trigram models\n",
    "bigram = gensim.models.Phrases(data_words, min_count=5, threshold=100) # higher threshold fewer phrases.\n",
    "trigram = gensim.models.Phrases(bigram[data_words], threshold=100)  \n",
    "\n",
    "# Faster way to get a sentence clubbed as a trigram/bigram\n",
    "bigram_mod = gensim.models.phrases.Phraser(bigram)\n",
    "trigram_mod = gensim.models.phrases.Phraser(trigram)"
   ]
  },
  {
   "cell_type": "code",
   "execution_count": 10,
   "metadata": {},
   "outputs": [
    {
     "name": "stdout",
     "output_type": "stream",
     "text": [
      "['from', 'wheres', 'my', 'thing', 'subject', 'what', 'car', 'is', 'this', 'nntp_posting_host', 'rac_wam_umd_edu', 'organization', 'university', 'of', 'maryland_college_park', 'lines', 'was', 'wondering', 'if', 'anyone', 'out', 'there', 'could', 'enlighten', 'me', 'on', 'this', 'car', 'saw', 'the', 'other', 'day', 'it', 'was', 'door', 'sports', 'car', 'looked', 'to', 'be', 'from', 'the', 'late', 'early', 'it', 'was', 'called', 'bricklin', 'the', 'doors', 'were', 'really', 'small', 'in', 'addition', 'the', 'front_bumper', 'was', 'separate', 'from', 'the', 'rest', 'of', 'the', 'body', 'this', 'is', 'all', 'know', 'if', 'anyone', 'can', 'tellme', 'model', 'name', 'engine', 'specs', 'years', 'of', 'production', 'where', 'this', 'car', 'is', 'made', 'history', 'or', 'whatever', 'info', 'you', 'have', 'on', 'this', 'funky', 'looking', 'car', 'please', 'mail', 'thanks', 'il', 'brought', 'to', 'you', 'by', 'your', 'neighborhood', 'lerxst']\n"
     ]
    }
   ],
   "source": [
    "# See trigram example\n",
    "print(trigram_mod[bigram_mod[data_words[0]]])"
   ]
  },
  {
   "cell_type": "markdown",
   "metadata": {},
   "source": [
    "## Remove stopwords, make bigrams, lemmatize"
   ]
  },
  {
   "cell_type": "code",
   "execution_count": 11,
   "metadata": {},
   "outputs": [],
   "source": [
    "# Define functions for stopwords, bigrams, trigrams and lemmatization\n",
    "def remove_stopwords(texts):\n",
    "    return [[word for word in simple_preprocess(str(doc)) if word not in stop_words] for doc in texts]\n",
    "\n",
    "def make_bigrams(texts):\n",
    "    return [bigram_mod[doc] for doc in texts]\n",
    "\n",
    "def make_trigrams(texts):\n",
    "    return [trigram_mod[bigram_mod[doc]] for doc in texts]\n",
    "\n",
    "def lemmatization(texts, allowed_postags=['NOUN', 'ADJ', 'VERB', 'ADV']):\n",
    "    \"\"\"https://spacy.io/api/annotation\"\"\"\n",
    "    texts_out = []\n",
    "    for sent in texts:\n",
    "        doc = nlp(\" \".join(sent)) \n",
    "        texts_out.append([token.lemma_ for token in doc if token.pos_ in allowed_postags])\n",
    "    return texts_out"
   ]
  },
  {
   "cell_type": "markdown",
   "metadata": {},
   "source": [
    "(first run `poetry run python -m spacy download en_core_web_sm` in your terminal. Make sure the shell is enabled first by running `poetry shell`)"
   ]
  },
  {
   "cell_type": "code",
   "execution_count": 15,
   "metadata": {},
   "outputs": [],
   "source": [
    "# Remove Stop Words\n",
    "data_words_nostops = remove_stopwords(data_words)\n",
    "\n",
    "# Form Bigrams\n",
    "data_words_bigrams = make_bigrams(data_words_nostops)\n",
    "\n",
    "# Initialize spacy 'en' model, keeping only tagger component (for efficiency)\n",
    "# !python3 -m spacy download en\n",
    "nlp = spacy.load('en_core_web_sm', disable=['parser', 'ner'])\n",
    "\n",
    "# Do lemmatization keeping only noun, adj, vb, adv\n",
    "data_lemmatized = lemmatization(data_words_bigrams, allowed_postags=['NOUN', 'ADJ', 'VERB', 'ADV'])"
   ]
  },
  {
   "cell_type": "code",
   "execution_count": 16,
   "metadata": {},
   "outputs": [
    {
     "name": "stdout",
     "output_type": "stream",
     "text": [
      "[['s', 'thing', 'car', 'nntp_poste', 'host', 'rac_wam', 'university', 'park', 'line', 'wonder', 'enlighten', 'car', 'see', 'day', 'door', 'sport', 'car', 'look', 'late', 'early', 'call', 'door', 'really', 'small', 'addition', 'separate', 'rest', 'body', 'know', 'model', 'name', 'engine', 'spec', 'year', 'production', 'car', 'make', 'history', 'info', 'funky', 'look', 'car', 'mail', 'thank', 'bring', 'neighborhood', 'lerxst']]\n"
     ]
    }
   ],
   "source": [
    "print(data_lemmatized[:1])"
   ]
  },
  {
   "cell_type": "markdown",
   "metadata": {},
   "source": [
    "## Create dictionary and corpus"
   ]
  },
  {
   "cell_type": "code",
   "execution_count": 17,
   "metadata": {},
   "outputs": [],
   "source": [
    "# Create Dictionary\n",
    "id2word = corpora.Dictionary(data_lemmatized)\n",
    "\n",
    "# Create Corpus\n",
    "texts = data_lemmatized\n",
    "\n",
    "# Term Document Frequency\n",
    "corpus = [id2word.doc2bow(text) for text in texts]"
   ]
  },
  {
   "cell_type": "code",
   "execution_count": 18,
   "metadata": {},
   "outputs": [
    {
     "name": "stdout",
     "output_type": "stream",
     "text": [
      "[[(0, 1), (1, 1), (2, 1), (3, 1), (4, 5), (5, 1), (6, 2), (7, 1), (8, 1), (9, 1), (10, 1), (11, 1), (12, 1), (13, 1), (14, 1), (15, 1), (16, 1), (17, 1), (18, 2), (19, 1), (20, 1), (21, 1), (22, 1), (23, 1), (24, 1), (25, 1), (26, 1), (27, 1), (28, 1), (29, 1), (30, 1), (31, 1), (32, 1), (33, 1), (34, 1), (35, 1), (36, 1), (37, 1), (38, 1), (39, 1), (40, 1)]]\n"
     ]
    }
   ],
   "source": [
    "# View\n",
    "print(corpus[:1])"
   ]
  },
  {
   "cell_type": "code",
   "execution_count": 21,
   "metadata": {},
   "outputs": [
    {
     "data": {
      "text/plain": [
       "'engine'"
      ]
     },
     "execution_count": 21,
     "metadata": {},
     "output_type": "execute_result"
    }
   ],
   "source": [
    "# sample word in the dictionary\n",
    "id2word[8]"
   ]
  },
  {
   "cell_type": "code",
   "execution_count": 22,
   "metadata": {},
   "outputs": [
    {
     "data": {
      "text/plain": [
       "[[('addition', 1),\n",
       "  ('body', 1),\n",
       "  ('bring', 1),\n",
       "  ('call', 1),\n",
       "  ('car', 5),\n",
       "  ('day', 1),\n",
       "  ('door', 2),\n",
       "  ('early', 1),\n",
       "  ('engine', 1),\n",
       "  ('enlighten', 1),\n",
       "  ('funky', 1),\n",
       "  ('history', 1),\n",
       "  ('host', 1),\n",
       "  ('info', 1),\n",
       "  ('know', 1),\n",
       "  ('late', 1),\n",
       "  ('lerxst', 1),\n",
       "  ('line', 1),\n",
       "  ('look', 2),\n",
       "  ('mail', 1),\n",
       "  ('make', 1),\n",
       "  ('model', 1),\n",
       "  ('name', 1),\n",
       "  ('neighborhood', 1),\n",
       "  ('nntp_poste', 1),\n",
       "  ('park', 1),\n",
       "  ('production', 1),\n",
       "  ('rac_wam', 1),\n",
       "  ('really', 1),\n",
       "  ('rest', 1),\n",
       "  ('s', 1),\n",
       "  ('see', 1),\n",
       "  ('separate', 1),\n",
       "  ('small', 1),\n",
       "  ('spec', 1),\n",
       "  ('sport', 1),\n",
       "  ('thank', 1),\n",
       "  ('thing', 1),\n",
       "  ('university', 1),\n",
       "  ('wonder', 1),\n",
       "  ('year', 1)]]"
      ]
     },
     "execution_count": 22,
     "metadata": {},
     "output_type": "execute_result"
    }
   ],
   "source": [
    "# Human readable format of corpus (term-frequency)\n",
    "[[(id2word[id], freq) for id, freq in cp] for cp in corpus[:1]]"
   ]
  },
  {
   "cell_type": "code",
   "execution_count": 24,
   "metadata": {},
   "outputs": [],
   "source": [
    "# Build LDA model\n",
    "lda_model = gensim.models.ldamodel.LdaModel(corpus=corpus,\n",
    "                                           id2word=id2word,\n",
    "                                           num_topics=20, \n",
    "                                           random_state=100,\n",
    "                                           update_every=1,\n",
    "                                           chunksize=100,\n",
    "                                           passes=10,\n",
    "                                           alpha='auto',\n",
    "                                           per_word_topics=True)"
   ]
  },
  {
   "cell_type": "markdown",
   "metadata": {},
   "source": [
    "## View Topics in LDA Model"
   ]
  },
  {
   "cell_type": "code",
   "execution_count": 25,
   "metadata": {},
   "outputs": [
    {
     "name": "stdout",
     "output_type": "stream",
     "text": [
      "[(0,\n",
      "  '0.021*\"research\" + 0.019*\"information\" + 0.019*\"high\" + 0.019*\"report\" + '\n",
      "  '0.018*\"player\" + 0.016*\"service\" + 0.015*\"rate\" + 0.014*\"design\" + '\n",
      "  '0.013*\"season\" + 0.012*\"low\"'),\n",
      " (1,\n",
      "  '0.077*\"team\" + 0.072*\"game\" + 0.053*\"play\" + 0.050*\"faith\" + 0.049*\"win\" + '\n",
      "  '0.031*\"belief\" + 0.025*\"atheist\" + 0.025*\"year\" + 0.018*\"wing\" + '\n",
      "  '0.018*\"score\"'),\n",
      " (2,\n",
      "  '0.106*\"space\" + 0.029*\"notice\" + 0.029*\"launch\" + 0.026*\"earth\" + '\n",
      "  '0.024*\"mission\" + 0.024*\"orbit\" + 0.023*\"external\" + 0.020*\"vehicle\" + '\n",
      "  '0.019*\"satellite\" + 0.019*\"door\"'),\n",
      " (3,\n",
      "  '0.022*\"say\" + 0.019*\"people\" + 0.017*\"reason\" + 0.017*\"believe\" + '\n",
      "  '0.015*\"evidence\" + 0.014*\"mean\" + 0.012*\"point\" + 0.012*\"question\" + '\n",
      "  '0.011*\"many\" + 0.010*\"claim\"'),\n",
      " (4,\n",
      "  '0.078*\"book\" + 0.044*\"science\" + 0.042*\"reference\" + 0.036*\"pin\" + '\n",
      "  '0.032*\"section\" + 0.025*\"faq\" + 0.024*\"author\" + 0.023*\"copy\" + '\n",
      "  '0.023*\"reality\" + 0.022*\"internal\"'),\n",
      " (5,\n",
      "  '0.065*\"cost\" + 0.059*\"model\" + 0.039*\"character\" + 0.036*\"picture\" + '\n",
      "  '0.036*\"format\" + 0.032*\"quality\" + 0.032*\"associate\" + 0.028*\"handle\" + '\n",
      "  '0.023*\"hole\" + 0.023*\"gift\"'),\n",
      " (6,\n",
      "  '0.032*\"system\" + 0.028*\"use\" + 0.024*\"program\" + 0.023*\"file\" + '\n",
      "  '0.018*\"card\" + 0.016*\"run\" + 0.014*\"software\" + 0.014*\"bit\" + '\n",
      "  '0.013*\"machine\" + 0.013*\"problem\"'),\n",
      " (7,\n",
      "  '0.092*\"moral\" + 0.056*\"property\" + 0.045*\"serial\" + 0.036*\"lock\" + '\n",
      "  '0.022*\"positively\" + 0.021*\"intent\" + 0.018*\"alarm\" + 0.012*\"converter\" + '\n",
      "  '0.011*\"unnecessary\" + 0.007*\"provision\"'),\n",
      " (8,\n",
      "  '0.249*\"window\" + 0.057*\"monitor\" + 0.055*\"normal\" + 0.041*\"do\" + '\n",
      "  '0.032*\"font\" + 0.023*\"left\" + 0.020*\"widget\" + 0.019*\"please_respond\" + '\n",
      "  '0.017*\"environment\" + 0.017*\"trivial\"'),\n",
      " (9,\n",
      "  '0.061*\"child\" + 0.028*\"church\" + 0.027*\"woman\" + 0.025*\"armenian\" + '\n",
      "  '0.022*\"authority\" + 0.020*\"community\" + 0.019*\"greek\" + 0.017*\"period\" + '\n",
      "  '0.017*\"turk\" + 0.016*\"soldier\"'),\n",
      " (10,\n",
      "  '0.765*\"ax\" + 0.035*\"physical\" + 0.024*\"graphic\" + 0.014*\"direct\" + '\n",
      "  '0.011*\"convert\" + 0.006*\"daughter\" + 0.006*\"capture\" + 0.005*\"human_being\" '\n",
      "  '+ 0.004*\"split\" + 0.003*\"accomplish\"'),\n",
      " (11,\n",
      "  '0.130*\"line\" + 0.076*\"organization\" + 0.074*\"write\" + 0.063*\"article\" + '\n",
      "  '0.056*\"nntp_poste\" + 0.050*\"host\" + 0.029*\"reply\" + 0.024*\"thank\" + '\n",
      "  '0.018*\"university\" + 0.013*\"post\"'),\n",
      " (12,\n",
      "  '0.072*\"plane\" + 0.030*\"hi\" + 0.021*\"subscription\" + 0.020*\"steve\" + '\n",
      "  '0.015*\"divide\" + 0.011*\"evolve\" + 0.010*\"intersection\" + 0.010*\"rip\" + '\n",
      "  '0.008*\"upcoming\" + 0.007*\"script\"'),\n",
      " (13,\n",
      "  '0.031*\"people\" + 0.028*\"state\" + 0.018*\"gun\" + 0.017*\"government\" + '\n",
      "  '0.017*\"law\" + 0.016*\"right\" + 0.015*\"kill\" + 0.013*\"death\" + 0.011*\"live\" + '\n",
      "  '0.011*\"force\"'),\n",
      " (14,\n",
      "  '0.141*\"drug\" + 0.029*\"film\" + 0.026*\"movie\" + 0.025*\"stereo\" + '\n",
      "  '0.024*\"japanese\" + 0.022*\"deficit\" + 0.020*\"plot\" + 0.014*\"mad\" + '\n",
      "  '0.009*\"harley\" + 0.007*\"deck\"'),\n",
      " (15,\n",
      "  '0.061*\"box\" + 0.050*\"club\" + 0.041*\"modem\" + 0.041*\"status\" + '\n",
      "  '0.030*\"primary\" + 0.029*\"routine\" + 0.029*\"spec\" + 0.026*\"sufficient\" + '\n",
      "  '0.023*\"public_access\" + 0.023*\"automatically\"'),\n",
      " (16,\n",
      "  '0.152*\"drive\" + 0.091*\"car\" + 0.036*\"bike\" + 0.024*\"engine\" + 0.023*\"nhl\" + '\n",
      "  '0.022*\"ride\" + 0.018*\"road\" + 0.017*\"weight\" + 0.016*\"mile\" + '\n",
      "  '0.015*\"ground\"'),\n",
      " (17,\n",
      "  '0.113*\"patient\" + 0.060*\"disease\" + 0.054*\"scientific\" + '\n",
      "  '0.050*\"computer_science\" + 0.043*\"animal\" + 0.041*\"health\" + '\n",
      "  '0.040*\"treatment\" + 0.037*\"medical\" + 0.033*\"dog\" + 0.030*\"study\"'),\n",
      " (18,\n",
      "  '0.023*\"get\" + 0.018*\"go\" + 0.015*\"good\" + 0.015*\"time\" + 0.015*\"know\" + '\n",
      "  '0.014*\"make\" + 0.013*\"well\" + 0.013*\"think\" + 0.012*\"see\" + 0.010*\"take\"'),\n",
      " (19,\n",
      "  '0.106*\"key\" + 0.043*\"test\" + 0.032*\"public\" + 0.031*\"encryption\" + '\n",
      "  '0.028*\"security\" + 0.028*\"server\" + 0.022*\"clipper\" + 0.021*\"chip\" + '\n",
      "  '0.018*\"secure\" + 0.018*\"message\"')]\n"
     ]
    }
   ],
   "source": [
    "# Print the Keyword in the 10 topics\n",
    "pprint(lda_model.print_topics())\n",
    "doc_lda = lda_model[corpus]"
   ]
  },
  {
   "cell_type": "markdown",
   "metadata": {},
   "source": [
    "## Compute Model Perplexity and Coherence Score"
   ]
  },
  {
   "cell_type": "code",
   "execution_count": 26,
   "metadata": {},
   "outputs": [
    {
     "name": "stdout",
     "output_type": "stream",
     "text": [
      "\n",
      "Perplexity:  -13.324613623403515\n",
      "\n",
      "Coherence Score:  0.483541481988623\n"
     ]
    }
   ],
   "source": [
    "# Compute Perplexity\n",
    "print('\\nPerplexity: ', lda_model.log_perplexity(corpus))  # a measure of how good the model is. lower the better.\n",
    "\n",
    "# Compute Coherence Score\n",
    "coherence_model_lda = CoherenceModel(model=lda_model, texts=data_lemmatized, dictionary=id2word, coherence='c_v')\n",
    "coherence_lda = coherence_model_lda.get_coherence()\n",
    "print('\\nCoherence Score: ', coherence_lda)"
   ]
  },
  {
   "cell_type": "markdown",
   "metadata": {},
   "source": [
    "## Visualize topics-keywords"
   ]
  },
  {
   "cell_type": "code",
   "execution_count": 27,
   "metadata": {},
   "outputs": [
    {
     "data": {
      "text/html": [
       "\n",
       "<link rel=\"stylesheet\" type=\"text/css\" href=\"https://cdn.jsdelivr.net/gh/bmabey/pyLDAvis@3.4.0/pyLDAvis/js/ldavis.v1.0.0.css\">\n",
       "\n",
       "\n",
       "<div id=\"ldavis_el7722512795593552403570885\" style=\"background-color:white;\"></div>\n",
       "<script type=\"text/javascript\">\n",
       "\n",
       "var ldavis_el7722512795593552403570885_data = {\"mdsDat\": {\"x\": [-0.3365249758338423, -0.3169285582487079, -0.21678210336130244, -0.24708835058699585, -0.1841102048484051, 0.01930227244599052, -0.15391522737284336, 0.008550755832507514, -0.0069244303782756735, -0.038373460814675193, 0.037561998560167, 0.046033483365719004, 0.08190668630154782, 0.11857033835826634, 0.16268610919217796, 0.17594429514230459, 0.20425941202746828, 0.2122021903383965, 0.21408224848226676, 0.2195475213982348], \"y\": [-0.053708012646890006, -0.11890590305541772, 0.2852412632017103, 0.16700471832724795, -0.27964922396629893, 0.039635423494369715, 0.027978749280173448, -0.11769080695208517, -0.06210212825156248, 0.06950366268970225, 0.03703303589612377, -0.038083881035756446, 0.028033030556641452, 0.0238625017476458, 0.013116481441468686, -0.007821397161752303, -0.0017799259779328021, -0.0032650750346689844, -0.0036335774628329792, -0.004768935089885988], \"topics\": [1, 2, 3, 4, 5, 6, 7, 8, 9, 10, 11, 12, 13, 14, 15, 16, 17, 18, 19, 20], \"cluster\": [1, 1, 1, 1, 1, 1, 1, 1, 1, 1, 1, 1, 1, 1, 1, 1, 1, 1, 1, 1], \"Freq\": [34.41413612564014, 15.58556359373017, 9.181523678221941, 9.11053584171696, 7.614201428119072, 5.391938723934347, 5.120667539973638, 2.140507523554841, 2.065623942442638, 1.8479576784518763, 1.7323182796045415, 1.6068769820289173, 1.2374910392192706, 1.1443367886108293, 0.6192226087726785, 0.4336742942303299, 0.29485294590855715, 0.20045002258784272, 0.15895486721422747, 0.0991660960371736]}, \"tinfo\": {\"Term\": [\"ax\", \"line\", \"write\", \"organization\", \"article\", \"nntp_poste\", \"host\", \"drive\", \"people\", \"year\", \"window\", \"key\", \"system\", \"do\", \"get\", \"use\", \"go\", \"car\", \"say\", \"team\", \"reply\", \"game\", \"space\", \"book\", \"state\", \"physical\", \"thank\", \"run\", \"time\", \"child\", \"go\", \"s\", \"ve\", \"back\", \"long\", \"re\", \"start\", \"bad\", \"still\", \"hear\", \"little\", \"lot\", \"probably\", \"put\", \"big\", \"maybe\", \"money\", \"remember\", \"week\", \"hard\", \"ill\", \"home\", \"move\", \"guess\", \"couple\", \"pretty\", \"cheap\", \"guy\", \"school\", \"soon\", \"time\", \"good\", \"really\", \"end\", \"day\", \"get\", \"great\", \"much\", \"let\", \"well\", \"sure\", \"take\", \"first\", \"want\", \"come\", \"see\", \"know\", \"make\", \"think\", \"tell\", \"m\", \"try\", \"work\", \"year\", \"look\", \"way\", \"say\", \"thing\", \"give\", \"also\", \"write\", \"even\", \"reason\", \"believe\", \"evidence\", \"claim\", \"talk\", \"sense\", \"true\", \"word\", \"rule\", \"matter\", \"argument\", \"religion\", \"love\", \"accept\", \"understand\", \"explain\", \"god\", \"prove\", \"speak\", \"discussion\", \"truth\", \"clear\", \"purpose\", \"certainly\", \"statement\", \"christian\", \"master\", \"indeed\", \"doubt\", \"therefore\", \"religious\", \"human\", \"exist\", \"apply\", \"mean\", \"life\", \"fact\", \"view\", \"rather\", \"question\", \"say\", \"point\", \"however\", \"people\", \"case\", \"many\", \"group\", \"man\", \"agree\", \"follow\", \"example\", \"issue\", \"world\", \"think\", \"make\", \"different\", \"read\", \"thing\", \"write\", \"also\", \"nntp_poste\", \"host\", \"thank\", \"university\", \"price\", \"com\", \"sale\", \"internet\", \"cpu\", \"appreciate\", \"bus\", \"version_pl\", \"controller\", \"originator\", \"printer\", \"apr\", \"upgrade\", \"corporation\", \"resource\", \"crash\", \"cycle\", \"northern\", \"bio\", \"ram\", \"opinions_expresse\", \"clock\", \"laboratory\", \"cool\", \"bug\", \"floppy\", \"reply\", \"organization\", \"line\", \"keyword\", \"interested\", \"sell\", \"distribution_world\", \"article\", \"dealer\", \"write\", \"buy\", \"phone\", \"mail\", \"post\", \"email\", \"help\", \"technology\", \"need\", \"new\", \"m\", \"message\", \"question\", \"look\", \"use\", \"know\", \"file\", \"software\", \"machine\", \"code\", \"entry\", \"version\", \"memory\", \"hardware\", \"screen\", \"disk\", \"mode\", \"pc\", \"video\", \"display\", \"device\", \"fax\", \"package\", \"scan\", \"scsi\", \"port\", \"apple\", \"ide\", \"mhz\", \"gateway\", \"mac\", \"manager\", \"mouse\", \"unix\", \"directory\", \"interface\", \"card\", \"program\", \"input\", \"image\", \"instal\", \"driver\", \"user\", \"application\", \"system\", \"type\", \"available\", \"address\", \"bit\", \"use\", \"run\", \"set\", \"computer\", \"source\", \"include\", \"support\", \"problem\", \"work\", \"also\", \"chip\", \"need\", \"gun\", \"kill\", \"death\", \"force\", \"die\", \"country\", \"member\", \"israeli\", \"war\", \"risk\", \"publish\", \"city\", \"crime\", \"serious\", \"state\", \"military\", \"police\", \"weapon\", \"land\", \"headache\", \"convince\", \"firearm\", \"proof\", \"trial\", \"blank\", \"library\", \"arab\", \"doctor\", \"occupy\", \"withdraw\", \"jewish\", \"fight\", \"suggest\", \"attack\", \"law\", \"government\", \"fire\", \"meet\", \"self\", \"field\", \"people\", \"murder\", \"live\", \"right\", \"public\", \"black\", \"carry\", \"conclusion\", \"ax\", \"physical\", \"graphic\", \"direct\", \"convert\", \"daughter\", \"capture\", \"human_being\", \"split\", \"accomplish\", \"pp\", \"discount\", \"tour\", \"applicable\", \"good_luck\", \"sister\", \"shareware\", \"genesis\", \"sabbath\", \"ceremonial\", \"tc\", \"oracle\", \"seventh\", \"workshop\", \"birthday\", \"everytime\", \"moral_agency\", \"max\", \"ei\", \"fq\", \"part\", \"end\", \"research\", \"player\", \"season\", \"tape\", \"goal\", \"trade\", \"national\", \"family\", \"possibility\", \"unit\", \"material\", \"pen\", \"signal\", \"site\", \"technical\", \"development\", \"radio\", \"communication\", \"factor\", \"electronic\", \"operation\", \"particularly\", \"circuit\", \"dept\", \"lab\", \"surface\", \"facility\", \"cap\", \"improve\", \"blue\", \"feature\", \"service\", \"rate\", \"design\", \"report\", \"contact\", \"increase\", \"level\", \"information\", \"low\", \"high\", \"center\", \"include\", \"control\", \"year\", \"number\", \"block\", \"complete\", \"point\", \"new\", \"child\", \"church\", \"woman\", \"armenian\", \"authority\", \"greek\", \"period\", \"turk\", \"turkish\", \"terrorism\", \"boy\", \"parent\", \"united_state\", \"male\", \"muslim\", \"percent\", \"somehow\", \"violence\", \"russian\", \"inhabitant\", \"role\", \"escape\", \"unknown\", \"serdar_argic\", \"closed\", \"proceed\", \"informed\", \"investigation\", \"violate\", \"reflect\", \"community\", \"aware\", \"soldier\", \"girl\", \"young\", \"village\", \"mother\", \"today\", \"man\", \"team\", \"game\", \"play\", \"faith\", \"win\", \"belief\", \"atheist\", \"wing\", \"score\", \"revelation\", \"fan\", \"atheism\", \"average\", \"bible\", \"universe\", \"interpretation\", \"pitch\", \"canadian\", \"stat\", \"offense\", \"production\", \"passage\", \"absolute\", \"origin\", \"birth\", \"hr\", \"handgun\", \"follower\", \"danger\", \"teaching\", \"star\", \"ice\", \"division\", \"defense\", \"year\", \"lose\", \"run\", \"final\", \"hit\", \"last\", \"pick\", \"key\", \"test\", \"encryption\", \"security\", \"server\", \"clipper\", \"secure\", \"motif\", \"tap\", \"clipper_chip\", \"agency\", \"pgp\", \"rsa\", \"dual\", \"crypto\", \"privacy\", \"export\", \"detailed\", \"warrant\", \"restriction\", \"cryptography\", \"cd\", \"second_amendment\", \"assure\", \"algorithm\", \"secrecy\", \"wiretap\", \"testing\", \"distribution_inet\", \"tavare\", \"secret\", \"license\", \"proposal\", \"public\", \"private\", \"chip\", \"message\", \"government\", \"technology\", \"use\", \"system\", \"information\", \"bit\", \"phone\", \"drive\", \"car\", \"bike\", \"engine\", \"nhl\", \"ride\", \"weight\", \"mile\", \"though\", \"rider\", \"auto\", \"oil\", \"quick\", \"noise\", \"travel\", \"corner\", \"spacecraft\", \"essentially\", \"wiring\", \"gear\", \"wind\", \"tire\", \"combination\", \"lift\", \"strip\", \"highway\", \"suitable\", \"sensor\", \"paint\", \"dirty\", \"road\", \"ground\", \"mirror\", \"light\", \"speed\", \"fast\", \"sport\", \"power\", \"front\", \"driver\", \"science\", \"reference\", \"pin\", \"section\", \"faq\", \"author\", \"internal\", \"object\", \"concept\", \"transfer\", \"processor\", \"generate\", \"cable\", \"gmt\", \"language\", \"blind\", \"description\", \"expansion\", \"modify\", \"connector\", \"radiation\", \"enable\", \"typically\", \"qualified\", \"button\", \"presence\", \"extension\", \"phase\", \"responce\", \"observe\", \"book\", \"panel\", \"reality\", \"define\", \"obtain\", \"copy\", \"operate\", \"describe\", \"cover\", \"function\", \"remove\", \"space\", \"notice\", \"launch\", \"mission\", \"orbit\", \"external\", \"vehicle\", \"satellite\", \"door\", \"moon\", \"flight\", \"rocket\", \"saturn\", \"planet\", \"energy\", \"fuel\", \"sky\", \"shuttle\", \"mar\", \"lunar\", \"park\", \"mph\", \"solar\", \"space_station\", \"ozone\", \"crew\", \"thermal\", \"environmental\", \"giant\", \"cbr\", \"earth\", \"observation\", \"environment\", \"cost\", \"fly\", \"model\", \"character\", \"picture\", \"format\", \"quality\", \"associate\", \"handle\", \"hole\", \"gift\", \"insurance\", \"excuse\", \"popular\", \"draft\", \"morality\", \"solid\", \"pub\", \"scale\", \"depth\", \"fee\", \"programmer\", \"hunt\", \"translate\", \"meter\", \"import\", \"runner\", \"sc\", \"leadership\", \"scare\", \"fish\", \"variation\", \"cost\", \"type\", \"license\", \"window\", \"monitor\", \"normal\", \"font\", \"left\", \"widget\", \"please_respond\", \"trivial\", \"impressive\", \"click\", \"upper\", \"publisher\", \"ms_window\", \"hassle\", \"dialog\", \"visualization\", \"judaism\", \"user_interface\", \"accessible\", \"enhanced_mode\", \"environment\", \"vendor\", \"do\", \"application\", \"routine\", \"size\", \"correctly\", \"value\", \"color\", \"window_manag\", \"create\", \"top\", \"position\", \"patient\", \"disease\", \"scientific\", \"computer_science\", \"animal\", \"health\", \"medical\", \"dog\", \"medicine\", \"luck\", \"km\", \"cure\", \"prevention\", \"television\", \"lemieux\", \"soviet_union\", \"adequately\", \"pitt\", \"treatment\", \"study\", \"treat\", \"dn\", \"diagnosis\", \"tumor\", \"eeg\", \"syndrome\", \"neurologist\", \"millie\", \"aunt\", \"gonorrhea\", \"department\", \"box\", \"club\", \"modem\", \"status\", \"primary\", \"spec\", \"sufficient\", \"public_access\", \"automatically\", \"investment\", \"campaign\", \"exposure\", \"galaxy\", \"global\", \"approval\", \"spectrum\", \"routine\", \"baud\", \"yehuda\", \"speedstar\", \"rating\", \"accelerator\", \"keyboard\", \"mixer\", \"enviroleague\", \"resident\", \"admiral\", \"transformer\", \"franchise\", \"taxpayer\", \"hockey\", \"color\", \"ripem\", \"fund\", \"connect\", \"slave\", \"moral\", \"property\", \"serial\", \"lock\", \"positively\", \"intent\", \"alarm\", \"converter\", \"unnecessary\", \"provision\", \"theft\", \"deter\", \"complexity\", \"flexible\", \"malfunction\", \"hudson\", \"seller\", \"serial_number\", \"specie\", \"lemon\", \"serial_port\", \"premise\", \"protocol\", \"selfish\", \"handshake\", \"steven_langlois\", \"freshman\", \"spoof_chip\", \"granted\", \"ofthe\", \"immoral\", \"evil\", \"marriage\", \"behavior\", \"item\", \"encrypt\", \"transmit\", \"compare\", \"drug\", \"film\", \"movie\", \"stereo\", \"japanese\", \"deficit\", \"plot\", \"mad\", \"harley\", \"deck\", \"legalization\", \"legalize\", \"dale_cook\", \"hypocrisy_t\", \"neighbor_political\", \"heroin\", \"fuck\", \"criminalization\", \"taxis\", \"convinced\", \"winco\", \"reagan_reagan\", \"addict\", \"vat\", \"advocate\", \"revenue\", \"carter\", \"cigarette\", \"pot\", \"dea\", \"illegal\", \"trend\", \"gonorrhea\", \"plane\", \"hi\", \"subscription\", \"steve\", \"divide\", \"evolve\", \"intersection\", \"rip\", \"upcoming\", \"script\", \"infinity\", \"tel_fax\", \"portal\", \"announce\", \"intersect\", \"offerre\", \"xterminal\", \"turkish_plane\", \"cargo\", \"colour\", \"elchibey\", \"architecture\", \"shipment\", \"refugee\", \"feal\", \"c\", \"calculation\", \"parallel\", \"confiscate\", \"azeri\", \"tv\", \"advertising\", \"logo\", \"circle\", \"_\"], \"Freq\": [53235.0, 17060.0, 13405.0, 9429.0, 9896.0, 6637.0, 5937.0, 3405.0, 7863.0, 5026.0, 1994.0, 2521.0, 5181.0, 2275.0, 10774.0, 6155.0, 7967.0, 2024.0, 8881.0, 2061.0, 3455.0, 1931.0, 1697.0, 1739.0, 2761.0, 2419.0, 2869.0, 3172.0, 6755.0, 1680.0, 7966.542338465034, 4229.183132731063, 2985.379658316623, 2784.2963745528414, 2454.7507005495368, 2293.210151183344, 2271.452340658771, 2267.4263029468575, 2790.912130466254, 2157.2813812512386, 2086.110663739511, 2052.416614115791, 2023.4577655734897, 2020.9491182500444, 1541.957242873245, 1514.656417875219, 1430.3402229378662, 1336.461387032544, 1288.4309246483217, 1250.894074042167, 1144.1316899639107, 1141.7083531945395, 1108.227735066104, 998.8115206123776, 930.88291437567, 927.9775988274622, 879.0815186878995, 837.9583674985595, 780.6303990077578, 775.5200383018769, 6708.314452160979, 6800.934207694897, 3158.8779553822624, 2266.4087807018986, 2838.7646298643403, 10296.965263555783, 2047.8559635983454, 3725.891399131741, 2179.588074710389, 5831.2454352953755, 2706.555813716803, 4534.6850869875325, 3669.0582318545703, 4213.091804318204, 4295.533442014031, 5119.130837653187, 6514.919458937105, 6308.040227832882, 5798.985016607033, 3025.7415808467895, 4182.358496251157, 3474.564231880755, 3593.638324902817, 3548.763939392415, 3104.738119852266, 3215.888775425372, 4479.383166600946, 3254.193110797999, 3015.2867465933014, 3139.4008837433407, 3105.7810801533487, 2859.573166587214, 3433.4962745583166, 3385.954830091756, 2999.6084738912623, 2065.5447473582, 1711.667523797165, 1686.5016091291864, 1587.0014225587638, 1354.6678827955056, 1119.4412107071003, 1059.3283293596562, 1055.3683843444437, 1045.5134328410816, 1038.0217664822082, 1033.6998169852482, 1031.976525792578, 1021.1845774365896, 990.7019268290536, 986.7308360096164, 938.2453700239013, 920.8916338329175, 912.3695893877045, 868.7583990124979, 865.5107551832331, 761.2719158974044, 696.3648401378723, 627.379617641015, 590.901039502876, 576.1883437709016, 513.4435071998246, 495.07625212216846, 638.452318502576, 718.1159239132177, 1725.7108624712332, 757.1713838894096, 2739.5669331368417, 1405.677545620313, 1897.2569655759103, 1070.1937088964185, 1324.6970025600958, 2359.89401013803, 4362.68319660092, 2423.338363001974, 1608.5995559282376, 3870.999998905148, 1963.1784968443185, 2247.0520149241443, 1663.6150582562411, 1485.675852975463, 1142.533256491547, 1426.3443018703829, 1129.5177670238684, 1297.7633071447692, 1219.1010913632613, 2042.6123019972713, 2031.9730230604932, 1209.1211944579195, 1319.0404600850197, 1403.0018033086549, 1534.9293491682488, 1311.6489186397268, 6636.212369095602, 5936.146487023967, 2868.7377457468956, 2139.349133921586, 1400.8700300439023, 1347.343214114263, 1305.1358132057492, 951.3414681007222, 792.8230885657943, 707.0197619812492, 574.6944827617446, 546.5210862450023, 518.8958162945431, 504.8784753035182, 391.17460159525183, 382.7897383523112, 354.26414817011835, 338.1478808068958, 312.4828502823536, 305.1042191841707, 293.6551110390219, 272.6493494467694, 269.62256960782946, 257.4894619681237, 247.61123799270328, 232.13322853721988, 226.83350841845032, 224.35268945546468, 204.02229218486576, 202.622180284379, 3382.11394848616, 8959.233010095111, 15393.837652397819, 774.793399311534, 979.6460751041387, 1187.3089065259765, 904.0731937488765, 7407.530952760041, 368.0454702979183, 8763.424146762061, 1327.970852032951, 838.5149058887215, 1545.1397673430038, 1580.1467031169475, 806.3818549753435, 1225.701823260916, 764.8716132338305, 1517.6881940334406, 1323.2887674840758, 1357.4208195419951, 828.2955512009953, 1004.9529252778628, 983.4720360570353, 894.7254121677548, 875.8477654874185, 2692.784825657323, 1657.4832651345307, 1517.8518113078087, 1208.8737699426053, 1133.1173157960789, 1130.1551099620865, 1094.798623213159, 944.8317515965124, 944.4172924407509, 942.4543875989592, 896.0713710491191, 896.0605852560299, 885.1594882062203, 845.4464170527673, 839.4198414766383, 786.2029573755432, 730.9252750415728, 630.7752441928711, 594.5212371083559, 523.0292227482379, 465.21961654924877, 451.65437385619515, 448.32597118424883, 422.9584154660338, 410.3209699795238, 401.21357222053086, 373.53284713621974, 369.2562254261447, 354.4149741354453, 352.50816089273917, 2082.4646464322996, 2776.618141570858, 724.7927577922076, 1307.0802227767258, 741.7893061933045, 1417.3524193134117, 928.0285809679584, 882.9581461618736, 3788.062075282591, 1310.8775884471763, 1361.4028422952267, 1217.93723065107, 1647.9566175756374, 3255.7666517659436, 1882.0825689072433, 1387.6240360487197, 1289.6968093301057, 1206.4561097840692, 1268.2543241675212, 1160.663574343197, 1496.2483605021678, 1304.4262606741652, 1346.7543117744453, 993.6801157453997, 1049.0895271056265, 1758.7844576157734, 1513.1141065172474, 1318.7163313013336, 1041.8363315345182, 1031.9057641466245, 909.6266846303582, 831.0269282937004, 781.9569557719317, 765.3904829370498, 686.9214569851753, 656.668331930295, 650.1804991207445, 612.1058808450802, 598.2167955756308, 2755.8505055807623, 579.8625607059279, 565.921357162671, 560.7191389456552, 550.218931179684, 478.873773161087, 467.0825056097951, 463.9358705484042, 450.04504647789724, 439.14569235334534, 425.8199786265815, 411.7701457751428, 409.3145011024858, 389.8868311272065, 387.69191509735504, 382.5051859371292, 591.7163793373734, 422.0894724731937, 829.348985273048, 867.7362216757125, 1649.8809679618726, 1717.0876421894452, 697.6959377390328, 488.9006152180687, 563.9869409860122, 583.8154046050846, 3073.5669803137394, 562.0772798454639, 1078.0549169548867, 1608.2795120461808, 857.2796212099507, 608.3448083994155, 600.8998571234622, 566.8338616545677, 53234.66867213404, 2418.3400361224835, 1671.0813493338317, 960.8548322733039, 770.2457871343016, 397.217554097191, 396.29957358832837, 351.701436372845, 280.1524866427524, 228.02734669677213, 192.48231835425514, 187.64874431588444, 182.32152488174006, 169.45327216431588, 156.63305707853272, 153.6061840367259, 124.2648553358843, 111.7694653687419, 109.54961643772245, 105.67694084623022, 83.94677389023941, 64.8575709178887, 56.79387929149593, 31.73521278679642, 31.26707877575215, 27.106511551632472, 24.150566923525563, 0.14616541450025627, 0.1435860435396014, 0.14356887684537892, 13.862052486547144, 6.249321215367473, 1384.4437687070192, 1179.4740547645902, 833.321630709841, 797.5763148580858, 708.2241650208596, 631.55863826465, 568.7377190619546, 549.3978089530135, 541.8022555273246, 534.8720123406844, 499.4096841373238, 469.2625754404117, 466.2356908088996, 463.99806968391465, 462.4794575198626, 453.3001456870104, 439.6971054497095, 426.85200190009425, 397.6370353147002, 379.5797091767722, 378.3833816627458, 373.3042211222427, 356.8469014861227, 296.9537473830257, 276.99653276921345, 273.2754729123333, 270.10894083101545, 264.6371487761728, 262.23646201951726, 260.1423657305602, 460.6470232550789, 1036.3296949529922, 964.5867869617983, 906.7733582003117, 1257.2026008037642, 596.9937711071548, 806.6681700905967, 746.3693983066071, 1274.5270086270104, 816.0801250967703, 1261.1524879935566, 637.1037929286457, 805.1382642698504, 559.8748142539821, 720.9543625375142, 651.3305999811878, 490.19252162944707, 474.20273476214595, 524.1062340848947, 501.83754337043996, 1679.5074323247925, 770.6153060189502, 749.6131430118012, 694.5464609635329, 613.6085289859537, 526.7444402169441, 476.7827099798918, 476.23462254572854, 396.71977808320486, 393.29865665905163, 379.95832068112065, 363.6128684334873, 328.97147347534565, 285.7915276998985, 251.85402272479791, 247.7886464411668, 235.76962207284865, 229.75071954352106, 220.00765757431506, 213.79824680944586, 207.4232186554748, 198.28209067505577, 196.27303275799986, 195.352380163405, 187.81818464755932, 186.29618978455798, 168.51531393828483, 162.77554906670562, 160.56528049331328, 159.75859838939357, 564.5636566149693, 272.2686073941298, 448.03513300803877, 198.518199970354, 293.4205785654325, 271.04907168995965, 222.29540292709075, 246.4969723045242, 275.75880574096084, 2060.4379875893856, 1930.1243595677556, 1400.0227178130474, 1328.577339246867, 1297.3744440167166, 838.1746694610686, 677.6599628859751, 490.8719486027776, 480.40535764839973, 449.4980519640619, 442.325995927318, 360.8290087062944, 353.7342389332927, 306.5102959777208, 304.5214594804953, 295.5889251392343, 212.9331156739343, 208.45982247932722, 193.11298754584797, 185.16388553231758, 183.7789271064491, 162.3171299944812, 159.31470885108152, 158.30036698324196, 154.09191516944767, 131.64908152944435, 125.4709472025162, 125.15543403747664, 121.94567070594869, 119.79972933337442, 299.62486696150495, 219.256586906724, 333.381163300991, 208.24400189124137, 674.0849828558349, 340.89195810500087, 428.6698383569773, 225.2174110291755, 223.44762262221593, 232.5000710829357, 190.56453941101194, 2519.8596674385594, 1016.5083110386788, 734.4752891068066, 678.5648737097358, 674.454589825109, 530.5517426220201, 429.47253722559697, 408.3554090487673, 402.2915531523592, 385.09365166740827, 357.3255698522607, 310.7778453313358, 298.8010336277465, 231.93907868175282, 216.72942024762995, 205.347968698843, 185.46873654394045, 180.05583440306108, 157.62315018634993, 156.9128047854587, 136.84528068083267, 119.9592408610032, 114.04601852437384, 110.79890136297064, 97.89653283450359, 93.96475704777448, 92.6304995249479, 87.7614396176225, 85.24399124210134, 75.28934401431384, 328.1577197970103, 367.6502099283503, 197.88272317485584, 752.7361988741243, 302.54668301651833, 507.10767909812733, 418.8393004701258, 418.7138983647718, 304.2232420885237, 305.1833255823304, 268.6292781952563, 212.06990801351787, 210.8245047454679, 186.0961135487017, 3403.8490010281544, 2023.390792623611, 797.095068791075, 540.4972251213773, 523.458811557432, 498.2076749463081, 371.65600189246635, 350.0012603568133, 321.13717605003086, 275.8702779736002, 227.16266273508538, 223.90267103618126, 222.97093549732108, 187.4883432660291, 180.7722893973953, 164.27382438605932, 163.78277373094764, 157.02813872368796, 154.91505621562953, 151.0769096017965, 142.5193923529747, 139.95805656187449, 139.10069329887594, 123.46559838188962, 117.04052708360979, 109.84055372013377, 109.6569862032989, 104.019319924206, 98.12202735903897, 96.07900719932168, 410.0237262329051, 336.0482760167375, 182.8789486559847, 321.73261231685376, 323.88755525621673, 249.85736687844766, 158.17133138283114, 256.0757802752536, 167.21183118572984, 170.6802713840149, 906.8682848561316, 881.1356669342867, 740.9316956454195, 667.8590672335624, 523.1395891534106, 507.1347283386358, 456.28682008162815, 435.7294097302535, 389.3596565077841, 369.6822334596125, 343.87402361641006, 323.15822559333037, 323.11944465871466, 274.8426080753728, 253.77780095396588, 249.1312540026375, 232.56088295555017, 199.08391711101424, 166.89091307633353, 166.83625667943983, 153.31425443133023, 140.43963113158705, 137.43744988496667, 122.86566820881617, 122.7749636971514, 121.01106850821188, 118.02521658440905, 114.01392953937965, 99.45817783122271, 98.01598285537803, 1622.583797934101, 153.71827722101852, 470.20276362148314, 438.17052278388485, 241.07812640731868, 478.2593869086174, 213.4667576101997, 272.9178338100642, 277.0500891738016, 222.57492748449704, 208.72401153769547, 1695.8207659237598, 466.8744224242247, 464.38060772779335, 386.0460787048875, 376.0595160378652, 373.39810642767935, 320.13760892109815, 304.4938701237644, 297.37962369428317, 285.5099533914223, 263.37856015312786, 245.05217234759255, 230.57389345902473, 212.7248120412508, 207.87656247948442, 197.68339163470532, 177.42567621548332, 174.29711883717528, 159.70547391802202, 154.03977525615386, 150.1181316166444, 144.386706834446, 137.80005419096935, 132.91634613839796, 119.82437673943419, 110.63945261222604, 105.36962777219756, 104.65537864627801, 104.60303126440377, 102.12109308009816, 416.340659062903, 165.42444955726583, 175.3873781882608, 198.6197397178168, 121.41201430434712, 877.5783427540852, 577.7369337060874, 534.6433311238898, 531.4758084586078, 474.69861799357477, 469.2683040608496, 417.70964501008746, 338.38921086553034, 334.3495810480113, 333.8703952483655, 287.9877222529829, 266.0562244401823, 234.99764004170603, 231.70938566146165, 192.6556192052503, 155.25717561197717, 155.20767533376463, 148.71309854252073, 127.80564719104694, 127.09469445943127, 114.57936265644395, 104.86126420499106, 101.20463917974344, 97.88163557668607, 93.03989906982599, 92.14170765039522, 91.90207348887891, 91.24630827221957, 89.74890766391775, 88.33705629998435, 960.6185460687284, 236.11123813166355, 102.90872648736149, 1992.9951540638174, 455.55358775057016, 441.8380162201394, 253.10930129560776, 182.34553726910121, 163.67714692600856, 150.33256904551604, 137.09007247024243, 86.1407095436249, 81.18332103707226, 78.32994909725208, 71.14468596903458, 45.83189372642585, 38.24000226692077, 31.069769263804584, 23.542121448703824, 22.859917876189428, 13.766498684942718, 9.475828703101113, 1.0592154125541315, 139.76822567509842, 57.0311045202241, 326.1805821169454, 85.36671205901922, 9.29179153809017, 52.737389626309174, 11.194535974620601, 44.19979852763056, 0.05941652656613325, 0.05940765225920553, 35.45870347960423, 15.356605169556119, 9.683755357000186, 630.4151821180369, 333.8626586345346, 302.7503495362119, 279.094905132366, 239.41124226812664, 227.8968358989021, 208.3471372094112, 184.46895761736255, 94.06015468506257, 82.72751424027423, 74.12253023392222, 71.33005270589285, 63.00465004431339, 45.772597200746915, 34.12260133300328, 29.08481529270756, 26.027606474927403, 15.191440794365464, 225.69331499320276, 167.89370045056913, 52.78282915929918, 0.04486507596601513, 0.044861685886490074, 0.044860846001923055, 0.044857766425177324, 0.04485478865262153, 0.04485060450041493, 0.044850176922817175, 0.044850176922817175, 0.04484741802926976, 8.56902253141032, 230.81929593845274, 190.1873166143064, 156.68549829797183, 154.8334025700479, 115.22153242556242, 111.43079973961254, 100.69254985899572, 88.29723742233999, 86.57085682941351, 79.34440895747926, 66.30600516694606, 65.54032436869151, 53.327680552249035, 33.34176311091581, 28.859857656698253, 18.200690938257548, 112.11902578253911, 0.04306696383155811, 0.043066579681921645, 0.04306617822824751, 0.04306636511185443, 0.043067019204478675, 0.04306747257026585, 0.043065911746067255, 0.0430667596439135, 0.0430659255892974, 0.04306586329476176, 0.04306577331376583, 0.04306599826625565, 0.043065285339903295, 0.04306884997166505, 0.04306816473177299, 0.04306904723769459, 0.043066621211612074, 0.04306654507384629, 0.04306689461540739, 239.06621076642736, 145.12276742912707, 116.90869392432154, 93.96989666931655, 57.09813425979947, 55.07817902825033, 46.09486839840299, 31.26735900670426, 28.64726488578782, 18.813753079084034, 17.817085247710548, 17.185810690190944, 15.890875517262053, 10.602116018588184, 3.3072519446276116, 0.03443898902608667, 0.03443916783603527, 0.03443845730176585, 0.03443734915063705, 0.034437264451187714, 0.03443705740808934, 0.03443684801222848, 0.03443763618765979, 0.03443675860725418, 0.03443646215918151, 0.0344364127511694, 0.034436408045644434, 0.03443655156415581, 0.03443631393514518, 0.03443631393514518, 0.034436603324930405, 0.03443724327632538, 0.03443692330062789, 0.034436958592065116, 0.03443775147302139, 0.0344381961451304, 0.03443694447549023, 0.034436763312779145, 288.73821171194766, 58.549106196427445, 53.94967886699954, 52.1053945833126, 50.135300423923994, 44.96675592458826, 41.42476430679198, 28.639168520351873, 19.30708171514049, 13.853453244897223, 0.028521166059029886, 0.028520059688751126, 0.028519955208589895, 0.02851918466740081, 0.02851918466740081, 0.028519106307279888, 0.028519106307279888, 0.02851888428693727, 0.028519111904431384, 0.02851890294410892, 0.028518731298129752, 0.02851871077524094, 0.028518649206574497, 0.0285188880183716, 0.028519067127219425, 0.028518858166896963, 0.028518738760998412, 0.028518587637908058, 0.028518761149604388, 0.028518367483282604, 0.02851905220148211, 0.028518763015321556, 0.02851869958093795, 92.38597884425353, 38.92568378460908, 26.77424616369233, 24.97793392055673, 19.12927915348671, 13.532185287069616, 12.826744212173972, 12.285180473566767, 10.145415211771882, 8.663666429819411, 8.41677474720443, 7.214271425439414, 5.871342935534964, 0.02034965322195685, 0.020348403137157883, 0.02034811447698084, 0.02034811447698084, 0.02034817965831114, 0.020348126116504106, 0.020348142411836682, 0.02034797247479697, 0.020348116804885494, 0.02034797247479697, 0.02034772338899904, 0.020347681486715275, 0.020348808192567604, 0.020347830472613102, 0.020347909621371323, 0.020347641912336165, 0.02034764424024082, 0.02034836821858808, 0.0203481214606948, 0.020348079558411034, 0.020348021360794697, 0.020348228544308865], \"Total\": [53235.0, 17060.0, 13405.0, 9429.0, 9896.0, 6637.0, 5937.0, 3405.0, 7863.0, 5026.0, 1994.0, 2521.0, 5181.0, 2275.0, 10774.0, 6155.0, 7967.0, 2024.0, 8881.0, 2061.0, 3455.0, 1931.0, 1697.0, 1739.0, 2761.0, 2419.0, 2869.0, 3172.0, 6755.0, 1680.0, 7967.726414165191, 4230.36720843122, 2986.5637340167805, 2785.4804502529987, 2455.9564303616526, 2294.3942268835012, 2272.6364163589283, 2268.610378647015, 2792.434368919672, 2158.465456951396, 2087.294739445385, 2053.6006898159485, 2024.6418412793637, 2022.1331939502018, 1543.1413185734023, 1515.8404935753763, 1431.524298645286, 1337.6454627327014, 1289.615000348479, 1252.0781497423243, 1145.315765664068, 1142.8924289007582, 1109.4118107662614, 999.9955963125351, 932.0669900809177, 929.1616745276197, 880.2655943931471, 839.1424431987169, 781.8144747079152, 776.7041140087698, 6755.644896720208, 6871.815665114956, 3170.538692390502, 2273.698626540146, 2855.436464258357, 10774.33066692775, 2074.533085976135, 3849.205366794193, 2216.555333136264, 6280.339470709822, 2817.9604661497547, 4867.106955670767, 3967.1075751938647, 4806.638306022083, 4931.077113039142, 6188.056720679771, 8625.059213119286, 8341.131282763141, 7842.715350474069, 3431.8483099359437, 5540.894760274023, 4331.792352982689, 4927.407378623906, 5026.841713772068, 4187.7006963223685, 4531.674921080574, 8881.772188210802, 4658.3129459764195, 4216.092033098207, 6021.884253510163, 13405.183976734139, 4141.33752200832, 3434.6884196058695, 3387.146975139309, 3000.800618938815, 2066.7368924057528, 1712.8596688447178, 1687.6937541828006, 1588.1935676063167, 1355.8600278430586, 1120.672116957833, 1060.5204744072091, 1056.5605293919966, 1046.7055778886345, 1039.2139115297612, 1034.891962032801, 1033.168670840131, 1022.3767224841426, 991.8940718766066, 987.9229845538075, 939.4375150714543, 922.0837788855607, 913.5617344352576, 869.9505440600509, 866.7029002370671, 762.4640609449574, 697.5569851854253, 628.571762688568, 592.0931847150392, 577.380488824516, 514.6356522473776, 496.2683971697214, 640.3992293572818, 721.6157111689372, 1754.7438432217725, 762.9281725772532, 2880.0702471471304, 1539.911012408507, 2221.815159700023, 1148.395135551132, 1495.2066623841445, 3367.7867343827706, 8881.772188210802, 3813.7200509736867, 2111.9321073099823, 7863.367594259939, 2963.7515686185407, 3964.345171624632, 2670.7233441641615, 2185.412897565433, 1315.366788734421, 2309.7964207834266, 1292.7392068954646, 1863.2347772079586, 1637.7841075993663, 7842.715350474069, 8341.131282763141, 1680.7976741787406, 2520.1032939933084, 4658.3129459764195, 13405.183976734139, 6021.884253510163, 6637.401926754262, 5937.336044682626, 2869.9273034055545, 2140.5386916118887, 1402.0595877025614, 1348.5327717729222, 1306.3253708644083, 952.5310257593815, 794.0126462472467, 708.2093196399085, 575.884040449478, 547.7106439036615, 520.0853739598857, 506.06803296759995, 392.364159253911, 383.9792960223416, 355.4537058287775, 339.3374393790057, 313.6724079575058, 306.2937768849115, 294.8446687602621, 273.8389072109388, 270.81212733410825, 258.6790196334663, 248.80079565136236, 233.32278621876128, 228.02306614212011, 225.54224711412377, 205.2118498564892, 203.8117379569895, 3455.240366168724, 9429.33032886099, 17060.958146089266, 802.34104313244, 1028.1820393944492, 1301.8300230409675, 1004.3411060221262, 9896.935245596012, 380.6915184331704, 13405.183976734139, 1687.160078316402, 1025.738436643461, 2415.279907039431, 2901.602499997865, 1339.3480834088336, 2901.1278766783785, 1287.2703606380958, 4819.9537558968095, 4016.48220802352, 5540.894760274023, 1720.3367960842943, 3367.7867343827706, 4187.7006963223685, 6155.462402730197, 8625.059213119286, 2693.9657675572644, 1658.664207034472, 1519.03275320775, 1210.054711847969, 1134.2982577135124, 1131.3360518620277, 1095.9795651198358, 946.0126934964537, 945.5982343406922, 943.6353294989005, 897.2523129541437, 897.2415271559712, 886.3404301061616, 846.627358959971, 840.6007833820022, 787.38389932295, 732.1062169415142, 631.9561861616952, 595.7021790082972, 524.2101646481792, 466.40055844919004, 452.83531576121965, 449.5069130841901, 424.1393573710653, 411.50191188620056, 402.3945141462961, 374.713789036161, 370.43716732608596, 355.59591603538655, 353.68910279776367, 2093.1384540568915, 2800.2516710115315, 731.3118548831325, 1354.966186783585, 773.8835442681345, 1589.1490488413888, 1003.8756541777549, 969.4464006124415, 5181.5626857633415, 1548.1039843109202, 1634.3721629963945, 1470.5470697780509, 2311.421881885875, 6155.462402730197, 3172.526859522341, 2169.9938034580346, 1966.1150645902571, 1868.2821790284297, 2480.8290761155763, 1965.7637648061616, 4158.911900918332, 4927.407378623906, 6021.884253510163, 1614.3670276445682, 4819.9537558968095, 1759.9703850093047, 1514.3000339107787, 1319.902258694865, 1043.0222589280495, 1033.0916915401558, 910.8126120238896, 832.2128563844532, 783.1428831654631, 766.5764103305812, 688.107384419506, 657.8542593424874, 651.3664265142759, 613.2918082386116, 599.4027229742525, 2761.3336762549256, 581.0484881067217, 567.1072845562024, 561.9050663391866, 551.4048585855611, 480.0597006751754, 468.26843303701185, 465.12179794193554, 451.2309738930119, 440.3316197468767, 427.0059061534292, 412.9560731989464, 410.50042849601715, 391.0727585258281, 388.8778424971674, 383.6911133536544, 595.5583411199542, 424.81745635834983, 870.7870837002777, 948.9895995943776, 1965.0092992192328, 2136.925327495127, 780.8598952678879, 505.6696173095852, 617.731614784038, 657.0068797117133, 7863.367594259939, 624.9096586033012, 1784.8954007077034, 4025.0624989773146, 1611.1396070249848, 781.8577173501233, 852.5679560300038, 713.0513486458447, 53235.78330993471, 2419.454674239803, 1672.1959872169325, 961.9694704331662, 771.3604251379002, 398.3321920913334, 397.4142117965267, 352.8160743900871, 281.2671246526869, 229.14198464045538, 193.59695633247446, 188.76338235451928, 183.43616284605923, 170.56791073504291, 157.74769499750545, 154.72082194192922, 125.37949320336118, 112.88410327047728, 110.66425431292319, 106.7915787471253, 85.06141200959232, 65.97220882630252, 57.90851751343068, 32.849850708794854, 32.381716735694866, 28.221149486757167, 25.265204784543986, 1.2608069906470196, 1.2582417525251093, 1.2582066826034255, 2415.082053292049, 2273.698626540146, 1385.626961374732, 1180.6572474383643, 834.5048233836152, 798.7595075308819, 709.4073576946338, 632.7418309323629, 569.9209142100353, 550.5810016270074, 542.9854482551846, 536.0552050083973, 500.59287680503655, 470.44576812621386, 467.4188834816956, 465.1812623516274, 463.66265018757537, 454.4833383547232, 440.8802981174223, 428.0351945732296, 398.820227982413, 380.76290184990756, 379.56657433714196, 374.48741379601677, 358.0300941538355, 298.1369400507385, 278.1797254369262, 274.4586655873086, 271.2921334987282, 265.8203414501666, 263.41965469351106, 261.32555839827296, 463.8924362575257, 1080.0044560095248, 1028.0480983305447, 983.0771042040178, 1462.4320983936893, 654.8944124221194, 931.2099000695276, 977.5406471764204, 2244.6060769491332, 1174.625694718894, 2265.8137034202364, 1022.7836609938774, 2480.8290761155763, 1051.0066159186347, 5026.841713772068, 3223.5627899253845, 678.0231955646722, 661.4782062892112, 3813.7200509736867, 4016.48220802352, 1680.6974703700441, 771.8002561150018, 750.7980931078529, 695.7314110595846, 614.793479087428, 527.9293903129958, 477.9676600962331, 477.41957264178006, 397.9047281792564, 394.48360679501263, 381.14327078390767, 364.7978185295388, 330.15642358762665, 286.97647779595, 253.03897282084944, 248.97359654836978, 236.95457219303427, 230.93566963957258, 221.19260767762904, 214.98319690549738, 208.6081687569489, 199.4670407711073, 197.45798289530535, 196.53733025945652, 189.00313483979238, 187.4811398806095, 169.70026415831515, 163.96049919160288, 161.7502306209711, 160.94354851079692, 588.9997943246062, 325.8286314434538, 728.8133578019191, 255.94051073886155, 782.0946741938868, 624.7740046713583, 361.1918456902529, 908.6087135604308, 2185.412897565433, 2061.6354251819157, 1931.321797160286, 1401.2201554055778, 1329.774776845114, 1298.571881609247, 839.3721070773307, 678.8574004842222, 492.06938619530797, 481.6027952409301, 450.695489562309, 443.52343351984837, 362.0264463045415, 354.9316765511636, 307.70773357596784, 305.7188970787424, 296.7863627437623, 214.1305532664646, 209.6572600718575, 194.31042513837826, 186.36132312484787, 184.97636470571484, 163.5145675927282, 160.51214645659098, 159.4978046345532, 155.28935286715028, 132.84651914266155, 126.66838479504653, 126.35287163572366, 123.14310832894616, 120.99716693162144, 349.8366166452688, 248.56304096004916, 700.0744405441446, 333.8200657945773, 5026.841713772068, 1278.9553496414203, 3172.526859522341, 482.72745978213254, 671.6985549165166, 2287.6575948263408, 688.2796167349612, 2521.0557158638835, 1017.704359480485, 735.6713375321309, 679.7609221350601, 675.6506382504333, 531.7477910473444, 430.6685856626991, 409.5514574740915, 403.4876015776834, 386.28970009273246, 358.5216182775849, 311.97389375666, 299.9970820530707, 233.13512721889228, 217.92546867295408, 206.54401712416714, 186.6647849692646, 181.2518829272898, 158.81919861167407, 158.10885321804528, 138.0413291061568, 121.15528929306281, 115.24206694969799, 111.99494983593354, 99.09258126454289, 95.16080547309863, 93.82654795027204, 88.95748804803686, 86.4400396788761, 76.48539243963799, 355.9980266308422, 471.6892006572545, 237.94878417305134, 1611.1396070249848, 630.5163847722843, 1614.3670276445682, 1720.3367960842943, 2136.925327495127, 1287.2703606380958, 6155.462402730197, 5181.5626857633415, 2244.6060769491332, 2311.421881885875, 1025.738436643461, 3405.0426061501207, 2024.5843977455775, 798.2886739130416, 541.6908302433438, 524.6524166854599, 499.40128006827456, 372.84960706928985, 351.1948654850608, 322.33078122527064, 277.06388309556667, 228.3562678570518, 225.09627615814767, 224.1645406192875, 188.6819483879955, 181.9658945743899, 165.46751850572662, 164.97637886743897, 158.22174391005038, 156.10866134231108, 152.27051472947963, 143.71299748731386, 141.1516616838409, 140.29429848110226, 124.65920351111853, 118.23413220557623, 111.03415885347142, 110.85059138751888, 105.21292504617244, 99.33069072636104, 97.27261233930312, 570.5375094432092, 512.6920440665989, 263.22233223224737, 851.4009322029567, 931.5770424057623, 1049.8177806488382, 297.233303250355, 1798.7696656302574, 411.7929089986101, 1589.1490488413888, 908.0633202405284, 882.3307023129668, 742.1267310426016, 669.0541026122424, 524.3346245320906, 508.3297637173157, 457.4818554669914, 436.9244451089334, 390.5546918937265, 370.877268843715, 345.0690590085088, 324.3532609837138, 324.31448003739456, 276.0376434847967, 254.97283633264578, 250.3262894390253, 233.75591833423007, 200.2789524957554, 168.08594846009666, 168.03129207715438, 154.50928990802896, 141.63466651535018, 138.6324852687298, 124.06070363627403, 123.96999908091455, 122.20610390520092, 119.22025196851152, 115.20896491805955, 100.6532133023133, 99.2110182476014, 1739.032571905171, 162.84165657944288, 584.3267391011684, 546.8036749399184, 362.3710144020859, 1204.4126955713348, 409.33355275129196, 755.0680974018888, 860.6221177251151, 728.8184528653861, 622.4884128740467, 1697.0178603909605, 468.071516898109, 465.5777021949943, 387.24317317208846, 377.25661050506613, 374.59520097108793, 321.3347034000981, 305.69096459096534, 298.5767181732181, 286.70704785862324, 264.5756546203288, 246.24926681479343, 231.77098793130884, 213.92190651451295, 209.0736569466853, 198.8804861019062, 178.6227706826842, 175.49421330437616, 160.90256839064546, 155.23686972335474, 151.31522608990656, 145.5838013067301, 138.99714865817023, 134.11344060559884, 121.0214712066351, 111.83654711721617, 106.56672223939847, 105.85247315297266, 105.80012573160468, 103.31818767905372, 822.0582213448131, 218.15878009954335, 316.29329884593164, 1160.3695960589685, 219.61927471351459, 878.7707474495988, 578.9293383959388, 535.8357358127745, 532.6682131417758, 475.89102267674264, 470.4607087614176, 418.9020496932553, 339.5816155486982, 335.5419857590435, 335.0627999366166, 289.1801269773943, 267.24862912335016, 236.1900447309351, 232.90179034698224, 193.8480238884181, 156.44958030725093, 156.4000800229937, 149.90550322568853, 128.99805187421475, 128.2870991425991, 115.77176733961181, 106.05366891601625, 102.39704387017376, 99.07404025985393, 94.23230376511638, 93.3341123386463, 93.09447819736819, 92.43871298585456, 90.9413123635787, 89.52946102151617, 1160.3695960589685, 1548.1039843109202, 471.6892006572545, 1994.1939434333701, 456.75237712012284, 443.03680559986554, 254.30809066516042, 183.54432665004856, 164.87593629556122, 151.53135842848752, 138.28886188956193, 87.33949893104484, 82.38211040662496, 79.52873850801627, 72.34347536801558, 47.03068310808449, 39.43879164820748, 32.268558633357294, 24.740910832202363, 24.058707245742124, 14.965288054495417, 10.67461818971865, 2.258004782106831, 316.29329884593164, 134.5548435161285, 2275.0242545800706, 969.4464006124415, 122.56654249891994, 703.8218610433047, 153.2585165302631, 794.3416161468209, 1.2583197274274376, 1.258210229012239, 1027.2855889650393, 611.3857957362875, 681.645719398962, 631.6285357028322, 335.07601221932987, 303.96370312100714, 280.30825871716127, 240.62459586941492, 229.11018949095975, 209.56049079420637, 185.68231120215773, 95.2735082698578, 83.94086783135046, 75.33588408421255, 72.54340629068808, 64.21800364170106, 46.98595080419586, 35.33595492385978, 30.29816891949308, 27.2409600759451, 16.404794379160688, 302.9753157030047, 754.6842098307944, 395.94458276993697, 1.2582533874265625, 1.2582536831406474, 1.2582430181221356, 1.2582373392762112, 1.2582372653186582, 1.2582221165408447, 1.2582201240035442, 1.2582202091865926, 1.2582612045862567, 539.4313777313331, 232.03442061429104, 191.40244129620598, 157.90062297381013, 156.0485272509764, 116.43665711375343, 112.64592442721748, 101.90767454025661, 89.51236209817833, 87.7859815106744, 80.5595336333176, 67.52112986270906, 66.75544905688253, 54.54280524006497, 34.55688779873174, 30.07498235626827, 19.41581562077925, 122.56654249891994, 1.2581985174139942, 1.2581948319955965, 1.258197436316339, 1.2582060065405072, 1.2582255144913974, 1.2582387822619425, 1.2581975618219854, 1.2582231194839684, 1.2582012696872702, 1.2582015531330668, 1.2582003617740272, 1.2582105500690253, 1.2581934905320615, 1.2583099145994723, 1.2583197274274376, 1.2583953392159493, 1.258248244206521, 1.2582762250068031, 1.2583630539378334, 240.2899642833065, 146.346520963771, 118.13244744662323, 95.19365018619568, 58.32188784702485, 56.30193255084615, 47.31862191528212, 32.491112523583396, 29.871018438169088, 20.037506606808275, 19.040838869433852, 18.409564207070076, 17.114629164900236, 11.825869591465061, 4.531005466596954, 1.258208004224368, 1.2582236740606947, 1.2582340138379873, 1.2582053628684615, 1.2582099084346396, 1.2582074706024595, 1.2582020383603043, 1.2582316621524128, 1.2582002366382314, 1.2581936458274097, 1.2581919632040581, 1.2581962730926064, 1.25820430188733, 1.2581968763559521, 1.2581968763559521, 1.2582075575230092, 1.2582337906647152, 1.2582212223092348, 1.2582252404531207, 1.2582674930422675, 1.2583031788330767, 1.2582337901607499, 1.2583034651339398, 289.9678834202003, 59.778777904680055, 55.17935057525215, 53.33506629156521, 51.36497213943907, 46.19642763890214, 42.65443602230705, 29.868840228604483, 20.536753435211782, 15.083124953149834, 1.2581976571885014, 1.2581955037531176, 1.2581951843611245, 1.2581933094220459, 1.2581933094220459, 1.2581931475309842, 1.25819626791786, 1.258192279491334, 1.2582052607083674, 1.2581961052804969, 1.2581928699977052, 1.2581934109215018, 1.2581935484796483, 1.2582042813504632, 1.25821369540758, 1.258204863408704, 1.2582018965999897, 1.2581966369127202, 1.2582064724600261, 1.2581912133349809, 1.2582250752896398, 1.2582134418705748, 1.2582612045862567, 93.62382073675577, 40.16352567711133, 28.01208820623755, 26.21577581305898, 20.367121100359842, 14.770027196064959, 14.064586110957222, 13.523022371152246, 11.38325713332399, 9.901508334427593, 9.65461664442182, 8.452113317941663, 7.109184863407181, 1.2582639488011222, 1.2581957585713768, 1.2581910820291575, 1.2581911562566837, 1.2581968891822248, 1.2581981214201132, 1.2582004389547032, 1.2581940665646347, 1.2582036034739676, 1.2581951672614151, 1.2581944358642734, 1.2581934456301795, 1.2582632985663202, 1.2582059733047848, 1.2582110042852594, 1.2581945065033022, 1.2581956396509297, 1.2582416508755592, 1.2582274569123182, 1.2582256524236155, 1.25822650177043, 1.2582518459381522], \"Category\": [\"Default\", \"Default\", \"Default\", \"Default\", \"Default\", \"Default\", \"Default\", \"Default\", \"Default\", \"Default\", \"Default\", \"Default\", \"Default\", \"Default\", \"Default\", \"Default\", \"Default\", \"Default\", \"Default\", \"Default\", \"Default\", \"Default\", \"Default\", \"Default\", \"Default\", \"Default\", \"Default\", \"Default\", \"Default\", \"Default\", \"Topic1\", \"Topic1\", \"Topic1\", \"Topic1\", \"Topic1\", \"Topic1\", \"Topic1\", \"Topic1\", \"Topic1\", \"Topic1\", \"Topic1\", \"Topic1\", \"Topic1\", \"Topic1\", \"Topic1\", \"Topic1\", \"Topic1\", \"Topic1\", \"Topic1\", \"Topic1\", \"Topic1\", \"Topic1\", \"Topic1\", \"Topic1\", \"Topic1\", \"Topic1\", \"Topic1\", \"Topic1\", \"Topic1\", \"Topic1\", \"Topic1\", \"Topic1\", \"Topic1\", \"Topic1\", \"Topic1\", \"Topic1\", \"Topic1\", \"Topic1\", \"Topic1\", \"Topic1\", \"Topic1\", \"Topic1\", \"Topic1\", \"Topic1\", \"Topic1\", \"Topic1\", \"Topic1\", \"Topic1\", \"Topic1\", \"Topic1\", \"Topic1\", \"Topic1\", \"Topic1\", \"Topic1\", \"Topic1\", \"Topic1\", \"Topic1\", \"Topic1\", \"Topic1\", \"Topic1\", \"Topic1\", \"Topic1\", \"Topic2\", \"Topic2\", \"Topic2\", \"Topic2\", \"Topic2\", \"Topic2\", \"Topic2\", \"Topic2\", \"Topic2\", \"Topic2\", \"Topic2\", \"Topic2\", \"Topic2\", \"Topic2\", \"Topic2\", \"Topic2\", \"Topic2\", \"Topic2\", \"Topic2\", \"Topic2\", \"Topic2\", \"Topic2\", \"Topic2\", \"Topic2\", \"Topic2\", \"Topic2\", \"Topic2\", \"Topic2\", \"Topic2\", \"Topic2\", \"Topic2\", \"Topic2\", \"Topic2\", \"Topic2\", \"Topic2\", \"Topic2\", \"Topic2\", \"Topic2\", \"Topic2\", \"Topic2\", \"Topic2\", \"Topic2\", \"Topic2\", \"Topic2\", \"Topic2\", \"Topic2\", \"Topic2\", \"Topic2\", \"Topic2\", \"Topic2\", \"Topic2\", \"Topic2\", \"Topic2\", \"Topic2\", \"Topic2\", \"Topic2\", \"Topic2\", \"Topic2\", \"Topic2\", \"Topic2\", \"Topic3\", \"Topic3\", \"Topic3\", \"Topic3\", \"Topic3\", \"Topic3\", \"Topic3\", \"Topic3\", \"Topic3\", \"Topic3\", \"Topic3\", \"Topic3\", \"Topic3\", \"Topic3\", \"Topic3\", \"Topic3\", \"Topic3\", \"Topic3\", \"Topic3\", \"Topic3\", \"Topic3\", \"Topic3\", \"Topic3\", \"Topic3\", \"Topic3\", \"Topic3\", \"Topic3\", \"Topic3\", \"Topic3\", \"Topic3\", \"Topic3\", \"Topic3\", \"Topic3\", \"Topic3\", \"Topic3\", \"Topic3\", \"Topic3\", \"Topic3\", \"Topic3\", \"Topic3\", \"Topic3\", \"Topic3\", \"Topic3\", \"Topic3\", \"Topic3\", \"Topic3\", \"Topic3\", \"Topic3\", \"Topic3\", \"Topic3\", \"Topic3\", \"Topic3\", \"Topic3\", \"Topic3\", \"Topic3\", \"Topic4\", \"Topic4\", \"Topic4\", \"Topic4\", \"Topic4\", \"Topic4\", \"Topic4\", \"Topic4\", \"Topic4\", \"Topic4\", \"Topic4\", \"Topic4\", \"Topic4\", \"Topic4\", \"Topic4\", \"Topic4\", \"Topic4\", \"Topic4\", \"Topic4\", \"Topic4\", \"Topic4\", \"Topic4\", \"Topic4\", \"Topic4\", \"Topic4\", \"Topic4\", \"Topic4\", \"Topic4\", \"Topic4\", \"Topic4\", \"Topic4\", \"Topic4\", \"Topic4\", \"Topic4\", \"Topic4\", \"Topic4\", \"Topic4\", \"Topic4\", \"Topic4\", \"Topic4\", \"Topic4\", \"Topic4\", \"Topic4\", \"Topic4\", \"Topic4\", \"Topic4\", \"Topic4\", \"Topic4\", \"Topic4\", \"Topic4\", \"Topic4\", \"Topic4\", \"Topic4\", \"Topic4\", \"Topic4\", \"Topic5\", \"Topic5\", \"Topic5\", \"Topic5\", \"Topic5\", \"Topic5\", \"Topic5\", \"Topic5\", \"Topic5\", \"Topic5\", \"Topic5\", \"Topic5\", \"Topic5\", \"Topic5\", \"Topic5\", \"Topic5\", \"Topic5\", \"Topic5\", \"Topic5\", \"Topic5\", \"Topic5\", \"Topic5\", \"Topic5\", \"Topic5\", \"Topic5\", \"Topic5\", \"Topic5\", \"Topic5\", \"Topic5\", \"Topic5\", \"Topic5\", \"Topic5\", \"Topic5\", \"Topic5\", \"Topic5\", \"Topic5\", \"Topic5\", \"Topic5\", \"Topic5\", \"Topic5\", \"Topic5\", \"Topic5\", \"Topic5\", \"Topic5\", \"Topic5\", \"Topic5\", \"Topic5\", \"Topic5\", \"Topic6\", \"Topic6\", \"Topic6\", \"Topic6\", \"Topic6\", \"Topic6\", \"Topic6\", \"Topic6\", \"Topic6\", \"Topic6\", \"Topic6\", \"Topic6\", \"Topic6\", \"Topic6\", \"Topic6\", \"Topic6\", \"Topic6\", \"Topic6\", \"Topic6\", \"Topic6\", \"Topic6\", \"Topic6\", \"Topic6\", \"Topic6\", \"Topic6\", \"Topic6\", \"Topic6\", \"Topic6\", \"Topic6\", \"Topic6\", \"Topic6\", \"Topic6\", \"Topic7\", \"Topic7\", \"Topic7\", \"Topic7\", \"Topic7\", \"Topic7\", \"Topic7\", \"Topic7\", \"Topic7\", \"Topic7\", \"Topic7\", \"Topic7\", \"Topic7\", \"Topic7\", \"Topic7\", \"Topic7\", \"Topic7\", \"Topic7\", \"Topic7\", \"Topic7\", \"Topic7\", \"Topic7\", \"Topic7\", \"Topic7\", \"Topic7\", \"Topic7\", \"Topic7\", \"Topic7\", \"Topic7\", \"Topic7\", \"Topic7\", \"Topic7\", \"Topic7\", \"Topic7\", \"Topic7\", \"Topic7\", \"Topic7\", \"Topic7\", \"Topic7\", \"Topic7\", \"Topic7\", \"Topic7\", \"Topic7\", \"Topic7\", \"Topic7\", \"Topic7\", \"Topic7\", \"Topic7\", \"Topic7\", \"Topic7\", \"Topic8\", \"Topic8\", \"Topic8\", \"Topic8\", \"Topic8\", \"Topic8\", \"Topic8\", \"Topic8\", \"Topic8\", \"Topic8\", \"Topic8\", \"Topic8\", \"Topic8\", \"Topic8\", \"Topic8\", \"Topic8\", \"Topic8\", \"Topic8\", \"Topic8\", \"Topic8\", \"Topic8\", \"Topic8\", \"Topic8\", \"Topic8\", \"Topic8\", \"Topic8\", \"Topic8\", \"Topic8\", \"Topic8\", \"Topic8\", \"Topic8\", \"Topic8\", \"Topic8\", \"Topic8\", \"Topic8\", \"Topic8\", \"Topic8\", \"Topic8\", \"Topic8\", \"Topic9\", \"Topic9\", \"Topic9\", \"Topic9\", \"Topic9\", \"Topic9\", \"Topic9\", \"Topic9\", \"Topic9\", \"Topic9\", \"Topic9\", \"Topic9\", \"Topic9\", \"Topic9\", \"Topic9\", \"Topic9\", \"Topic9\", \"Topic9\", \"Topic9\", \"Topic9\", \"Topic9\", \"Topic9\", \"Topic9\", \"Topic9\", \"Topic9\", \"Topic9\", \"Topic9\", \"Topic9\", \"Topic9\", \"Topic9\", \"Topic9\", \"Topic9\", \"Topic9\", \"Topic9\", \"Topic9\", \"Topic9\", \"Topic9\", \"Topic9\", \"Topic9\", \"Topic9\", \"Topic9\", \"Topic10\", \"Topic10\", \"Topic10\", \"Topic10\", \"Topic10\", \"Topic10\", \"Topic10\", \"Topic10\", \"Topic10\", \"Topic10\", \"Topic10\", \"Topic10\", \"Topic10\", \"Topic10\", \"Topic10\", \"Topic10\", \"Topic10\", \"Topic10\", \"Topic10\", \"Topic10\", \"Topic10\", \"Topic10\", \"Topic10\", \"Topic10\", \"Topic10\", \"Topic10\", \"Topic10\", \"Topic10\", \"Topic10\", \"Topic10\", \"Topic10\", \"Topic10\", \"Topic10\", \"Topic10\", \"Topic10\", \"Topic10\", \"Topic10\", \"Topic10\", \"Topic10\", \"Topic10\", \"Topic10\", \"Topic10\", \"Topic10\", \"Topic10\", \"Topic11\", \"Topic11\", \"Topic11\", \"Topic11\", \"Topic11\", \"Topic11\", \"Topic11\", \"Topic11\", \"Topic11\", \"Topic11\", \"Topic11\", \"Topic11\", \"Topic11\", \"Topic11\", \"Topic11\", \"Topic11\", \"Topic11\", \"Topic11\", \"Topic11\", \"Topic11\", \"Topic11\", \"Topic11\", \"Topic11\", \"Topic11\", \"Topic11\", \"Topic11\", \"Topic11\", \"Topic11\", \"Topic11\", \"Topic11\", \"Topic11\", \"Topic11\", \"Topic11\", \"Topic11\", \"Topic11\", \"Topic11\", \"Topic11\", \"Topic11\", \"Topic11\", \"Topic11\", \"Topic12\", \"Topic12\", \"Topic12\", \"Topic12\", \"Topic12\", \"Topic12\", \"Topic12\", \"Topic12\", \"Topic12\", \"Topic12\", \"Topic12\", \"Topic12\", \"Topic12\", \"Topic12\", \"Topic12\", \"Topic12\", \"Topic12\", \"Topic12\", \"Topic12\", \"Topic12\", \"Topic12\", \"Topic12\", \"Topic12\", \"Topic12\", \"Topic12\", \"Topic12\", \"Topic12\", \"Topic12\", \"Topic12\", \"Topic12\", \"Topic12\", \"Topic12\", \"Topic12\", \"Topic12\", \"Topic12\", \"Topic12\", \"Topic12\", \"Topic12\", \"Topic12\", \"Topic12\", \"Topic12\", \"Topic13\", \"Topic13\", \"Topic13\", \"Topic13\", \"Topic13\", \"Topic13\", \"Topic13\", \"Topic13\", \"Topic13\", \"Topic13\", \"Topic13\", \"Topic13\", \"Topic13\", \"Topic13\", \"Topic13\", \"Topic13\", \"Topic13\", \"Topic13\", \"Topic13\", \"Topic13\", \"Topic13\", \"Topic13\", \"Topic13\", \"Topic13\", \"Topic13\", \"Topic13\", \"Topic13\", \"Topic13\", \"Topic13\", \"Topic13\", \"Topic13\", \"Topic13\", \"Topic13\", \"Topic13\", \"Topic13\", \"Topic14\", \"Topic14\", \"Topic14\", \"Topic14\", \"Topic14\", \"Topic14\", \"Topic14\", \"Topic14\", \"Topic14\", \"Topic14\", \"Topic14\", \"Topic14\", \"Topic14\", \"Topic14\", \"Topic14\", \"Topic14\", \"Topic14\", \"Topic14\", \"Topic14\", \"Topic14\", \"Topic14\", \"Topic14\", \"Topic14\", \"Topic14\", \"Topic14\", \"Topic14\", \"Topic14\", \"Topic14\", \"Topic14\", \"Topic14\", \"Topic14\", \"Topic14\", \"Topic14\", \"Topic15\", \"Topic15\", \"Topic15\", \"Topic15\", \"Topic15\", \"Topic15\", \"Topic15\", \"Topic15\", \"Topic15\", \"Topic15\", \"Topic15\", \"Topic15\", \"Topic15\", \"Topic15\", \"Topic15\", \"Topic15\", \"Topic15\", \"Topic15\", \"Topic15\", \"Topic15\", \"Topic15\", \"Topic15\", \"Topic15\", \"Topic15\", \"Topic15\", \"Topic15\", \"Topic15\", \"Topic15\", \"Topic15\", \"Topic15\", \"Topic15\", \"Topic15\", \"Topic15\", \"Topic16\", \"Topic16\", \"Topic16\", \"Topic16\", \"Topic16\", \"Topic16\", \"Topic16\", \"Topic16\", \"Topic16\", \"Topic16\", \"Topic16\", \"Topic16\", \"Topic16\", \"Topic16\", \"Topic16\", \"Topic16\", \"Topic16\", \"Topic16\", \"Topic16\", \"Topic16\", \"Topic16\", \"Topic16\", \"Topic16\", \"Topic16\", \"Topic16\", \"Topic16\", \"Topic16\", \"Topic16\", \"Topic16\", \"Topic16\", \"Topic16\", \"Topic17\", \"Topic17\", \"Topic17\", \"Topic17\", \"Topic17\", \"Topic17\", \"Topic17\", \"Topic17\", \"Topic17\", \"Topic17\", \"Topic17\", \"Topic17\", \"Topic17\", \"Topic17\", \"Topic17\", \"Topic17\", \"Topic17\", \"Topic17\", \"Topic17\", \"Topic17\", \"Topic17\", \"Topic17\", \"Topic17\", \"Topic17\", \"Topic17\", \"Topic17\", \"Topic17\", \"Topic17\", \"Topic17\", \"Topic17\", \"Topic17\", \"Topic17\", \"Topic17\", \"Topic17\", \"Topic17\", \"Topic17\", \"Topic18\", \"Topic18\", \"Topic18\", \"Topic18\", \"Topic18\", \"Topic18\", \"Topic18\", \"Topic18\", \"Topic18\", \"Topic18\", \"Topic18\", \"Topic18\", \"Topic18\", \"Topic18\", \"Topic18\", \"Topic18\", \"Topic18\", \"Topic18\", \"Topic18\", \"Topic18\", \"Topic18\", \"Topic18\", \"Topic18\", \"Topic18\", \"Topic18\", \"Topic18\", \"Topic18\", \"Topic18\", \"Topic18\", \"Topic18\", \"Topic18\", \"Topic18\", \"Topic18\", \"Topic18\", \"Topic18\", \"Topic18\", \"Topic18\", \"Topic18\", \"Topic19\", \"Topic19\", \"Topic19\", \"Topic19\", \"Topic19\", \"Topic19\", \"Topic19\", \"Topic19\", \"Topic19\", \"Topic19\", \"Topic19\", \"Topic19\", \"Topic19\", \"Topic19\", \"Topic19\", \"Topic19\", \"Topic19\", \"Topic19\", \"Topic19\", \"Topic19\", \"Topic19\", \"Topic19\", \"Topic19\", \"Topic19\", \"Topic19\", \"Topic19\", \"Topic19\", \"Topic19\", \"Topic19\", \"Topic19\", \"Topic19\", \"Topic19\", \"Topic19\", \"Topic20\", \"Topic20\", \"Topic20\", \"Topic20\", \"Topic20\", \"Topic20\", \"Topic20\", \"Topic20\", \"Topic20\", \"Topic20\", \"Topic20\", \"Topic20\", \"Topic20\", \"Topic20\", \"Topic20\", \"Topic20\", \"Topic20\", \"Topic20\", \"Topic20\", \"Topic20\", \"Topic20\", \"Topic20\", \"Topic20\", \"Topic20\", \"Topic20\", \"Topic20\", \"Topic20\", \"Topic20\", \"Topic20\", \"Topic20\", \"Topic20\", \"Topic20\", \"Topic20\", \"Topic20\", \"Topic20\"], \"logprob\": [30.0, 29.0, 28.0, 27.0, 26.0, 25.0, 24.0, 23.0, 22.0, 21.0, 20.0, 19.0, 18.0, 17.0, 16.0, 15.0, 14.0, 13.0, 12.0, 11.0, 10.0, 9.0, 8.0, 7.0, 6.0, 5.0, 4.0, 3.0, 2.0, 1.0, -4.0209, -4.6541, -5.0024, -5.0721, -5.1981, -5.2662, -5.2757, -5.2775, -5.0697, -5.3273, -5.3608, -5.3771, -5.3913, -5.3925, -5.6631, -5.6809, -5.7382, -5.8061, -5.8427, -5.8723, -5.9615, -5.9636, -5.9934, -6.0973, -6.1677, -6.1709, -6.225, -6.2729, -6.3438, -6.3503, -4.1928, -4.1791, -4.9459, -5.2779, -5.0527, -3.7643, -5.3793, -4.7808, -5.317, -4.3329, -5.1004, -4.5844, -4.7962, -4.6579, -4.6385, -4.4631, -4.222, -4.2543, -4.3384, -4.989, -4.6652, -4.8506, -4.8169, -4.8295, -4.9632, -4.928, -4.5966, -4.9162, -4.9924, -4.9521, -4.9628, -5.0454, -4.0704, -4.0844, -4.2055, -4.5786, -4.7665, -4.7813, -4.8421, -5.0004, -5.1912, -5.2464, -5.2501, -5.2595, -5.2667, -5.2708, -5.2725, -5.283, -5.3133, -5.3173, -5.3677, -5.3864, -5.3957, -5.4447, -5.4484, -5.5768, -5.6659, -5.7702, -5.8301, -5.8553, -5.9706, -6.007, -5.7527, -5.6351, -4.7584, -5.5822, -4.2962, -4.9635, -4.6636, -5.2362, -5.0228, -4.4454, -3.8309, -4.4188, -4.8286, -3.9505, -4.6294, -4.4944, -4.795, -4.9081, -5.1707, -4.9489, -5.1822, -5.0433, -5.1059, -4.5898, -4.595, -5.1141, -5.0271, -4.9654, -4.8755, -5.0327, -2.8823, -2.9938, -3.721, -4.0143, -4.4377, -4.4767, -4.5085, -4.8247, -5.007, -5.1215, -5.3288, -5.379, -5.4309, -5.4583, -5.7134, -5.7351, -5.8126, -5.8591, -5.938, -5.9619, -6.0002, -6.0744, -6.0856, -6.1316, -6.1707, -6.2353, -6.2584, -6.2694, -6.3644, -6.3713, -3.5563, -2.5822, -2.0409, -5.03, -4.7954, -4.6032, -4.8757, -2.7723, -5.7744, -2.6043, -4.4912, -4.951, -4.3397, -4.3173, -4.99, -4.5713, -5.0429, -4.3577, -4.4947, -4.4693, -4.9632, -4.7699, -4.7915, -4.8861, -4.9074, -3.7765, -4.2618, -4.3498, -4.5774, -4.6421, -4.6447, -4.6765, -4.8238, -4.8243, -4.8263, -4.8768, -4.8768, -4.8891, -4.935, -4.9421, -5.0076, -5.0805, -5.2279, -5.2871, -5.4152, -5.5323, -5.5619, -5.5693, -5.6276, -5.6579, -5.6803, -5.7518, -5.7633, -5.8044, -5.8098, -4.0335, -3.7458, -5.0889, -4.4993, -5.0658, -4.4183, -4.8418, -4.8916, -3.4352, -4.4964, -4.4586, -4.5699, -4.2675, -3.5867, -4.1347, -4.4395, -4.5127, -4.5794, -4.5294, -4.6181, -4.3641, -4.5013, -4.4694, -4.7734, -4.7192, -4.023, -4.1735, -4.311, -4.5467, -4.5563, -4.6824, -4.7728, -4.8336, -4.855, -4.9632, -5.0082, -5.0182, -5.0785, -5.1015, -3.5739, -5.1326, -5.157, -5.1662, -5.1851, -5.324, -5.3489, -5.3557, -5.3861, -5.4106, -5.4414, -5.475, -5.4809, -5.5296, -5.5352, -5.5487, -5.1124, -5.4502, -4.7748, -4.7295, -4.087, -4.047, -4.9476, -5.3033, -5.1604, -5.1258, -3.4648, -5.1638, -4.5125, -4.1125, -4.7417, -5.0847, -5.097, -5.1554, -0.2678, -3.3595, -3.7291, -4.2825, -4.5036, -5.1658, -5.1681, -5.2875, -5.515, -5.7208, -5.8903, -5.9157, -5.9445, -6.0177, -6.0964, -6.1159, -6.3279, -6.4339, -6.4539, -6.4899, -6.7201, -6.9781, -7.1109, -7.6929, -7.7077, -7.8505, -7.966, -13.0733, -13.0911, -13.0912, -8.5212, -9.3178, -3.8656, -4.0259, -4.3733, -4.4171, -4.5359, -4.6505, -4.7553, -4.7899, -4.8038, -4.8167, -4.8853, -4.9475, -4.954, -4.9588, -4.9621, -4.9821, -5.0126, -5.0422, -5.1131, -5.1596, -5.1628, -5.1763, -5.2214, -5.4051, -5.4747, -5.4882, -5.4999, -5.5203, -5.5294, -5.5375, -4.9661, -4.1552, -4.227, -4.2888, -3.962, -4.7068, -4.4058, -4.4835, -3.9484, -4.3942, -3.9589, -4.6418, -4.4077, -4.771, -4.5181, -4.6197, -4.9039, -4.9371, -4.837, -4.8804, -2.8002, -3.5793, -3.6069, -3.6832, -3.8071, -3.9597, -4.0594, -4.0605, -4.2432, -4.2519, -4.2864, -4.3304, -4.4305, -4.5712, -4.6976, -4.7139, -4.7636, -4.7894, -4.8328, -4.8614, -4.8917, -4.9368, -4.9469, -4.9516, -4.991, -4.9991, -5.0994, -5.1341, -5.1477, -5.1528, -3.8904, -4.6197, -4.1216, -4.9356, -4.5448, -4.6241, -4.8224, -4.7191, -4.6069, -2.5602, -2.6255, -2.9466, -2.999, -3.0227, -3.4596, -3.6722, -3.9947, -4.0162, -4.0827, -4.0988, -4.3024, -4.3223, -4.4656, -4.4721, -4.5019, -4.8299, -4.8511, -4.9276, -4.9696, -4.9771, -5.1013, -5.12, -5.1263, -5.1533, -5.3107, -5.3588, -5.3613, -5.3873, -5.405, -4.4883, -4.8006, -4.3815, -4.8521, -3.6775, -4.3593, -4.1301, -4.7738, -4.7817, -4.7419, -4.9408, -2.2475, -3.1554, -3.4803, -3.5595, -3.5656, -3.8056, -4.0169, -4.0673, -4.0823, -4.126, -4.2008, -4.3404, -4.3797, -4.633, -4.7008, -4.7548, -4.8566, -4.8862, -5.0193, -5.0238, -5.1606, -5.2923, -5.3429, -5.3718, -5.4956, -5.5366, -5.5509, -5.6049, -5.634, -5.7581, -4.286, -4.1724, -4.7918, -3.4558, -4.3672, -3.8508, -4.042, -4.0423, -4.3617, -4.3586, -4.4862, -4.7226, -4.7285, -4.8532, -1.8822, -2.4023, -3.3339, -3.7224, -3.7544, -3.8038, -4.0969, -4.1569, -4.243, -4.3949, -4.5892, -4.6037, -4.6078, -4.7811, -4.8176, -4.9133, -4.9163, -4.9584, -4.972, -4.9971, -5.0554, -5.0735, -5.0797, -5.1989, -5.2523, -5.3158, -5.3175, -5.3703, -5.4287, -5.4497, -3.9986, -4.1976, -4.806, -4.2411, -4.2345, -4.494, -4.9512, -4.4694, -4.8956, -4.8751, -3.1297, -3.1585, -3.3318, -3.4356, -3.6798, -3.7109, -3.8166, -3.8627, -3.9752, -4.0271, -4.0994, -4.1616, -4.1617, -4.3235, -4.4032, -4.4217, -4.4905, -4.646, -4.8224, -4.8227, -4.9072, -4.9949, -5.0165, -5.1286, -5.1293, -5.1438, -5.1688, -5.2034, -5.34, -5.3546, -2.5479, -4.9046, -3.7865, -3.8571, -4.4546, -3.7695, -4.5762, -4.3305, -4.3155, -4.5344, -4.5987, -2.2426, -3.5324, -3.5378, -3.7225, -3.7487, -3.7558, -3.9097, -3.9598, -3.9835, -4.0242, -4.1049, -4.177, -4.2379, -4.3185, -4.3415, -4.3918, -4.4999, -4.5177, -4.6052, -4.6413, -4.6671, -4.706, -4.7527, -4.7888, -4.8925, -4.9722, -5.021, -5.0278, -5.0283, -5.0523, -3.647, -4.57, -4.5115, -4.3871, -4.8793, -2.8231, -3.2411, -3.3186, -3.3246, -3.4375, -3.4491, -3.5654, -3.776, -3.788, -3.7895, -3.9373, -4.0165, -4.1407, -4.1547, -4.3393, -4.5551, -4.5555, -4.5982, -4.7497, -4.7553, -4.859, -4.9476, -4.9831, -5.0165, -5.0672, -5.0769, -5.0795, -5.0867, -5.1032, -5.1191, -2.7326, -4.1359, -4.9664, -1.3887, -2.8646, -2.8952, -3.4523, -3.7802, -3.8882, -3.9733, -4.0655, -4.5301, -4.5894, -4.6252, -4.7214, -5.1611, -5.3422, -5.5499, -5.8273, -5.8567, -6.3639, -6.7374, -8.9286, -4.0461, -4.9425, -3.1987, -4.5392, -6.757, -5.0208, -6.5707, -5.1974, -11.8093, -11.8094, -5.4177, -6.2546, -6.7157, -2.1836, -2.8192, -2.917, -2.9984, -3.1518, -3.201, -3.2907, -3.4125, -4.086, -4.2144, -4.3242, -4.3626, -4.4867, -4.8063, -5.1, -5.2597, -5.3708, -5.9092, -3.2108, -3.5066, -4.6638, -11.734, -11.7341, -11.7341, -11.7342, -11.7343, -11.7344, -11.7344, -11.7344, -11.7344, -6.4818, -2.8025, -2.9961, -3.1899, -3.2018, -3.4973, -3.5307, -3.6321, -3.7634, -3.7832, -3.8703, -4.0498, -4.0615, -4.2677, -4.7373, -4.8817, -5.3427, -3.5246, -11.3891, -11.3891, -11.3891, -11.3891, -11.3891, -11.3891, -11.3891, -11.3891, -11.3891, -11.3891, -11.3892, -11.3891, -11.3892, -11.3891, -11.3891, -11.3891, -11.3891, -11.3891, -11.3891, -2.3815, -2.8806, -3.0968, -3.3152, -3.8134, -3.8495, -4.0275, -4.4156, -4.5032, -4.9236, -4.9781, -5.0141, -5.0925, -5.4972, -6.6621, -11.2268, -11.2268, -11.2268, -11.2268, -11.2268, -11.2268, -11.2268, -11.2268, -11.2268, -11.2269, -11.2269, -11.2269, -11.2268, -11.2269, -11.2269, -11.2268, -11.2268, -11.2268, -11.2268, -11.2268, -11.2268, -11.2268, -11.2268, -1.9607, -3.5564, -3.6382, -3.673, -3.7115, -3.8203, -3.9024, -4.2715, -4.6658, -4.9977, -11.1834, -11.1834, -11.1834, -11.1834, -11.1834, -11.1834, -11.1834, -11.1835, -11.1834, -11.1835, -11.1835, -11.1835, -11.1835, -11.1835, -11.1834, -11.1835, -11.1835, -11.1835, -11.1835, -11.1835, -11.1834, -11.1835, -11.1835, -2.6285, -3.4928, -3.867, -3.9364, -4.2032, -4.5494, -4.6029, -4.646, -4.8374, -4.9953, -5.0242, -5.1784, -5.3844, -11.0491, -11.0492, -11.0492, -11.0492, -11.0492, -11.0492, -11.0492, -11.0492, -11.0492, -11.0492, -11.0492, -11.0492, -11.0492, -11.0492, -11.0492, -11.0492, -11.0492, -11.0492, -11.0492, -11.0492, -11.0492, -11.0492], \"loglift\": [30.0, 29.0, 28.0, 27.0, 26.0, 25.0, 24.0, 23.0, 22.0, 21.0, 20.0, 19.0, 18.0, 17.0, 16.0, 15.0, 14.0, 13.0, 12.0, 11.0, 10.0, 9.0, 8.0, 7.0, 6.0, 5.0, 4.0, 3.0, 2.0, 1.0, 1.0666, 1.0664, 1.0663, 1.0663, 1.0662, 1.0662, 1.0662, 1.0662, 1.0662, 1.0662, 1.0661, 1.0661, 1.0661, 1.0661, 1.0659, 1.0659, 1.0659, 1.0658, 1.0658, 1.0658, 1.0657, 1.0657, 1.0656, 1.0655, 1.0654, 1.0654, 1.0654, 1.0653, 1.0652, 1.0652, 1.0597, 1.0563, 1.063, 1.0635, 1.0608, 1.0214, 1.0538, 1.0341, 1.0499, 0.9925, 1.0264, 0.996, 0.9886, 0.9349, 0.9287, 0.8771, 0.7861, 0.7873, 0.7648, 0.9408, 0.7854, 0.8462, 0.7511, 0.7185, 0.7675, 0.7237, 0.3822, 0.708, 0.7315, 0.4153, -0.3957, 0.6964, 1.8585, 1.8585, 1.8584, 1.8582, 1.8581, 1.8581, 1.8581, 1.8579, 1.8577, 1.8577, 1.8577, 1.8577, 1.8577, 1.8577, 1.8577, 1.8577, 1.8576, 1.8576, 1.8576, 1.8575, 1.8575, 1.8575, 1.8574, 1.8573, 1.8571, 1.8569, 1.8568, 1.8568, 1.8565, 1.8564, 1.8558, 1.854, 1.8421, 1.8513, 1.8088, 1.7676, 1.7009, 1.7883, 1.7377, 1.5032, 1.1479, 1.4054, 1.5866, 1.1501, 1.4469, 1.2911, 1.3855, 1.4729, 1.718, 1.3768, 1.7239, 1.4972, 1.5636, 0.5135, 0.4466, 1.5295, 1.2114, 0.6588, -0.3083, 0.3347, 2.3878, 2.3878, 2.3876, 2.3874, 2.3871, 2.3871, 2.3871, 2.3867, 2.3865, 2.3863, 2.3859, 2.3858, 2.3857, 2.3856, 2.3849, 2.3849, 2.3846, 2.3845, 2.3842, 2.3841, 2.3839, 2.3836, 2.3836, 2.3834, 2.3832, 2.3829, 2.3827, 2.3827, 2.3822, 2.3821, 2.3666, 2.3368, 2.2852, 2.353, 2.3396, 2.2959, 2.2828, 2.0982, 2.3542, 1.9629, 2.1486, 2.1864, 1.9413, 1.7802, 1.8806, 1.5264, 1.8674, 1.2324, 1.2777, 0.9814, 1.6571, 1.1787, 0.9392, 0.4594, 0.1007, 2.3953, 2.395, 2.395, 2.3948, 2.3947, 2.3947, 2.3947, 2.3945, 2.3945, 2.3945, 2.3944, 2.3944, 2.3944, 2.3943, 2.3943, 2.3942, 2.3941, 2.3939, 2.3938, 2.3935, 2.3932, 2.3931, 2.3931, 2.393, 2.3929, 2.3928, 2.3926, 2.3925, 2.3924, 2.3924, 2.3906, 2.3873, 2.3868, 2.3598, 2.3534, 2.2813, 2.3172, 2.3023, 2.0825, 2.2294, 2.213, 2.2073, 2.0574, 1.7588, 1.8736, 1.9486, 1.9741, 1.9584, 1.7248, 1.8688, 1.3734, 1.0667, 0.898, 1.9105, 0.8709, 2.5745, 2.5744, 2.5743, 2.574, 2.574, 2.5739, 2.5737, 2.5736, 2.5736, 2.5734, 2.5734, 2.5733, 2.5732, 2.5732, 2.5732, 2.5731, 2.5731, 2.573, 2.573, 2.5727, 2.5726, 2.5726, 2.5725, 2.5725, 2.5724, 2.5723, 2.5723, 2.5721, 2.5721, 2.5721, 2.5687, 2.5687, 2.5264, 2.4856, 2.4004, 2.3564, 2.4625, 2.5414, 2.4841, 2.457, 1.6358, 2.4692, 2.071, 1.6578, 1.9442, 2.3242, 2.2253, 2.3457, 2.9202, 2.9198, 2.9196, 2.9191, 2.9188, 2.9175, 2.9175, 2.9171, 2.9163, 2.9154, 2.9145, 2.9143, 2.9142, 2.9137, 2.9132, 2.913, 2.9113, 2.9103, 2.9101, 2.9098, 2.9071, 2.9032, 2.9008, 2.8857, 2.8852, 2.88, 2.8751, 0.7655, 0.7497, 0.7496, -2.2401, -2.9764, 2.971, 2.9709, 2.9705, 2.9704, 2.9702, 2.97, 2.9698, 2.9697, 2.9697, 2.9697, 2.9695, 2.9694, 2.9694, 2.9693, 2.9693, 2.9693, 2.9692, 2.9691, 2.9689, 2.9688, 2.9688, 2.9687, 2.9686, 2.9679, 2.9676, 2.9676, 2.9675, 2.9674, 2.9674, 2.9673, 2.9649, 2.9306, 2.9082, 2.8911, 2.8207, 2.8793, 2.8283, 2.7021, 2.4059, 2.6077, 2.386, 2.4985, 1.8466, 2.3421, 1.0299, 1.3727, 2.6475, 2.639, 0.9872, 0.892, 3.8434, 3.8426, 3.8425, 3.8424, 3.8422, 3.8419, 3.8416, 3.8416, 3.8411, 3.8411, 3.841, 3.8409, 3.8405, 3.84, 3.8394, 3.8394, 3.8391, 3.839, 3.8388, 3.8386, 3.8384, 3.8382, 3.8381, 3.8381, 3.8378, 3.8378, 3.8371, 3.8369, 3.8368, 3.8367, 3.8018, 3.6645, 3.3576, 3.5901, 2.8638, 3.009, 3.3587, 2.5396, 1.7741, 3.8792, 3.8791, 3.8789, 3.8788, 3.8788, 3.8783, 3.878, 3.8773, 3.8772, 3.8771, 3.877, 3.8764, 3.8764, 3.8758, 3.8758, 3.8757, 3.8741, 3.874, 3.8736, 3.8733, 3.8732, 3.8724, 3.8722, 3.8722, 3.872, 3.8707, 3.8702, 3.8702, 3.87, 3.8698, 3.7248, 3.7543, 3.1378, 3.4078, 1.8705, 2.5575, 1.8781, 3.1174, 2.7791, 1.5933, 2.5955, 3.9906, 3.9899, 3.9895, 3.9893, 3.9893, 3.9888, 3.9883, 3.9882, 3.9881, 3.988, 3.9877, 3.9872, 3.9871, 3.9859, 3.9856, 3.9853, 3.9847, 3.9845, 3.9835, 3.9835, 3.9824, 3.9812, 3.9807, 3.9804, 3.9789, 3.9784, 3.9783, 3.9776, 3.9772, 3.9753, 3.9097, 3.7419, 3.8067, 3.2301, 3.2568, 2.8331, 2.5783, 2.3612, 2.5486, 0.9869, 1.0316, 1.6317, 1.5965, 2.2842, 4.0554, 4.0551, 4.0542, 4.0535, 4.0534, 4.0533, 4.0525, 4.0523, 4.052, 4.0514, 4.0505, 4.0504, 4.0504, 4.0494, 4.0491, 4.0485, 4.0484, 4.0481, 4.048, 4.0478, 4.0474, 4.0472, 4.0472, 4.0461, 4.0456, 4.0449, 4.0449, 4.0443, 4.0435, 4.0434, 3.7253, 3.6333, 3.6915, 3.0825, 2.9992, 2.6202, 3.4249, 2.1063, 3.1545, 1.8245, 4.1296, 4.1295, 4.1293, 4.1291, 4.1286, 4.1285, 4.1283, 4.1281, 4.1278, 4.1277, 4.1274, 4.1272, 4.1272, 4.1265, 4.1262, 4.1261, 4.1258, 4.1249, 4.1237, 4.1237, 4.1231, 4.1224, 4.1222, 4.1212, 4.1212, 4.1211, 4.1208, 4.1205, 4.1189, 4.1188, 4.0616, 4.0732, 3.9136, 3.9094, 3.7233, 3.2073, 3.4798, 3.1132, 2.9974, 2.9447, 3.0382, 4.3914, 4.3895, 4.3895, 4.389, 4.3889, 4.3889, 4.3884, 4.3882, 4.3881, 4.3879, 4.3875, 4.3872, 4.3869, 4.3865, 4.3863, 4.386, 4.3854, 4.3852, 4.3846, 4.3843, 4.3841, 4.3838, 4.3834, 4.3831, 4.3821, 4.3813, 4.3808, 4.3807, 4.3807, 4.3804, 3.7118, 4.1154, 3.8024, 2.627, 3.7994, 4.469, 4.4683, 4.4681, 4.4681, 4.4678, 4.4678, 4.4675, 4.4668, 4.4668, 4.4668, 4.4662, 4.4659, 4.4653, 4.4652, 4.4642, 4.4627, 4.4627, 4.4624, 4.4611, 4.461, 4.46, 4.459, 4.4586, 4.4582, 4.4576, 4.4575, 4.4575, 4.4574, 4.4571, 4.4569, 4.2814, 2.5899, 2.9479, 5.0839, 5.0818, 5.0818, 5.0797, 5.0779, 5.0772, 5.0765, 5.0758, 5.0706, 5.0698, 5.0693, 5.0678, 5.0586, 5.0536, 5.0466, 5.0348, 5.0333, 5.001, 4.9653, 4.3275, 4.2678, 4.2261, 3.1422, 2.6547, 2.5049, 2.4933, 2.4678, 2.1957, 2.0315, 2.0314, 1.7182, 1.4003, 0.8304, 5.4387, 5.437, 5.4366, 5.4363, 5.4356, 5.4353, 5.4348, 5.4341, 5.4278, 5.4261, 5.4244, 5.4238, 5.4216, 5.4145, 5.4057, 5.3998, 5.3951, 5.3638, 5.1462, 3.9377, 3.4255, 2.1068, 2.1067, 2.1067, 2.1067, 2.1066, 2.1065, 2.1065, 2.1065, 2.1064, 1.2983, 5.8212, 5.8201, 5.8187, 5.8186, 5.816, 5.8156, 5.8145, 5.8128, 5.8125, 5.8113, 5.8083, 5.8081, 5.8039, 5.7907, 5.7852, 5.7618, 5.7374, 2.4518, 2.4518, 2.4518, 2.4517, 2.4517, 2.4517, 2.4517, 2.4517, 2.4517, 2.4517, 2.4517, 2.4517, 2.4517, 2.4517, 2.4517, 2.4517, 2.4517, 2.4517, 2.4516, 6.2073, 6.204, 6.2019, 6.1994, 6.1912, 6.1904, 6.1862, 6.174, 6.1705, 6.1493, 6.1459, 6.1436, 6.1382, 6.1031, 5.8975, 2.6141, 2.6141, 2.6141, 2.6141, 2.6141, 2.6141, 2.614, 2.614, 2.614, 2.614, 2.614, 2.614, 2.614, 2.614, 2.614, 2.614, 2.614, 2.614, 2.614, 2.614, 2.614, 2.614, 2.614, 6.4401, 6.4235, 6.4218, 6.421, 6.4201, 6.4173, 6.4151, 6.4023, 6.3826, 6.3593, 2.6575, 2.6575, 2.6575, 2.6575, 2.6575, 2.6574, 2.6574, 2.6574, 2.6574, 2.6574, 2.6574, 2.6574, 2.6574, 2.6574, 2.6574, 2.6574, 2.6574, 2.6574, 2.6574, 2.6574, 2.6574, 2.6574, 2.6574, 6.9028, 6.8848, 6.8709, 6.8678, 6.8534, 6.8286, 6.824, 6.8201, 6.801, 6.7826, 6.7789, 6.7578, 6.7248, 2.7917, 2.7917, 2.7917, 2.7917, 2.7917, 2.7917, 2.7917, 2.7917, 2.7917, 2.7917, 2.7917, 2.7917, 2.7917, 2.7917, 2.7917, 2.7917, 2.7917, 2.7917, 2.7917, 2.7917, 2.7917, 2.7916]}, \"token.table\": {\"Topic\": [9, 2, 15, 6, 1, 4, 16, 10, 1, 2, 18, 10, 1, 2, 4, 5, 7, 16, 4, 6, 4, 15, 2, 12, 3, 17, 3, 5, 2, 8, 1, 2, 3, 14, 10, 9, 9, 5, 10, 12, 8, 11, 17, 4, 7, 10, 9, 8, 14, 6, 1, 1, 9, 2, 9, 1, 11, 3, 9, 6, 1, 4, 10, 3, 5, 5, 12, 1, 7, 7, 2, 12, 17, 8, 3, 3, 12, 1, 3, 12, 17, 9, 7, 6, 11, 3, 4, 1, 5, 13, 1, 2, 4, 5, 13, 10, 5, 7, 6, 2, 14, 1, 8, 3, 4, 10, 2, 8, 7, 5, 2, 2, 15, 10, 10, 3, 8, 17, 4, 3, 11, 1, 2, 7, 8, 10, 2, 7, 18, 3, 4, 16, 12, 5, 9, 12, 3, 7, 1, 3, 4, 5, 7, 3, 6, 18, 5, 3, 4, 12, 11, 3, 1, 15, 13, 14, 5, 1, 1, 5, 12, 3, 3, 2, 4, 15, 13, 5, 10, 10, 16, 3, 9, 6, 1, 5, 3, 10, 5, 19, 5, 9, 19, 5, 12, 1, 16, 7, 14, 2, 10, 12, 12, 7, 10, 11, 10, 18, 7, 4, 15, 5, 1, 2, 4, 6, 4, 11, 6, 2, 16, 4, 4, 10, 3, 8, 20, 7, 9, 1, 4, 15, 5, 16, 13, 2, 14, 11, 4, 11, 19, 10, 2, 13, 7, 3, 4, 12, 10, 1, 6, 13, 11, 15, 4, 13, 15, 13, 8, 11, 1, 2, 5, 6, 2, 20, 2, 4, 14, 2, 4, 12, 2, 10, 17, 12, 13, 7, 1, 2, 5, 7, 9, 7, 9, 12, 1, 4, 11, 4, 7, 12, 14, 5, 10, 13, 1, 5, 4, 19, 1, 7, 9, 1, 5, 5, 1, 2, 8, 9, 14, 18, 13, 3, 1, 8, 13, 1, 2, 3, 4, 7, 9, 15, 5, 14, 1, 11, 13, 4, 12, 17, 9, 4, 11, 12, 6, 1, 4, 13, 14, 1, 8, 1, 2, 17, 12, 1, 7, 2, 1, 2, 9, 6, 5, 10, 6, 1, 2, 8, 2, 5, 11, 13, 1, 2, 4, 5, 7, 1, 5, 1, 9, 14, 1, 4, 19, 15, 5, 16, 1, 1, 3, 4, 20, 1, 3, 4, 7, 11, 11, 1, 9, 14, 1, 3, 1, 2, 4, 9, 2, 5, 6, 14, 7, 9, 4, 1, 4, 13, 14, 15, 7, 2, 4, 5, 7, 1, 5, 7, 2, 20, 4, 7, 10, 8, 8, 4, 7, 4, 11, 14, 18, 3, 7, 4, 12, 3, 9, 20, 8, 17, 5, 2, 5, 10, 12, 19, 2, 5, 15, 10, 3, 7, 5, 16, 1, 2, 3, 7, 3, 5, 12, 1, 9, 13, 2, 5, 14, 15, 16, 1, 2, 1, 2, 7, 5, 10, 14, 2, 5, 11, 1, 11, 1, 3, 1, 1, 2, 5, 18, 1, 1, 3, 4, 1, 9, 1, 2, 1, 3, 7, 11, 13, 16, 13, 1, 3, 4, 4, 19, 3, 4, 1, 2, 8, 18, 1, 2, 5, 8, 4, 1, 2, 4, 5, 13, 2, 7, 2, 1, 1, 2, 16, 16, 5, 8, 5, 4, 2, 3, 4, 10, 14, 4, 11, 5, 1, 11, 13, 4, 14, 17, 12, 1, 15, 13, 18, 6, 14, 1, 8, 10, 4, 1, 19, 13, 15, 1, 2, 5, 8, 8, 7, 1, 2, 3, 4, 10, 1, 2, 3, 4, 7, 11, 3, 11, 15, 3, 13, 1, 4, 5, 7, 12, 9, 13, 12, 10, 12, 5, 9, 11, 1, 12, 7, 3, 6, 13, 1, 2, 3, 9, 3, 13, 4, 11, 1, 12, 8, 13, 1, 2, 6, 7, 10, 12, 7, 9, 16, 4, 7, 1, 2, 5, 8, 8, 8, 10, 12, 3, 10, 6, 1, 9, 14, 12, 9, 16, 20, 13, 9, 7, 15, 19, 1, 2, 7, 9, 5, 14, 4, 20, 1, 2, 15, 18, 7, 1, 2, 3, 4, 1, 2, 3, 5, 11, 13, 6, 12, 1, 16, 3, 17, 3, 10, 1, 10, 1, 1, 2, 4, 8, 12, 9, 4, 13, 14, 5, 18, 1, 10, 2, 18, 14, 5, 10, 17, 5, 15, 2, 1, 12, 14, 1, 2, 3, 4, 11, 12, 7, 3, 5, 7, 1, 2, 1, 1, 2, 4, 8, 12, 1, 2, 2, 12, 8, 2, 2, 8, 1, 1, 12, 3, 8, 1, 7, 8, 7, 3, 12, 10, 9, 11, 11, 1, 2, 5, 10, 20, 5, 8, 11, 13, 8, 15, 17, 10, 2, 1, 4, 9, 14, 8, 1, 6, 3, 13, 13, 1, 2, 5, 8, 14, 14, 4, 14, 1, 12, 16, 9, 4, 20, 4, 7, 10, 10, 2, 10, 12, 10, 10, 1, 2, 5, 11, 1, 3, 2, 11, 8, 18, 5, 10, 1, 7, 1, 2, 4, 6, 6, 13, 7, 6, 7, 1, 3, 7, 14, 15, 13, 4, 13, 5, 8, 14, 8, 1, 2, 4, 7, 8, 16, 13, 13, 11, 2, 17, 17, 4, 11, 6, 9, 11, 9, 13, 1, 9, 2, 5, 2, 17, 19, 20, 1, 11, 2, 5, 7, 16, 20, 17, 5, 10, 11, 1, 2, 4, 5, 1, 2, 7, 2, 4, 10, 13, 1, 2, 5, 2, 10, 7, 10, 6, 9, 9, 7, 3, 7, 10, 13, 20, 16, 1, 2, 8, 10, 10, 3, 18, 2, 13, 1, 2, 1, 2, 11, 1, 2, 11, 1, 2, 8, 10, 1, 15, 6, 7, 12, 14, 11, 2, 5, 16, 5, 16, 5, 15, 2, 2, 1, 2, 4, 8, 8, 4, 14, 12, 2, 7, 8, 9, 3, 4, 8, 18, 20, 3, 15, 1, 2, 3, 4, 10, 4, 10, 15, 1, 2, 15, 14, 1, 13, 10, 15, 4, 3, 4, 2, 4, 5, 8, 8, 8, 15, 1, 2, 3, 5, 10, 1, 2, 8, 5, 1, 11, 1, 2, 15, 9, 11, 15, 9, 10, 11, 5, 8, 2, 1, 3, 4, 8, 6, 1, 2, 5, 8, 1, 2, 3, 1, 5, 7, 8, 9, 1, 8, 9], \"Freq\": [0.9905792397025858, 0.9991381109666279, 0.843121490627967, 0.9950162575302502, 0.1713647969378051, 0.8282631851993913, 0.9544450682910798, 0.9957558534827131, 0.13076200606029412, 0.8689591449239313, 0.9721331293704423, 0.9889741366043733, 0.521265415915338, 0.2178720056326612, 0.2236841399292642, 0.000166060979902943, 0.03703159851835629, 0.9932484214111821, 0.996997090968658, 0.9908077039327844, 0.9108291076661592, 0.08767890617397908, 0.9922297107508466, 0.006553696900600044, 0.9982924262553854, 0.9642565922887659, 0.9974496124335709, 0.9963448795863273, 0.9985230099472913, 0.9989487163466276, 0.1827838573365404, 0.06870813874452597, 0.7485145467933064, 0.9968951524873071, 0.9911161187411478, 0.9971647201053427, 0.9987369947155166, 0.914657020868306, 0.0843001862551434, 0.9973840530060814, 0.9987093566955105, 0.9940607373304033, 0.9910466170435329, 0.8327356711122609, 0.1309371297707743, 0.034875777555766985, 0.997375053812563, 0.8347946550768497, 0.15959309582351539, 0.9999852860259395, 0.9994685117058121, 0.9992901475448706, 0.9983653172820951, 0.9996613742634355, 0.997699981187528, 0.9992603927069639, 0.998385704375931, 0.9970011411892706, 0.9916970942093285, 0.9573303433238987, 0.19555062775092186, 0.7129810498529187, 0.09128580189257636, 0.21998887544775206, 0.7776350946060073, 0.9976442804679434, 0.9947017572864701, 0.2758017737789375, 0.7226891398485528, 0.9949275593003699, 0.0661287211394859, 0.9332775166033531, 0.9955419518726899, 0.9970004172405923, 0.9940946399667627, 0.998464898508408, 0.9921755336927813, 0.2121908908354708, 0.7871215168421933, 0.9959468968599768, 0.9774717948914365, 0.9920953842891512, 0.9969139252259955, 0.9964414664736481, 0.9992174207470226, 0.004777514827372332, 0.9946785870589195, 0.27094614378384, 0.704929144649731, 0.022285613557978184, 0.17781517370757374, 0.6623362162959531, 0.08468995939392981, 0.07456765349027286, 0.9872414750135908, 0.9904643924354943, 0.37642369025125116, 0.6228101056884338, 0.9925876295077564, 0.9980798295684351, 0.9983947291417054, 0.9985622584806128, 0.9995850113525246, 0.06999647420009061, 0.6157211978308856, 0.31405497716323844, 0.9974994697791623, 0.9989631305397201, 0.9971228838841886, 0.997902215314369, 0.9996434512741025, 0.9989073585084335, 0.9832231730917904, 0.9985937110413349, 0.9966613137952608, 0.9943306599402553, 0.9946924962877326, 0.992672813958336, 0.9991283767273975, 0.9988633781803411, 0.9907744042693467, 0.87120925135001, 0.12857231502698008, 0.9975815199629513, 0.9592533061032282, 0.03904924962898097, 0.2811884023261035, 0.7165768962503927, 0.9348727247221816, 0.34331663093211257, 0.6561162280035929, 0.9953327856869129, 0.996019272265843, 0.7951741499077021, 0.2033514139975605, 0.9938624998688884, 0.08703693132635863, 0.9115973333655457, 0.06279694057140882, 0.006660281575755481, 0.052330783809507356, 0.3453831731427485, 0.5328225260604385, 0.9979130850159815, 0.9982363301336635, 0.9541070647395935, 0.9972912266821291, 0.9931620477588688, 0.6019531367162178, 0.39687393013841665, 0.9911310780570156, 0.9960586742758087, 0.9200141251018668, 0.07177415160369173, 0.1714970822019772, 0.8281844019904527, 0.9991078164562478, 0.9988552431399539, 0.46013225995951385, 0.21728467831421489, 0.3218601919413771, 0.9987246472055165, 0.9957760262122543, 0.7651231638437296, 0.19858158450905958, 0.03407036989126022, 0.9925199128658775, 0.997893648306959, 0.9957532789600515, 0.9924563961177453, 0.978724375245029, 0.9971352076202914, 0.990717236681304, 0.9966555751260296, 0.9942437996908379, 0.005603346528726102, 0.966661935402697, 0.03152158485008794, 0.9993164200690458, 0.9281896187617511, 0.37145759858637684, 0.6230901653706966, 0.9741012952721342, 0.19751147431821264, 0.8010187569571957, 0.9825160750362756, 0.016684235236465058, 0.996186517341511, 0.9939595064477035, 0.6343798680518875, 0.002648767716291806, 0.3615567932738315, 0.9967662066500098, 0.9226132885419844, 0.018309855781428578, 0.05798120997452383, 0.9930931314639527, 0.9234330486471406, 0.9967362096043102, 0.9980956675110845, 0.9606874714247096, 0.9989432772046319, 0.12256085498253337, 0.7193013285139944, 0.15766323577850166, 0.9989922024939839, 0.9955119956011313, 0.9869170539507663, 0.9959558769026211, 0.9988246416319452, 0.9967887518649782, 0.9982669899612926, 0.9980778332488922, 0.9833405944256176, 0.900092602582458, 0.09857208811467184, 0.9328760754343584, 0.5228015462405974, 0.4756637019074288, 0.6254878369473299, 0.23076677048302754, 0.1432951755761276, 0.9972568825047495, 0.9909398413275556, 0.994719219291896, 0.9968217276820313, 0.9949614949593206, 0.9996938052557, 0.8916721820606452, 0.1076047587384406, 0.9966621013031375, 0.9951310330946975, 0.4926658349544349, 0.5060468823235676, 0.9979963860812042, 0.6017853088262268, 0.397208169101182, 0.9884585705211301, 0.9977281464604323, 0.9966140514621056, 0.002638872157445999, 0.9948646952353299, 0.9968786064874233, 0.4428688583497818, 0.9988554529598508, 0.5532839318396169, 0.44262714547169346, 0.991946592010744, 0.9926451970940364, 0.9922782805962186, 0.6905981424602788, 0.3078715495233761, 0.001448807291874711, 0.9567292789639843, 0.9997331982225802, 0.9478655532692513, 0.8741128867853513, 0.12531529881347514, 0.9959190592046231, 0.983619350862632, 0.015956744973437832, 0.9936141442731857, 0.9986534097912583, 0.9910814191892772, 0.9886833349553412, 0.989764725804859, 0.9957415338825683, 0.995237114021464, 0.0009001648905258298, 0.8538063986637495, 0.1449265473746586, 0.9979433641403737, 0.999417362354434, 0.9971284849598235, 0.9965651566417625, 0.9974546320810272, 0.06953587693559779, 0.6915485843184108, 0.23813656484793763, 0.9982424084056837, 0.9937648557478959, 0.004311344276563539, 0.9922630469242439, 0.8888795810726551, 0.016742594848971244, 0.09436735278511064, 0.0047079044659429515, 0.9933678423139627, 0.9996415071160536, 0.9869723347987834, 0.3148774674401194, 0.21751404000797725, 0.4661015143028084, 0.10501243628585695, 0.8938863478966848, 0.9975881630426713, 0.9248551823857973, 0.002520728215823923, 0.031257029876216647, 0.04133994273951234, 0.9896492326851917, 0.9301641553648532, 0.9940445971017632, 0.9960172168437089, 0.40069342781863215, 0.040980009663269194, 0.5509534632506192, 0.007792894576351815, 0.6173704258820938, 0.01558578915270363, 0.3082522743534718, 0.050220876158711694, 0.9892929094668779, 0.9948562758591792, 0.9990199068914406, 0.9968681946836354, 0.5901024390898878, 0.4055436515556019, 0.9955727878628824, 0.6929023243231113, 0.30597468975060166, 0.9717138633908824, 0.9993155997295585, 0.9973137192970553, 0.9916561999429975, 0.9958278175480352, 0.9921680445265272, 0.9556974180871453, 0.044179078470377886, 0.9924373839249071, 0.9954044923601578, 0.2188008449242227, 0.7775244310700057, 0.7151172166857133, 0.2846237678351098, 0.9549471061225345, 0.9962409348533151, 0.9999088304332463, 0.9980161501295852, 0.9990986216149925, 0.9896947664829756, 0.008149229072643234, 0.0020373072681608086, 0.9952601843246124, 0.803490874439044, 0.19607610739077427, 0.9992847804766456, 0.98721009264422, 0.012532940629272325, 0.9982395556488249, 0.06631661324470131, 0.23795961223098705, 0.6553641779476365, 0.03900977249688312, 0.19283165406305913, 0.6230521793416124, 0.11083139728672912, 0.0632787369643825, 0.009735190302212694, 0.9990043993031505, 0.999448635603434, 0.9986385586762099, 0.986828719749241, 0.9978466333742796, 0.9991389117823467, 0.9989295138390683, 0.925170575765062, 0.9635183638220601, 0.9977925648129077, 0.9951543425745211, 0.9993210653676776, 0.36916676738366744, 0.42259426406384343, 0.2081948902892018, 0.9710302903568446, 0.3685210301003878, 0.011033563775460711, 0.025156525408050422, 0.5565329568342383, 0.03839680193860327, 0.9906861198017795, 0.6654770904718654, 0.3319941637029664, 0.9953424582595773, 0.9992191488208417, 0.9997749757344756, 0.14489102132632445, 0.7618616121374381, 0.09280601365999867, 0.9936278409993379, 0.9949894228839888, 0.0027715582810138965, 0.9976869693607416, 0.9933337172149418, 0.11264747925457011, 0.8810642127411019, 0.9981553652461591, 0.9988511765021368, 0.9645997167667726, 0.03468721246215632, 0.9891592161070961, 0.9846633087269897, 0.994610672862802, 0.04917710823956672, 0.5111194528505787, 0.11447785852489302, 0.32448829617091157, 0.07731876561302045, 0.054767458975889485, 0.8666144979126041, 0.9976090483637116, 0.8286191254027871, 0.33725294062685324, 0.5680284006594952, 0.09444864387436312, 0.9958735234633349, 0.9954266337106822, 0.9913691336452611, 0.006837028507898353, 0.9588005915046469, 0.0400577066531591, 0.9968280574960345, 0.9768758816640907, 0.9531386101406457, 0.04571174967001056, 0.9980516708252737, 0.9967608431913026, 0.9983926762299833, 0.9973504080966105, 0.9243073274564517, 0.9941418866352655, 0.9806412281330212, 0.9985406454045224, 0.6966379201793571, 0.21468040683493284, 0.05367010170873321, 0.034348865093589254, 0.9734260122689522, 0.005037289872153358, 0.9940252014382626, 0.9559948406650365, 0.999581240566307, 0.9659234145299397, 0.0324051726164883, 0.9991414951583794, 0.982267625840572, 0.7553571330954173, 0.14295554030800453, 0.10156452012150201, 0.9957591250222378, 0.9955133217028033, 0.9974522194288153, 0.9961845491204538, 0.8978616400659042, 0.10185090658975446, 0.9966113020714779, 0.1597956814376213, 0.8396906827136151, 0.9882433607388851, 0.9915860834369835, 0.9621927601294933, 0.9835080439500958, 0.016241417239542866, 0.013298679740376915, 0.22198565412783003, 0.7631396220247061, 0.9976848065424, 0.7801747410948282, 0.218364125904259, 0.9130397722144589, 0.08636862710136772, 0.986690084130286, 0.6213288945212209, 0.37820019666509097, 0.09764984977598591, 0.9022939900669431, 0.9993797045424793, 0.2991771953629727, 0.09636419026672528, 0.6039569599274992, 0.9874608213482629, 0.9996105670484099, 0.7414570011478627, 0.23473501839882419, 0.02340186348228359, 0.7326291729126477, 0.2666238505477192, 0.9992205447612642, 0.9988318944576345, 0.21538776236335166, 0.005959345203729097, 0.6946893837489919, 0.0749174825611658, 0.008513350291041567, 0.9887913020718251, 0.9920323713976007, 0.7547517469530826, 0.24490629378654544, 0.9963501703325842, 0.9993201244636963, 0.970911484277437, 0.6396774119210925, 0.3597926672876566, 0.7562523339052839, 0.24361203907665455, 0.9965973594649652, 0.6621046966542665, 0.07183997137332686, 0.6799630411513612, 0.12171612984270665, 0.1262919241976956, 0.9965344603435893, 0.36727377081630747, 0.5668023097693975, 0.029765319338134807, 0.03581928259334866, 0.9943905905314441, 0.9981536948182146, 0.9968180194348691, 0.9985662941509366, 0.9994455263736927, 0.04826271169520508, 0.9513656837759851, 0.9925535066829997, 0.9866331334598213, 0.9670345681469338, 0.031641212863703354, 0.9985426127761082, 0.9991062195400252, 0.09998042266577911, 0.4813011044608436, 0.17438445813798684, 0.24355695986605494, 0.9863565995914391, 0.9966476309032696, 0.9965977136840811, 0.9981955239051769, 0.30012651027761733, 0.6952297643139744, 0.9967896834386903, 0.9986042800491419, 0.9991229254594151, 0.9942962671277142, 0.993539326338427, 0.9989351919162471, 0.9983527680252774, 0.9975339013676012, 0.994631634795261, 0.9499230346504859, 0.9961280231223696, 0.3820684260916139, 0.6146318158865094, 0.9962118130804366, 0.9980951087015052, 0.9987274240705205, 0.9786269580385187, 0.989121033435628, 0.9780848790625515, 0.9679919996326918, 0.03169485345013108, 0.8993299947645123, 0.09921434105943018, 0.9958940205563314, 0.9983841368388598, 0.43568882739400266, 0.008091363937317193, 0.31494078094480765, 0.21763694282681373, 0.023651679201388717, 0.38640778661975633, 0.0341094502364089, 0.3293927201661969, 0.12498499283706035, 0.12498499283706035, 0.996850454447729, 0.9997887838088257, 0.9910858012525033, 0.9976597754706593, 0.9969364937236891, 0.99771078380242, 0.3924229439406331, 0.282296347024487, 0.12284544332054602, 0.20195046364059457, 0.9978841991578133, 0.23835850189606395, 0.7563298617855875, 0.987793510549614, 0.331152314149631, 0.6650642309171755, 0.9977426266008617, 0.9926952486598526, 0.9951297454722109, 0.4763841094611674, 0.5203580272575828, 0.9958727284143032, 0.9967813782537718, 0.9852633579563443, 0.9966690828733689, 0.049102108405605915, 0.0006363124199430572, 0.950120495044975, 0.9906092460771794, 0.9978895466656194, 0.991559586935685, 0.9984889939247674, 0.9866034282392452, 0.04912747860739903, 0.9457039631924313, 0.9978129843737698, 0.9913080386958211, 0.2923296121709971, 0.5146823058478037, 0.005796904490643002, 0.16024300270563155, 0.02525794099494451, 0.0016562584258980005, 0.996028134080824, 0.9907374149286772, 0.9974216875730288, 0.9986162843354938, 0.99692681234657, 0.11369174711514154, 0.49228272156903014, 0.3909266561878581, 0.003052127439332659, 0.9960895590461512, 0.9979754695201799, 0.9968782844457503, 0.9895063294864301, 0.8179473148588173, 0.1813327777875328, 0.999398759457951, 0.7220902492473229, 0.277503496189615, 0.9984403134077894, 0.9984817538629572, 0.994720261778534, 0.9143668401631889, 0.9826559018423152, 0.9956904529810255, 0.9991292193443901, 0.9985963348448841, 0.9898941153542802, 0.9612130372221583, 0.19010309889287735, 0.6353376670585404, 0.13739865354464514, 0.03670956392414183, 0.9980474866284447, 0.9953278371251295, 0.9976914513876483, 0.8439786157318199, 0.16577526533818365, 0.818607062466429, 0.014670377463556076, 0.977334618342738, 0.9981851295309089, 0.045836740215139005, 0.37462057604403076, 0.5445266882700723, 0.03446371444747293, 0.44530437404243395, 0.0333561328870737, 0.16066537340607168, 0.1823468597826696, 0.14231950031818114, 0.03613581062766318, 0.991751128929259, 0.9901305755878075, 0.9987497606073666, 0.9810332995012301, 0.9992442634308448, 0.9876614706281899, 0.9965232317434268, 0.9925245129553235, 0.5186225257541857, 0.48055848716672245, 0.9991890707551879, 0.6330982869386114, 0.006972977714097884, 0.35970947104449774, 0.9920997926428615, 0.9969018983864257, 0.9947216785924614, 0.9916965781139477, 0.008213547460072308, 0.9899670414936392, 0.9972719649930243, 0.9907990913968884, 0.16390081645316054, 0.8321118373775843, 0.9990657322805133, 0.9482217709435088, 0.9907345209593781, 0.5319216263216786, 0.46737104389757755, 0.9831044331450046, 0.9987014459048404, 0.981429211671388, 0.9991889951713848, 0.9994396046938985, 0.9914501239700861, 0.9981276749627869, 0.0002969309160199167, 0.7007569618070034, 0.2984155706000163, 0.0002969309160199167, 0.9948049739888821, 0.9902317206368151, 0.9980033171788778, 0.9935092546900581, 0.06030846231872058, 0.9386720344768605, 0.11302785377542746, 0.886165125754091, 0.9993923333369806, 0.27340149177307077, 0.5233912447731209, 0.20276946632226292, 0.193384954749496, 0.8043445020554257, 0.9963606523969584, 0.003469441967827332, 0.9995084213181517, 0.998491832700054, 0.9941373946360228, 0.9993259060584565, 0.9962535411548048, 0.001561525926574929, 0.9987698812738168, 0.6634661649253313, 0.3357492214755308, 0.9788031053104606, 0.020837913537064802, 0.00683792431182537, 0.859527085996449, 0.1326557316494122, 0.9988258301692413, 0.9946682975133332, 0.9835751562411837, 0.9929867733812724, 0.996238059617691, 0.9971940799429209, 0.9961601523674607, 0.530923433000846, 0.061117063415165235, 0.3994969023235191, 0.007950187110915804, 0.8873755933140207, 0.9983906808085772, 0.2786845691445756, 0.7186205871023649, 0.9949268201649794, 0.9922909598098116, 0.07342950055133772, 0.9137893401944249, 0.9966763608290886, 0.9985079338260221, 0.2713925013481629, 0.5932179878481331, 0.13522344143828327, 0.9869227036177739, 0.9946082842001339, 0.9996768109329859, 0.9939975711484497, 0.9989854205590976, 0.9944683854387781, 0.9966734924927819, 0.5042912501116826, 0.49123079353366184, 0.003265114144505201, 0.0011259014291397245, 0.9857060585329647, 0.9910480862747137, 0.9984869423187345, 0.9844360340015257, 0.9989582250850247, 0.9988290241254908, 0.9968295453992956, 0.9966719561082941, 0.9983098167037012, 0.9089524238147592, 0.9988212582846916, 0.9981967469312956, 0.9892221045441667, 0.9878016430469708, 0.07584311704064044, 0.9213534218270395, 0.9984244882317785, 0.9961255923504809, 0.998880603297009, 0.8272387004619548, 0.1725905317627208, 0.9130178648816236, 0.08579777808284761, 0.08680088644448476, 0.9117933823858709, 0.9995889336077228, 0.9884717106226241, 0.9921779223446913, 0.9904137476950614, 0.9976597987955541, 0.9975569648617404, 0.03981465054216478, 0.9592553014344816, 0.2622127303281969, 0.0981569623196941, 0.639633162909556, 0.9843111591793043, 0.9889974574939165, 0.9914856833382614, 0.9969644284134892, 0.9953411445668265, 0.9974606407281845, 0.36372840084921554, 0.2642714162420082, 0.2727963006369116, 0.02131221098725872, 0.07530314548831415, 0.9909150962305528, 0.9989966582582455, 0.9928261214866898, 0.3841861527407679, 0.6146978443852286, 0.9956253157942624, 0.995971497050259, 0.9990934591486381, 0.20553640360670414, 0.6455127675773051, 0.09634518919064257, 0.05191935195273516, 0.9571535519871675, 0.9994002064358203, 0.9916977701819368, 0.9940817050650415, 0.9984698130015119, 0.9853885132943186, 0.9270792611326608, 0.6515832533103709, 0.34779732137159836, 0.995494942203958, 0.4642817560849322, 0.531568967111734, 0.8575431665124903, 0.14006538386370676, 0.999279948016696, 0.9932560224833792, 0.00144857538746459, 0.9980684419631026, 0.9977679455320608, 0.9932807616358338, 0.9749683203866881, 0.9536242672454744, 0.9994863374639573, 0.9895619633471795, 0.5021968063767684, 0.09540414263621988, 0.17888276744291226, 0.2226096661511797, 0.9638695909142474, 0.9910931679645182, 0.9520122835048153, 0.04593545396886925, 0.9923266860657033, 0.0020348325020603016, 0.1658388489179146, 0.5906101337230025, 0.24163635961966082, 0.960623838594385, 0.03903532406552728, 0.9946852995725706, 0.20669440185344812, 0.7310535893752208, 0.05191484042817698, 0.010228574508153829, 0.9317650179674349, 0.04951606820951529, 0.01849147775459077, 0.9994981090042843, 0.9963131417870916, 0.9990491411698751, 0.9805793970291744, 0.9875218153035994, 0.9917587580196405, 0.9992067340510646, 0.9964140950604868, 0.5942807535946, 0.11574880037332731, 0.23615862626504364, 0.052824955875075554, 0.8281952378869318, 0.9790160508126227, 0.8817406035223279, 0.11801220899753563, 0.9962391167352525, 0.9993078938161918, 0.9892365660379279, 0.9996768895837695, 0.9453365013710239, 0.9974441306821968, 0.9852982037311903, 0.6985361519797884, 0.3011819979187594, 0.7394122750673933, 0.26049651284060776, 0.9958713802628096, 0.9929473947419382, 0.00680912047676344, 0.991840962620614, 0.5018661974010133, 0.15188055973978037, 0.27074360649265194, 0.0737391123374296, 0.973198926356223, 0.024534426714862764, 0.9921707757959128, 0.998827593030684, 0.9976346114539453, 0.9900647575252616, 0.9946918922545949, 0.40409695437850646, 0.4621858915704168, 0.13385711613788026, 0.2508455179711734, 0.7459353560721735, 0.9969758707138902, 0.9906799298804613, 0.9992484747258386, 0.9982904992882359, 0.8022083509167427, 0.10896182493027412, 0.08864690841785013, 0.997026572174398, 0.997726269342422, 0.8468423395884108, 0.1524445401547406, 0.9882243669976389, 0.9988688479692472, 0.9980315366802927, 0.9964973463939898, 0.9976485029691926, 0.9992811661765711, 0.9961203479217277, 0.9926162372676601, 0.9708406849276989, 0.8784831865675278, 0.9959102808468742, 0.9807775335470437, 0.14994811755987855, 0.12606688973614924, 0.14539931226012057, 0.5289610734289973, 0.04954948630093495, 0.9244172783133162, 0.07471044813954603, 0.9354981974967428, 0.03273150930467469, 0.9101877395107616, 0.055391784977141784, 0.9829166734160435, 0.9994764102975705, 0.9958463764231645, 0.5648254497125569, 0.42361908728441766, 0.9988190495124515, 0.9987025194569954, 0.9984876802855522, 0.9317350508337804, 0.06705009244317858, 0.5650043013324217, 0.4337568432325391, 0.9953617956642725, 0.9959483537513589, 0.9700532111680381, 0.8764961563098408, 0.005201140258187994, 0.1179618610557037, 0.997943570517776, 0.9948419421654615, 0.7096713811133539, 0.2813529262809472, 0.008826758471559129, 0.9983892895910635, 0.9987476879936705, 0.9977213142962171, 0.9284529964016361, 0.07133372361309089, 0.9946873005531202, 0.9987895305361926, 0.9950387404077575, 0.9994012902118665, 0.9978267573124666, 0.9911906814400748, 0.9928981433010944, 0.9981987767513986, 0.9989370070126986, 0.9993656957020655, 0.7293896615066784, 0.0006088394503394644, 0.26464221441422053, 0.005276608569608691, 0.974129236801453, 0.11723156862318689, 0.7442983445399209, 0.10685169015134222, 0.031139635415534016, 0.2317014078576417, 0.11450793981374115, 0.6537023300246343, 0.7060098968855104, 0.013328448321028231, 0.14343001849942322, 0.00298398096739438, 0.13408021146825416, 0.5907213221675346, 0.37463495107161826, 0.03196543951123022], \"Term\": [\"absolute\", \"accept\", \"accessible\", \"accomplish\", \"address\", \"address\", \"adequately\", \"agency\", \"agree\", \"agree\", \"alarm\", \"algorithm\", \"also\", \"also\", \"also\", \"also\", \"also\", \"animal\", \"apple\", \"applicable\", \"application\", \"application\", \"apply\", \"apply\", \"appreciate\", \"approval\", \"apr\", \"arab\", \"argument\", \"armenian\", \"article\", \"article\", \"article\", \"associate\", \"assure\", \"atheism\", \"atheist\", \"attack\", \"attack\", \"author\", \"authority\", \"auto\", \"automatically\", \"available\", \"available\", \"available\", \"average\", \"aware\", \"aware\", \"ax\", \"back\", \"bad\", \"belief\", \"believe\", \"bible\", \"big\", \"bike\", \"bio\", \"birth\", \"birthday\", \"bit\", \"bit\", \"bit\", \"black\", \"black\", \"blank\", \"blind\", \"block\", \"block\", \"blue\", \"book\", \"book\", \"box\", \"boy\", \"bug\", \"bus\", \"button\", \"buy\", \"buy\", \"cable\", \"campaign\", \"canadian\", \"cap\", \"capture\", \"car\", \"card\", \"card\", \"carry\", \"carry\", \"carry\", \"case\", \"case\", \"case\", \"case\", \"cbr\", \"cd\", \"center\", \"center\", \"ceremonial\", \"certainly\", \"character\", \"cheap\", \"child\", \"chip\", \"chip\", \"chip\", \"christian\", \"church\", \"circuit\", \"city\", \"claim\", \"clear\", \"click\", \"clipper\", \"clipper_chip\", \"clock\", \"closed\", \"club\", \"code\", \"com\", \"combination\", \"come\", \"come\", \"communication\", \"community\", \"community\", \"complete\", \"complete\", \"complexity\", \"computer\", \"computer\", \"computer_science\", \"concept\", \"conclusion\", \"conclusion\", \"connector\", \"contact\", \"contact\", \"control\", \"control\", \"control\", \"control\", \"control\", \"controller\", \"convert\", \"converter\", \"convince\", \"cool\", \"copy\", \"copy\", \"corner\", \"corporation\", \"correctly\", \"correctly\", \"cost\", \"cost\", \"country\", \"couple\", \"cover\", \"cover\", \"cover\", \"cpu\", \"crash\", \"create\", \"create\", \"create\", \"crew\", \"crime\", \"crypto\", \"cryptography\", \"cure\", \"cycle\", \"danger\", \"daughter\", \"day\", \"day\", \"dealer\", \"dealer\", \"death\", \"deck\", \"defense\", \"defense\", \"deficit\", \"define\", \"define\", \"department\", \"department\", \"dept\", \"depth\", \"describe\", \"describe\", \"describe\", \"description\", \"design\", \"design\", \"design\", \"detailed\", \"deter\", \"development\", \"device\", \"dialog\", \"die\", \"different\", \"different\", \"different\", \"direct\", \"directory\", \"dirty\", \"discount\", \"discussion\", \"disease\", \"disk\", \"display\", \"distribution_inet\", \"distribution_world\", \"distribution_world\", \"divide\", \"division\", \"division\", \"do\", \"do\", \"do\", \"doctor\", \"dog\", \"door\", \"doubt\", \"draft\", \"drive\", \"driver\", \"driver\", \"drug\", \"dual\", \"earth\", \"earth\", \"electronic\", \"email\", \"email\", \"enable\", \"encryption\", \"end\", \"end\", \"energy\", \"engine\", \"enhanced_mode\", \"entry\", \"environment\", \"environment\", \"environmental\", \"escape\", \"essentially\", \"even\", \"even\", \"even\", \"everytime\", \"evidence\", \"evolve\", \"example\", \"example\", \"excuse\", \"exist\", \"exist\", \"expansion\", \"explain\", \"export\", \"exposure\", \"extension\", \"external\", \"facility\", \"fact\", \"fact\", \"fact\", \"factor\", \"faith\", \"family\", \"fan\", \"faq\", \"fast\", \"fast\", \"fast\", \"fax\", \"feature\", \"feature\", \"fee\", \"field\", \"field\", \"field\", \"fight\", \"fight\", \"file\", \"film\", \"final\", \"final\", \"final\", \"fire\", \"fire\", \"firearm\", \"first\", \"first\", \"first\", \"first\", \"fish\", \"flexible\", \"flight\", \"floppy\", \"fly\", \"fly\", \"fly\", \"follow\", \"follow\", \"follow\", \"follow\", \"follow\", \"follower\", \"font\", \"force\", \"format\", \"front\", \"front\", \"fuel\", \"function\", \"function\", \"galaxy\", \"game\", \"gateway\", \"gear\", \"generate\", \"genesis\", \"get\", \"get\", \"giant\", \"gift\", \"girl\", \"girl\", \"give\", \"give\", \"global\", \"gmt\", \"go\", \"goal\", \"god\", \"good\", \"good\", \"good\", \"good_luck\", \"government\", \"government\", \"graphic\", \"great\", \"great\", \"greek\", \"ground\", \"ground\", \"ground\", \"ground\", \"group\", \"group\", \"group\", \"group\", \"group\", \"guess\", \"gun\", \"guy\", \"handgun\", \"handle\", \"hard\", \"hardware\", \"harley\", \"hassle\", \"headache\", \"health\", \"hear\", \"help\", \"help\", \"help\", \"hi\", \"high\", \"high\", \"high\", \"high\", \"high\", \"highway\", \"hit\", \"hit\", \"hole\", \"home\", \"host\", \"however\", \"however\", \"however\", \"hr\", \"human\", \"human\", \"human_being\", \"hunt\", \"ice\", \"ice\", \"ide\", \"ill\", \"image\", \"image\", \"import\", \"impressive\", \"improve\", \"include\", \"include\", \"include\", \"include\", \"increase\", \"increase\", \"increase\", \"indeed\", \"infinity\", \"information\", \"information\", \"information\", \"informed\", \"inhabitant\", \"input\", \"input\", \"instal\", \"instal\", \"insurance\", \"intent\", \"interested\", \"interested\", \"interface\", \"internal\", \"internet\", \"interpretation\", \"intersection\", \"investigation\", \"investment\", \"israeli\", \"issue\", \"issue\", \"issue\", \"issue\", \"japanese\", \"jewish\", \"jewish\", \"judaism\", \"key\", \"keyword\", \"keyword\", \"kill\", \"km\", \"know\", \"know\", \"know\", \"lab\", \"laboratory\", \"land\", \"language\", \"last\", \"last\", \"launch\", \"law\", \"law\", \"leadership\", \"left\", \"lemieux\", \"let\", \"let\", \"level\", \"level\", \"level\", \"library\", \"license\", \"license\", \"life\", \"life\", \"lift\", \"light\", \"light\", \"line\", \"line\", \"little\", \"live\", \"live\", \"live\", \"lock\", \"long\", \"look\", \"look\", \"look\", \"lose\", \"lose\", \"lot\", \"love\", \"low\", \"low\", \"low\", \"low\", \"low\", \"luck\", \"lunar\", \"m\", \"m\", \"mac\", \"machine\", \"mad\", \"mail\", \"mail\", \"make\", \"make\", \"male\", \"malfunction\", \"man\", \"man\", \"man\", \"man\", \"manager\", \"many\", \"many\", \"many\", \"many\", \"mar\", \"master\", \"material\", \"matter\", \"maybe\", \"mean\", \"mean\", \"medical\", \"medicine\", \"meet\", \"meet\", \"member\", \"memory\", \"message\", \"message\", \"message\", \"message\", \"meter\", \"mhz\", \"mile\", \"military\", \"mirror\", \"mirror\", \"mission\", \"mode\", \"model\", \"modem\", \"modify\", \"money\", \"monitor\", \"moon\", \"moral\", \"moral_agency\", \"morality\", \"mother\", \"mother\", \"motif\", \"mouse\", \"move\", \"movie\", \"mph\", \"ms_window\", \"much\", \"much\", \"murder\", \"murder\", \"muslim\", \"national\", \"need\", \"need\", \"need\", \"need\", \"need\", \"new\", \"new\", \"new\", \"new\", \"new\", \"nhl\", \"nntp_poste\", \"noise\", \"normal\", \"northern\", \"notice\", \"number\", \"number\", \"number\", \"number\", \"object\", \"observation\", \"observation\", \"observe\", \"obtain\", \"obtain\", \"occupy\", \"offense\", \"oil\", \"operate\", \"operate\", \"operation\", \"opinions_expresse\", \"oracle\", \"orbit\", \"organization\", \"organization\", \"organization\", \"origin\", \"originator\", \"ozone\", \"package\", \"paint\", \"panel\", \"panel\", \"parent\", \"park\", \"part\", \"part\", \"part\", \"part\", \"part\", \"part\", \"particularly\", \"passage\", \"patient\", \"pc\", \"pen\", \"people\", \"people\", \"people\", \"people\", \"percent\", \"period\", \"pgp\", \"phase\", \"phone\", \"phone\", \"physical\", \"pick\", \"pick\", \"picture\", \"pin\", \"pitch\", \"pitt\", \"plane\", \"planet\", \"play\", \"player\", \"please_respond\", \"plot\", \"point\", \"point\", \"point\", \"point\", \"police\", \"popular\", \"port\", \"portal\", \"position\", \"position\", \"position\", \"positively\", \"possibility\", \"post\", \"post\", \"post\", \"post\", \"power\", \"power\", \"power\", \"power\", \"power\", \"power\", \"pp\", \"presence\", \"pretty\", \"prevention\", \"price\", \"primary\", \"printer\", \"privacy\", \"private\", \"private\", \"probably\", \"problem\", \"problem\", \"problem\", \"proceed\", \"processor\", \"production\", \"program\", \"program\", \"programmer\", \"proof\", \"property\", \"proposal\", \"proposal\", \"prove\", \"provision\", \"pub\", \"public\", \"public\", \"public_access\", \"publish\", \"publisher\", \"purpose\", \"put\", \"qualified\", \"quality\", \"question\", \"question\", \"question\", \"question\", \"quick\", \"radiation\", \"radio\", \"ram\", \"rate\", \"rate\", \"rather\", \"rather\", \"re\", \"read\", \"read\", \"read\", \"reality\", \"reality\", \"really\", \"really\", \"reason\", \"reference\", \"reflect\", \"religion\", \"religious\", \"religious\", \"remember\", \"remove\", \"remove\", \"reply\", \"reply\", \"report\", \"report\", \"report\", \"research\", \"resource\", \"responce\", \"restriction\", \"revelation\", \"ride\", \"rider\", \"right\", \"right\", \"right\", \"right\", \"rip\", \"risk\", \"road\", \"road\", \"rocket\", \"role\", \"routine\", \"routine\", \"rsa\", \"rule\", \"run\", \"run\", \"run\", \"runner\", \"russian\", \"s\", \"sabbath\", \"sale\", \"satellite\", \"saturn\", \"say\", \"say\", \"say\", \"say\", \"sc\", \"scale\", \"scan\", \"scare\", \"school\", \"science\", \"scientific\", \"score\", \"screen\", \"script\", \"scsi\", \"season\", \"second_amendment\", \"secrecy\", \"secret\", \"secret\", \"section\", \"secure\", \"security\", \"see\", \"see\", \"self\", \"self\", \"sell\", \"sell\", \"sense\", \"sensor\", \"serdar_argic\", \"serial\", \"serious\", \"server\", \"service\", \"service\", \"set\", \"set\", \"set\", \"seventh\", \"shareware\", \"shuttle\", \"signal\", \"sister\", \"site\", \"size\", \"size\", \"size\", \"size\", \"size\", \"sky\", \"software\", \"solar\", \"soldier\", \"soldier\", \"solid\", \"somehow\", \"soon\", \"source\", \"source\", \"source\", \"source\", \"soviet_union\", \"space\", \"space_station\", \"spacecraft\", \"speak\", \"spec\", \"spectrum\", \"speed\", \"speed\", \"split\", \"sport\", \"sport\", \"star\", \"star\", \"start\", \"stat\", \"state\", \"state\", \"statement\", \"status\", \"stereo\", \"steve\", \"still\", \"strip\", \"study\", \"study\", \"study\", \"study\", \"subscription\", \"sufficient\", \"suggest\", \"suggest\", \"suitable\", \"support\", \"support\", \"support\", \"support\", \"sure\", \"sure\", \"surface\", \"system\", \"system\", \"system\", \"system\", \"take\", \"take\", \"take\", \"talk\", \"tap\", \"tape\", \"tavare\", \"tc\", \"teaching\", \"team\", \"technical\", \"technology\", \"technology\", \"technology\", \"technology\", \"tel_fax\", \"television\", \"tell\", \"tell\", \"terrorism\", \"test\", \"testing\", \"thank\", \"theft\", \"therefore\", \"thermal\", \"thing\", \"thing\", \"think\", \"think\", \"though\", \"time\", \"time\", \"tire\", \"today\", \"today\", \"today\", \"today\", \"top\", \"top\", \"tour\", \"trade\", \"transfer\", \"translate\", \"travel\", \"treat\", \"treat\", \"treat\", \"treatment\", \"treatment\", \"trial\", \"trivial\", \"true\", \"truth\", \"try\", \"try\", \"try\", \"turk\", \"turkish\", \"type\", \"type\", \"typically\", \"understand\", \"unit\", \"united_state\", \"universe\", \"university\", \"unix\", \"unknown\", \"unnecessary\", \"upcoming\", \"upgrade\", \"upper\", \"use\", \"use\", \"use\", \"use\", \"use\", \"user\", \"user\", \"user_interface\", \"value\", \"value\", \"value\", \"variation\", \"ve\", \"vehicle\", \"vendor\", \"vendor\", \"version\", \"version_pl\", \"video\", \"view\", \"view\", \"village\", \"village\", \"violate\", \"violence\", \"visualization\", \"want\", \"want\", \"want\", \"war\", \"warrant\", \"way\", \"way\", \"way\", \"weapon\", \"week\", \"weight\", \"well\", \"well\", \"widget\", \"win\", \"wind\", \"window\", \"wing\", \"wiretap\", \"wiring\", \"withdraw\", \"woman\", \"word\", \"work\", \"work\", \"work\", \"work\", \"workshop\", \"world\", \"world\", \"world\", \"world\", \"write\", \"write\", \"write\", \"year\", \"year\", \"year\", \"year\", \"year\", \"young\", \"young\", \"young\"]}, \"R\": 30, \"lambda.step\": 0.01, \"plot.opts\": {\"xlab\": \"PC1\", \"ylab\": \"PC2\"}, \"topic.order\": [19, 4, 12, 7, 14, 11, 1, 10, 2, 20, 17, 5, 3, 6, 9, 18, 16, 8, 15, 13]};\n",
       "\n",
       "function LDAvis_load_lib(url, callback){\n",
       "  var s = document.createElement('script');\n",
       "  s.src = url;\n",
       "  s.async = true;\n",
       "  s.onreadystatechange = s.onload = callback;\n",
       "  s.onerror = function(){console.warn(\"failed to load library \" + url);};\n",
       "  document.getElementsByTagName(\"head\")[0].appendChild(s);\n",
       "}\n",
       "\n",
       "if(typeof(LDAvis) !== \"undefined\"){\n",
       "   // already loaded: just create the visualization\n",
       "   !function(LDAvis){\n",
       "       new LDAvis(\"#\" + \"ldavis_el7722512795593552403570885\", ldavis_el7722512795593552403570885_data);\n",
       "   }(LDAvis);\n",
       "}else if(typeof define === \"function\" && define.amd){\n",
       "   // require.js is available: use it to load d3/LDAvis\n",
       "   require.config({paths: {d3: \"https://d3js.org/d3.v5\"}});\n",
       "   require([\"d3\"], function(d3){\n",
       "      window.d3 = d3;\n",
       "      LDAvis_load_lib(\"https://cdn.jsdelivr.net/gh/bmabey/pyLDAvis@3.4.0/pyLDAvis/js/ldavis.v3.0.0.js\", function(){\n",
       "        new LDAvis(\"#\" + \"ldavis_el7722512795593552403570885\", ldavis_el7722512795593552403570885_data);\n",
       "      });\n",
       "    });\n",
       "}else{\n",
       "    // require.js not available: dynamically load d3 & LDAvis\n",
       "    LDAvis_load_lib(\"https://d3js.org/d3.v5.js\", function(){\n",
       "         LDAvis_load_lib(\"https://cdn.jsdelivr.net/gh/bmabey/pyLDAvis@3.4.0/pyLDAvis/js/ldavis.v3.0.0.js\", function(){\n",
       "                 new LDAvis(\"#\" + \"ldavis_el7722512795593552403570885\", ldavis_el7722512795593552403570885_data);\n",
       "            })\n",
       "         });\n",
       "}\n",
       "</script>"
      ],
      "text/plain": [
       "PreparedData(topic_coordinates=              x         y  topics  cluster       Freq\n",
       "topic                                                \n",
       "18    -0.336525 -0.053708       1        1  34.414136\n",
       "3     -0.316929 -0.118906       2        1  15.585564\n",
       "11    -0.216782  0.285241       3        1   9.181524\n",
       "6     -0.247088  0.167005       4        1   9.110536\n",
       "13    -0.184110 -0.279649       5        1   7.614201\n",
       "10     0.019302  0.039635       6        1   5.391939\n",
       "0     -0.153915  0.027979       7        1   5.120668\n",
       "9      0.008551 -0.117691       8        1   2.140508\n",
       "1     -0.006924 -0.062102       9        1   2.065624\n",
       "19    -0.038373  0.069504      10        1   1.847958\n",
       "16     0.037562  0.037033      11        1   1.732318\n",
       "4      0.046033 -0.038084      12        1   1.606877\n",
       "2      0.081907  0.028033      13        1   1.237491\n",
       "5      0.118570  0.023863      14        1   1.144337\n",
       "8      0.162686  0.013116      15        1   0.619223\n",
       "17     0.175944 -0.007821      16        1   0.433674\n",
       "15     0.204259 -0.001780      17        1   0.294853\n",
       "7      0.212202 -0.003265      18        1   0.200450\n",
       "14     0.214082 -0.003634      19        1   0.158955\n",
       "12     0.219548 -0.004769      20        1   0.099166, topic_info=              Term          Freq         Total Category  logprob  loglift\n",
       "4399            ax  53235.000000  53235.000000  Default  30.0000  30.0000\n",
       "17            line  17060.000000  17060.000000  Default  29.0000  29.0000\n",
       "208          write  13405.000000  13405.000000  Default  28.0000  28.0000\n",
       "142   organization   9429.000000   9429.000000  Default  27.0000  27.0000\n",
       "45         article   9896.000000   9896.000000  Default  26.0000  26.0000\n",
       "...            ...           ...           ...      ...      ...      ...\n",
       "4946            tv      0.020348      1.258242  Topic20 -11.0492   2.7917\n",
       "6485   advertising      0.020348      1.258227  Topic20 -11.0492   2.7917\n",
       "7775          logo      0.020348      1.258226  Topic20 -11.0492   2.7917\n",
       "7567        circle      0.020348      1.258227  Topic20 -11.0492   2.7917\n",
       "4391             _      0.020348      1.258252  Topic20 -11.0492   2.7916\n",
       "\n",
       "[871 rows x 6 columns], token_table=      Topic      Freq        Term\n",
       "term                             \n",
       "495       9  0.990579    absolute\n",
       "1354      2  0.999138      accept\n",
       "1277     15  0.843121  accessible\n",
       "2283      6  0.995016  accomplish\n",
       "183       1  0.171365     address\n",
       "...     ...       ...         ...\n",
       "40        8  0.002984        year\n",
       "40        9  0.134080        year\n",
       "614       1  0.590721       young\n",
       "614       8  0.374635       young\n",
       "614       9  0.031965       young\n",
       "\n",
       "[1018 rows x 3 columns], R=30, lambda_step=0.01, plot_opts={'xlab': 'PC1', 'ylab': 'PC2'}, topic_order=[19, 4, 12, 7, 14, 11, 1, 10, 2, 20, 17, 5, 3, 6, 9, 18, 16, 8, 15, 13])"
      ]
     },
     "execution_count": 27,
     "metadata": {},
     "output_type": "execute_result"
    }
   ],
   "source": [
    "# Visualize the topics\n",
    "pyLDAvis.enable_notebook()\n",
    "vis = pyLDAvis.gensim.prepare(lda_model, corpus, id2word)\n",
    "vis"
   ]
  },
  {
   "cell_type": "markdown",
   "metadata": {},
   "source": [
    "## Next Steps\n",
    "\n",
    "https://www.machinelearningplus.com/nlp/topic-modeling-gensim-python/"
   ]
  }
 ],
 "metadata": {
  "kernelspec": {
   "display_name": ".venv",
   "language": "python",
   "name": "python3"
  },
  "language_info": {
   "codemirror_mode": {
    "name": "ipython",
    "version": 3
   },
   "file_extension": ".py",
   "mimetype": "text/x-python",
   "name": "python",
   "nbconvert_exporter": "python",
   "pygments_lexer": "ipython3",
   "version": "3.11.3"
  },
  "orig_nbformat": 4
 },
 "nbformat": 4,
 "nbformat_minor": 2
}
