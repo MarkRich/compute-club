{
 "cells": [
  {
   "cell_type": "code",
   "execution_count": 1,
   "metadata": {},
   "outputs": [],
   "source": [
    "import pandas as pd\n",
    "import requests\n",
    "from io import StringIO\n",
    "\n",
    "apple_reviews = '' # get cdn url from the discord\n",
    "google_reviews = ''\n",
    "\n",
    "def read_url_csv(url):\n",
    "    s = requests.get(url).text\n",
    "\n",
    "    data = StringIO(s) \n",
    "    df = pd.read_csv(data)\n",
    "    return df\n",
    "\n",
    "apple_reviews = read_url_csv(apple_reviews)\n",
    "google_reviews = read_url_csv(google_reviews)"
   ]
  },
  {
   "cell_type": "code",
   "execution_count": 2,
   "metadata": {},
   "outputs": [],
   "source": [
    "import pandas as pd\n",
    "\n",
    "apple_reviews.columns\n",
    "\n",
    "# Extract 'content' column from google_reviews and rename it to 'review'\n",
    "google_reviews_subset = google_reviews[['content']].rename(columns={'content': 'review'})\n",
    "\n",
    "# Extract 'review' column from apple_reviews\n",
    "apple_reviews_subset = apple_reviews[['review']]\n",
    "\n",
    "# Concatenate the two dataframes\n",
    "df = pd.concat([google_reviews_subset, apple_reviews_subset], ignore_index=True)\n"
   ]
  },
  {
   "cell_type": "code",
   "execution_count": 3,
   "metadata": {},
   "outputs": [
    {
     "name": "stdout",
     "output_type": "stream",
     "text": [
      "Requirement already satisfied: sentence_transformers in /home/mark/anaconda3/envs/llama_experiments_397/lib/python3.9/site-packages (2.2.2)\n",
      "Requirement already satisfied: torch>=1.6.0 in /home/mark/anaconda3/envs/llama_experiments_397/lib/python3.9/site-packages (from sentence_transformers) (2.0.1)\n",
      "Requirement already satisfied: tqdm in /home/mark/anaconda3/envs/llama_experiments_397/lib/python3.9/site-packages (from sentence_transformers) (4.65.0)\n",
      "Requirement already satisfied: scipy in /home/mark/anaconda3/envs/llama_experiments_397/lib/python3.9/site-packages (from sentence_transformers) (1.11.0)\n",
      "Requirement already satisfied: scikit-learn in /home/mark/anaconda3/envs/llama_experiments_397/lib/python3.9/site-packages (from sentence_transformers) (1.2.2)\n",
      "Requirement already satisfied: sentencepiece in /home/mark/anaconda3/envs/llama_experiments_397/lib/python3.9/site-packages (from sentence_transformers) (0.1.98)\n",
      "Requirement already satisfied: nltk in /home/mark/anaconda3/envs/llama_experiments_397/lib/python3.9/site-packages (from sentence_transformers) (3.8.1)\n",
      "Requirement already satisfied: torchvision in /home/mark/anaconda3/envs/llama_experiments_397/lib/python3.9/site-packages (from sentence_transformers) (0.15.2)\n",
      "Requirement already satisfied: huggingface-hub>=0.4.0 in /home/mark/anaconda3/envs/llama_experiments_397/lib/python3.9/site-packages (from sentence_transformers) (0.13.4)\n",
      "Requirement already satisfied: numpy in /home/mark/anaconda3/envs/llama_experiments_397/lib/python3.9/site-packages (from sentence_transformers) (1.24.2)\n",
      "Requirement already satisfied: transformers<5.0.0,>=4.6.0 in /home/mark/anaconda3/envs/llama_experiments_397/lib/python3.9/site-packages (from sentence_transformers) (4.29.0.dev0)\n",
      "Requirement already satisfied: packaging>=20.9 in /home/mark/anaconda3/envs/llama_experiments_397/lib/python3.9/site-packages (from huggingface-hub>=0.4.0->sentence_transformers) (23.1)\n",
      "Requirement already satisfied: pyyaml>=5.1 in /home/mark/anaconda3/envs/llama_experiments_397/lib/python3.9/site-packages (from huggingface-hub>=0.4.0->sentence_transformers) (6.0)\n",
      "Requirement already satisfied: requests in /home/mark/anaconda3/envs/llama_experiments_397/lib/python3.9/site-packages (from huggingface-hub>=0.4.0->sentence_transformers) (2.28.2)\n",
      "Requirement already satisfied: typing-extensions>=3.7.4.3 in /home/mark/anaconda3/envs/llama_experiments_397/lib/python3.9/site-packages (from huggingface-hub>=0.4.0->sentence_transformers) (4.5.0)\n",
      "Requirement already satisfied: filelock in /home/mark/anaconda3/envs/llama_experiments_397/lib/python3.9/site-packages (from huggingface-hub>=0.4.0->sentence_transformers) (3.11.0)\n",
      "Requirement already satisfied: nvidia-cusparse-cu11==11.7.4.91 in /home/mark/anaconda3/envs/llama_experiments_397/lib/python3.9/site-packages (from torch>=1.6.0->sentence_transformers) (11.7.4.91)\n",
      "Requirement already satisfied: nvidia-nvtx-cu11==11.7.91 in /home/mark/anaconda3/envs/llama_experiments_397/lib/python3.9/site-packages (from torch>=1.6.0->sentence_transformers) (11.7.91)\n",
      "Requirement already satisfied: sympy in /home/mark/anaconda3/envs/llama_experiments_397/lib/python3.9/site-packages (from torch>=1.6.0->sentence_transformers) (1.11.1)\n",
      "Requirement already satisfied: nvidia-cudnn-cu11==8.5.0.96 in /home/mark/anaconda3/envs/llama_experiments_397/lib/python3.9/site-packages (from torch>=1.6.0->sentence_transformers) (8.5.0.96)\n",
      "Requirement already satisfied: networkx in /home/mark/anaconda3/envs/llama_experiments_397/lib/python3.9/site-packages (from torch>=1.6.0->sentence_transformers) (3.1)\n",
      "Requirement already satisfied: nvidia-cuda-cupti-cu11==11.7.101 in /home/mark/anaconda3/envs/llama_experiments_397/lib/python3.9/site-packages (from torch>=1.6.0->sentence_transformers) (11.7.101)\n",
      "Requirement already satisfied: nvidia-curand-cu11==10.2.10.91 in /home/mark/anaconda3/envs/llama_experiments_397/lib/python3.9/site-packages (from torch>=1.6.0->sentence_transformers) (10.2.10.91)\n",
      "Requirement already satisfied: nvidia-cuda-nvrtc-cu11==11.7.99 in /home/mark/anaconda3/envs/llama_experiments_397/lib/python3.9/site-packages (from torch>=1.6.0->sentence_transformers) (11.7.99)\n",
      "Requirement already satisfied: nvidia-cusolver-cu11==11.4.0.1 in /home/mark/anaconda3/envs/llama_experiments_397/lib/python3.9/site-packages (from torch>=1.6.0->sentence_transformers) (11.4.0.1)\n",
      "Requirement already satisfied: nvidia-nccl-cu11==2.14.3 in /home/mark/anaconda3/envs/llama_experiments_397/lib/python3.9/site-packages (from torch>=1.6.0->sentence_transformers) (2.14.3)\n",
      "Requirement already satisfied: triton==2.0.0 in /home/mark/anaconda3/envs/llama_experiments_397/lib/python3.9/site-packages (from torch>=1.6.0->sentence_transformers) (2.0.0)\n",
      "Requirement already satisfied: nvidia-cufft-cu11==10.9.0.58 in /home/mark/anaconda3/envs/llama_experiments_397/lib/python3.9/site-packages (from torch>=1.6.0->sentence_transformers) (10.9.0.58)\n",
      "Requirement already satisfied: nvidia-cuda-runtime-cu11==11.7.99 in /home/mark/anaconda3/envs/llama_experiments_397/lib/python3.9/site-packages (from torch>=1.6.0->sentence_transformers) (11.7.99)\n",
      "Requirement already satisfied: nvidia-cublas-cu11==11.10.3.66 in /home/mark/anaconda3/envs/llama_experiments_397/lib/python3.9/site-packages (from torch>=1.6.0->sentence_transformers) (11.10.3.66)\n",
      "Requirement already satisfied: jinja2 in /home/mark/anaconda3/envs/llama_experiments_397/lib/python3.9/site-packages (from torch>=1.6.0->sentence_transformers) (3.1.2)\n",
      "Requirement already satisfied: wheel in /home/mark/anaconda3/envs/llama_experiments_397/lib/python3.9/site-packages (from nvidia-cublas-cu11==11.10.3.66->torch>=1.6.0->sentence_transformers) (0.38.4)\n",
      "Requirement already satisfied: setuptools in /home/mark/anaconda3/envs/llama_experiments_397/lib/python3.9/site-packages (from nvidia-cublas-cu11==11.10.3.66->torch>=1.6.0->sentence_transformers) (65.6.3)\n",
      "Requirement already satisfied: lit in /home/mark/anaconda3/envs/llama_experiments_397/lib/python3.9/site-packages (from triton==2.0.0->torch>=1.6.0->sentence_transformers) (16.0.1)\n",
      "Requirement already satisfied: cmake in /home/mark/anaconda3/envs/llama_experiments_397/lib/python3.9/site-packages (from triton==2.0.0->torch>=1.6.0->sentence_transformers) (3.26.3)\n",
      "Requirement already satisfied: regex!=2019.12.17 in /home/mark/anaconda3/envs/llama_experiments_397/lib/python3.9/site-packages (from transformers<5.0.0,>=4.6.0->sentence_transformers) (2023.3.23)\n",
      "Requirement already satisfied: tokenizers!=0.11.3,<0.14,>=0.11.1 in /home/mark/anaconda3/envs/llama_experiments_397/lib/python3.9/site-packages (from transformers<5.0.0,>=4.6.0->sentence_transformers) (0.13.3)\n",
      "Requirement already satisfied: joblib in /home/mark/anaconda3/envs/llama_experiments_397/lib/python3.9/site-packages (from nltk->sentence_transformers) (1.2.0)\n",
      "Requirement already satisfied: click in /home/mark/anaconda3/envs/llama_experiments_397/lib/python3.9/site-packages (from nltk->sentence_transformers) (8.1.3)\n",
      "Requirement already satisfied: threadpoolctl>=2.0.0 in /home/mark/anaconda3/envs/llama_experiments_397/lib/python3.9/site-packages (from scikit-learn->sentence_transformers) (3.1.0)\n",
      "Requirement already satisfied: pillow!=8.3.*,>=5.3.0 in /home/mark/anaconda3/envs/llama_experiments_397/lib/python3.9/site-packages (from torchvision->sentence_transformers) (9.5.0)\n",
      "Requirement already satisfied: MarkupSafe>=2.0 in /home/mark/anaconda3/envs/llama_experiments_397/lib/python3.9/site-packages (from jinja2->torch>=1.6.0->sentence_transformers) (2.1.2)\n",
      "Requirement already satisfied: urllib3<1.27,>=1.21.1 in /home/mark/anaconda3/envs/llama_experiments_397/lib/python3.9/site-packages (from requests->huggingface-hub>=0.4.0->sentence_transformers) (1.26.15)\n",
      "Requirement already satisfied: idna<4,>=2.5 in /home/mark/anaconda3/envs/llama_experiments_397/lib/python3.9/site-packages (from requests->huggingface-hub>=0.4.0->sentence_transformers) (3.4)\n",
      "Requirement already satisfied: certifi>=2017.4.17 in /home/mark/anaconda3/envs/llama_experiments_397/lib/python3.9/site-packages (from requests->huggingface-hub>=0.4.0->sentence_transformers) (2022.12.7)\n",
      "Requirement already satisfied: charset-normalizer<4,>=2 in /home/mark/anaconda3/envs/llama_experiments_397/lib/python3.9/site-packages (from requests->huggingface-hub>=0.4.0->sentence_transformers) (3.1.0)\n",
      "Requirement already satisfied: mpmath>=0.19 in /home/mark/anaconda3/envs/llama_experiments_397/lib/python3.9/site-packages (from sympy->torch>=1.6.0->sentence_transformers) (1.3.0)\n",
      "Note: you may need to restart the kernel to use updated packages.\n"
     ]
    },
    {
     "data": {
      "application/vnd.jupyter.widget-view+json": {
       "model_id": "ac638c7637fc458db53aa3b091dc989c",
       "version_major": 2,
       "version_minor": 0
      },
      "text/plain": [
       "Batches:   0%|          | 0/442 [00:00<?, ?it/s]"
      ]
     },
     "metadata": {},
     "output_type": "display_data"
    }
   ],
   "source": [
    "%pip install -U sentence_transformers\n",
    "from sentence_transformers import SentenceTransformer\n",
    "import pandas as pd\n",
    "model = SentenceTransformer('all-mpnet-base-v2').to('cuda')\n",
    "sentence_embeddings = model.encode(list(df['review']), show_progress_bar=True)"
   ]
  },
  {
   "cell_type": "code",
   "execution_count": 4,
   "metadata": {},
   "outputs": [],
   "source": [
    "#%pip install MulticoreTSNE\n",
    "from MulticoreTSNE import MulticoreTSNE as TSNE\n",
    "import re \n",
    "\n",
    "tsne = TSNE(n_jobs=4, perplexity=50)\n",
    "Y = tsne.fit_transform(sentence_embeddings)\n",
    "df['reduced_dimension_embedding_1'] = Y[:,0]\n",
    "df['reduced_dimension_embedding_2'] = Y[:,1]"
   ]
  },
  {
   "cell_type": "code",
   "execution_count": null,
   "metadata": {},
   "outputs": [],
   "source": [
    "import altair as alt \n",
    "# plot a scatterplot using altair\n",
    "alt.data_transformers.disable_max_rows()\n",
    "chart = alt.Chart(df).mark_circle(size=20).encode(\n",
    "  x=alt.X('reduced_dimension_embedding_1', axis=alt.Axis(title='', grid=False)),\n",
    "  y=alt.Y('reduced_dimension_embedding_2', axis=alt.Axis(title='', grid=False)),\n",
    "  tooltip=['review']\n",
    ").properties(\n",
    "    width=512,\n",
    "    height=512\n",
    ").interactive()\n",
    "chart"
   ]
  },
  {
   "cell_type": "code",
   "execution_count": 8,
   "metadata": {},
   "outputs": [],
   "source": [
    "chart.save('clustering_reviews.html')"
   ]
  }
 ],
 "metadata": {
  "kernelspec": {
   "display_name": "llama_experiments_397",
   "language": "python",
   "name": "llama_experiments_397"
  },
  "language_info": {
   "codemirror_mode": {
    "name": "ipython",
    "version": 3
   },
   "file_extension": ".py",
   "mimetype": "text/x-python",
   "name": "python",
   "nbconvert_exporter": "python",
   "pygments_lexer": "ipython3",
   "version": "3.9.7"
  }
 },
 "nbformat": 4,
 "nbformat_minor": 4
}
